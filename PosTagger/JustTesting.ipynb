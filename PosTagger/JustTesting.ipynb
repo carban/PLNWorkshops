{
 "cells": [
  {
   "cell_type": "code",
   "execution_count": 1,
   "metadata": {},
   "outputs": [
    {
     "name": "stdout",
     "output_type": "stream",
     "text": [
      "\u001b[33mDEPRECATION: Python 2.7 reached the end of its life on January 1st, 2020. Please upgrade your Python as Python 2.7 is no longer maintained. A future version of pip will drop support for Python 2.7. More details about Python 2 support in pip, can be found at https://pip.pypa.io/en/latest/development/release-process/#python-2-support\u001b[0m\n",
      "Defaulting to user installation because normal site-packages is not writeable\n",
      "Collecting git+https://www.github.com/keras-team/keras-contrib.git\n",
      "  Cloning https://www.github.com/keras-team/keras-contrib.git to /tmp/pip-req-build-54pyAb\n",
      "  Running command git clone -q https://www.github.com/keras-team/keras-contrib.git /tmp/pip-req-build-54pyAb\n",
      "Requirement already satisfied (use --upgrade to upgrade): keras-contrib==2.0.8 from git+https://www.github.com/keras-team/keras-contrib.git in /home/carban/.local/lib/python2.7/site-packages\n",
      "Requirement already satisfied: keras in /usr/local/lib/python2.7/dist-packages (from keras-contrib==2.0.8) (2.2.5)\n",
      "Requirement already satisfied: keras-preprocessing>=1.1.0 in /usr/local/lib/python2.7/dist-packages (from keras->keras-contrib==2.0.8) (1.1.0)\n",
      "Requirement already satisfied: six>=1.9.0 in /home/carban/.local/lib/python2.7/site-packages (from keras->keras-contrib==2.0.8) (1.11.0)\n",
      "Requirement already satisfied: keras-applications>=1.0.8 in /usr/local/lib/python2.7/dist-packages (from keras->keras-contrib==2.0.8) (1.0.8)\n",
      "Requirement already satisfied: pyyaml in /usr/local/lib/python2.7/dist-packages (from keras->keras-contrib==2.0.8) (5.1.2)\n",
      "Requirement already satisfied: h5py in /usr/local/lib/python2.7/dist-packages (from keras->keras-contrib==2.0.8) (2.10.0)\n",
      "Requirement already satisfied: scipy>=0.14 in /home/carban/.local/lib/python2.7/site-packages (from keras->keras-contrib==2.0.8) (1.0.1)\n",
      "Requirement already satisfied: numpy>=1.9.1 in /usr/local/lib/python2.7/dist-packages (from keras->keras-contrib==2.0.8) (1.16.5)\n",
      "Building wheels for collected packages: keras-contrib\n",
      "  Building wheel for keras-contrib (setup.py) ... \u001b[?25ldone\n",
      "\u001b[?25h  Created wheel for keras-contrib: filename=keras_contrib-2.0.8-py2-none-any.whl size=101242 sha256=fb79f0f1948c607805e967f6ef2f7c485d8e8a3f9d7cc3b0ee9f6877e04c7596\n",
      "  Stored in directory: /tmp/pip-ephem-wheel-cache-ui5DTt/wheels/01/13/3c/1a4c38dba71a3597ef663a08c235d39dbae6404208a447ced0\n",
      "Successfully built keras-contrib\n",
      "\u001b[33mWARNING: You are using pip version 20.0.2; however, version 20.1.1 is available.\n",
      "You should consider upgrading via the '/usr/bin/python -m pip install --upgrade pip' command.\u001b[0m\n"
     ]
    }
   ],
   "source": [
    "!pip install git+https://www.github.com/keras-team/keras-contrib.git"
   ]
  },
  {
   "cell_type": "code",
   "execution_count": 2,
   "metadata": {},
   "outputs": [
    {
     "name": "stderr",
     "output_type": "stream",
     "text": [
      "Using TensorFlow backend.\n"
     ]
    },
    {
     "name": "stdout",
     "output_type": "stream",
     "text": [
      "WARNING:tensorflow:From /usr/local/lib/python2.7/dist-packages/keras/backend/tensorflow_backend.py:66: The name tf.get_default_graph is deprecated. Please use tf.compat.v1.get_default_graph instead.\n",
      "\n",
      "WARNING:tensorflow:From /usr/local/lib/python2.7/dist-packages/keras/backend/tensorflow_backend.py:541: The name tf.placeholder is deprecated. Please use tf.compat.v1.placeholder instead.\n",
      "\n",
      "WARNING:tensorflow:From /usr/local/lib/python2.7/dist-packages/keras/backend/tensorflow_backend.py:4432: The name tf.random_uniform is deprecated. Please use tf.random.uniform instead.\n",
      "\n",
      "WARNING:tensorflow:From /usr/local/lib/python2.7/dist-packages/keras/backend/tensorflow_backend.py:4479: The name tf.truncated_normal is deprecated. Please use tf.random.truncated_normal instead.\n",
      "\n",
      "WARNING:tensorflow:From /usr/local/lib/python2.7/dist-packages/keras/backend/tensorflow_backend.py:148: The name tf.placeholder_with_default is deprecated. Please use tf.compat.v1.placeholder_with_default instead.\n",
      "\n",
      "WARNING:tensorflow:From /usr/local/lib/python2.7/dist-packages/keras/backend/tensorflow_backend.py:3733: calling dropout (from tensorflow.python.ops.nn_ops) with keep_prob is deprecated and will be removed in a future version.\n",
      "Instructions for updating:\n",
      "Please use `rate` instead of `keep_prob`. Rate should be set to `rate = 1 - keep_prob`.\n",
      "WARNING:tensorflow:From /usr/local/lib/python2.7/dist-packages/keras/optimizers.py:793: The name tf.train.Optimizer is deprecated. Please use tf.compat.v1.train.Optimizer instead.\n",
      "\n",
      "WARNING:tensorflow:From /usr/local/lib/python2.7/dist-packages/tensorflow/python/ops/math_ops.py:2403: where (from tensorflow.python.ops.array_ops) is deprecated and will be removed in a future version.\n",
      "Instructions for updating:\n",
      "Use tf.where in 2.0, which has the same broadcast rule as np.where\n"
     ]
    },
    {
     "name": "stderr",
     "output_type": "stream",
     "text": [
      "/home/carban/.local/lib/python2.7/site-packages/keras_contrib/layers/crf.py:346: UserWarning: CRF.loss_function is deprecated and it might be removed in the future. Please use losses.crf_loss instead.\n",
      "  warnings.warn('CRF.loss_function is deprecated '\n",
      "/home/carban/.local/lib/python2.7/site-packages/keras_contrib/layers/crf.py:353: UserWarning: CRF.accuracy is deprecated and it might be removed in the future. Please use metrics.crf_accuracy\n",
      "  warnings.warn('CRF.accuracy is deprecated and it '\n"
     ]
    },
    {
     "name": "stdout",
     "output_type": "stream",
     "text": [
      "Model: \"model_1\"\n",
      "_________________________________________________________________\n",
      "Layer (type)                 Output Shape              Param #   \n",
      "=================================================================\n",
      "input_1 (InputLayer)         (None, 149)               0         \n",
      "_________________________________________________________________\n",
      "embedding_1 (Embedding)      (None, 149, 300)          7349700   \n",
      "_________________________________________________________________\n",
      "bidirectional_1 (Bidirection (None, 149, 600)          1442400   \n",
      "_________________________________________________________________\n",
      "lstm_2 (LSTM)                (None, 149, 600)          2882400   \n",
      "_________________________________________________________________\n",
      "time_distributed_1 (TimeDist (None, 149, 291)          174891    \n",
      "_________________________________________________________________\n",
      "crf_1 (CRF)                  (None, 149, 291)          170235    \n",
      "=================================================================\n",
      "Total params: 12,019,626\n",
      "Trainable params: 12,019,626\n",
      "Non-trainable params: 0\n",
      "_________________________________________________________________\n"
     ]
    }
   ],
   "source": [
    "from keras.models import Model, Input\n",
    "from keras.layers import LSTM, Embedding, Dense, TimeDistributed, Dropout, Bidirectional\n",
    "import keras as k\n",
    "from keras_contrib.layers import CRF\n",
    "import numpy as np\n",
    "import pickle\n",
    "\n",
    "word2index = np.load('word2index.npy', allow_pickle=True)\n",
    "tag2index = np.load('tag2index.npy', allow_pickle=True)\n",
    "\n",
    "MAX_LENGTH = 149\n",
    "\n",
    "input = Input(shape=(MAX_LENGTH,))\n",
    "word_embedding_size = 300\n",
    "\n",
    "# Embedding Layer\n",
    "model = Embedding(input_dim=len(word2index), output_dim=word_embedding_size, input_length=MAX_LENGTH)(input)\n",
    "\n",
    "# BI-LSTM Layer\n",
    "model = Bidirectional(LSTM(units=word_embedding_size, \n",
    "                           return_sequences=True, \n",
    "                           dropout=0.5, \n",
    "                           recurrent_dropout=0.5, \n",
    "                           kernel_initializer=k.initializers.he_normal()))(model)\n",
    "model = LSTM(units=word_embedding_size * 2, \n",
    "             return_sequences=True, \n",
    "             dropout=0.5, \n",
    "             recurrent_dropout=0.5, \n",
    "             kernel_initializer=k.initializers.he_normal())(model)\n",
    "\n",
    "# TimeDistributed Layer\n",
    "model = TimeDistributed(Dense(len(tag2index), activation=\"relu\"))(model)  \n",
    "\n",
    "# CRF Layer\n",
    "crf = CRF(len(tag2index))\n",
    "\n",
    "out = crf(model)  # output\n",
    "model = Model(input, out)\n",
    "\n",
    "\n",
    "#Optimiser \n",
    "adam = k.optimizers.Adam(lr=0.0005, beta_1=0.9, beta_2=0.999)\n",
    "\n",
    "# Compile model\n",
    "model.compile(optimizer=adam, loss=crf.loss_function, metrics=[crf.accuracy, 'accuracy'])\n",
    "model.summary()"
   ]
  },
  {
   "cell_type": "code",
   "execution_count": 3,
   "metadata": {},
   "outputs": [],
   "source": [
    "model.load_weights('mb-full.h5')"
   ]
  },
  {
   "cell_type": "markdown",
   "metadata": {},
   "source": [
    "# Precision"
   ]
  },
  {
   "cell_type": "code",
   "execution_count": 4,
   "metadata": {},
   "outputs": [],
   "source": [
    "# scores = model.evaluate(test_sentences_X, cat_test_tags_y)\n",
    "# print(scores[1] * 100)   # acc: 97.66269326210022"
   ]
  },
  {
   "cell_type": "code",
   "execution_count": 5,
   "metadata": {},
   "outputs": [],
   "source": [
    "# import matplotlib.pyplot as plt\n",
    "\n",
    "# def plot_model_performance(train_loss, train_acc, train_val_loss, train_val_acc):\n",
    "#     \"\"\" Plot model loss and accuracy through epochs. \"\"\"\n",
    "#     blue= '#34495E'\n",
    "#     green = '#2ECC71'\n",
    "#     orange = '#E23B13'\n",
    "    \n",
    "#     # plot model loss\n",
    "#     fig, (ax1, ax2) = plt.subplots(2, figsize=(10, 8))\n",
    "#     ax1.plot(range(1, len(train_loss) + 1), train_loss, blue, linewidth=5, label='training')\n",
    "#     ax1.plot(range(1, len(train_val_loss) + 1), train_val_loss, green, linewidth=5, label='validation')\n",
    "#     ax1.set_xlabel('# epoch')\n",
    "#     ax1.set_ylabel('loss')\n",
    "#     ax1.tick_params('y')\n",
    "#     ax1.legend(loc='upper right', shadow=False)\n",
    "#     ax1.set_title('Model loss through #epochs', color=orange, fontweight='bold')\n",
    "    \n",
    "#     # plot model accuracy\n",
    "#     ax2.plot(range(1, len(train_acc) + 1), train_acc, blue, linewidth=5, label='training')\n",
    "#     ax2.plot(range(1, len(train_val_acc) + 1), train_val_acc, green, linewidth=5, label='validation')\n",
    "#     ax2.set_xlabel('# epoch')\n",
    "#     ax2.set_ylabel('accuracy')\n",
    "#     ax2.tick_params('y')\n",
    "#     ax2.legend(loc='lower right', shadow=False)\n",
    "#     ax2.set_title('Model accuracy through #epochs', color=orange, fontweight='bold')\n",
    "    \n",
    "#     # fig.savefig('Plot/training/training-mb-13.png', bbox_inches='tight')"
   ]
  },
  {
   "cell_type": "code",
   "execution_count": 6,
   "metadata": {},
   "outputs": [],
   "source": [
    "# plot_model_performance(\n",
    "#     train_loss=model.history.get('loss', []),\n",
    "#     train_acc=model.history.get('crf_viterbi_accuracy', []),\n",
    "#     train_val_loss=model.history.get('val_loss', []),\n",
    "#     train_val_acc=model.history.get('val_crf_viterbi_accuracy', [])\n",
    "# )"
   ]
  },
  {
   "cell_type": "markdown",
   "metadata": {},
   "source": [
    "# Example"
   ]
  },
  {
   "cell_type": "code",
   "execution_count": 7,
   "metadata": {},
   "outputs": [],
   "source": [
    "#ESTA FUNCION RECIBE EN sequences LA LISTA DE ORACIONES DONDE CADA ELEMENTO DE LA ORACION ES UN ONE HOT VECTOR\n",
    "def logits_to_tokens(sequences, index):\n",
    "    token_sequences = []\n",
    "    for categorical_sequence in sequences:\n",
    "        token_sequence = []\n",
    "        for categorical in categorical_sequence:\n",
    "            token_sequence.append(index[np.argmax(categorical)])\n",
    " \n",
    "        token_sequences.append(token_sequence)\n",
    " \n",
    "    return token_sequences"
   ]
  },
  {
   "cell_type": "code",
   "execution_count": 8,
   "metadata": {},
   "outputs": [],
   "source": [
    "from keras.preprocessing.sequence import pad_sequences\n",
    "from tabulate import tabulate\n",
    "import sentencepiece as sp\n",
    "\n",
    "\n",
    "\n",
    "def PosTag(test_samples):\n",
    "    \n",
    "    # spliting by dot     \n",
    "    test_samples = test_samples.split(\".\")\n",
    "    \n",
    "    # spliting by word using SENTENCEPIECE\n",
    "    spp = sp.SentencePieceProcessor()\n",
    "    spp.load(\"m_word.model\")\n",
    "    \n",
    "    \n",
    "    for i in range(len(test_samples)):\n",
    "        response = spp.encode_as_pieces(test_samples[i])\n",
    "        for j in range(len(response)):\n",
    "            response[j] = response[j].replace(\"▁\",\"\")\n",
    "   \n",
    "        test_samples[i] = response\n",
    "    \n",
    "    test_samples_X = []\n",
    "    \n",
    "    # Normalize with sentence length\n",
    "    for s in test_samples:\n",
    "        s_int = []\n",
    "        for w in s:\n",
    "            try:\n",
    "                s_int.append(word2index[w.lower()])\n",
    "            except KeyError:\n",
    "                s_int.append(word2index['-OOV-'])\n",
    "        test_samples_X.append(s_int)\n",
    "\n",
    "    test_samples_X = pad_sequences(test_samples_X, maxlen=MAX_LENGTH, padding='post')\n",
    "    \n",
    "    #Predicting\n",
    "    predictions = model.predict(test_samples_X)\n",
    "    \n",
    "    #Formating tags\n",
    "    log_tokens = logits_to_tokens(predictions, {i: t for t, i in tag2index.items()})\n",
    "    \n",
    "    #Output     \n",
    "    for i in range(len(test_samples)):\n",
    "        head = test_samples[i]\n",
    "        body = [log_tokens[i][:len(test_samples[i])]]\n",
    "        print(tabulate(body, headers=head))\n",
    "        print (\"\\n\")\n",
    "    "
   ]
  },
  {
   "cell_type": "code",
   "execution_count": 9,
   "metadata": {},
   "outputs": [],
   "source": [
    "## postagging Freeling 4.1\n",
    "\n",
    "## El      hombre   bajo     corre    bajo  el      puente   con  bajo  índice   de  adrenalina  .\n",
    "## DA0MS0  NCMS000  AQ0MS00  VMIP3S0  SP    DA0MS0  NCMS000  SP   SP    NCMS000  SP  NCFS000     Fp\n",
    "\n",
    "\n",
    "## pos tagger Stanford NLP\n",
    "\n",
    "## El      hombre   bajo     corre    bajo  el      puente   con    bajo   índice  de    adrenalina  .\n",
    "## da0000  nc0s000  aq0000   vmip000  sp000 da0000  nc0s000  sp000  aq0000 nc0s000 sp000 nc0s000     fp"
   ]
  },
  {
   "cell_type": "code",
   "execution_count": 10,
   "metadata": {},
   "outputs": [
    {
     "name": "stdout",
     "output_type": "stream",
     "text": [
      "Correr    es       importante    para    mi\n",
      "--------  -------  ------------  ------  ------\n",
      "da0fp0    vsip3s0  aq0cs0        sps00   aq0fs0\n",
      "\n",
      "\n",
      "El      hombre    bajo    corre    bajo    el      puente    con    bajo    indice    de     adrenalina\n",
      "------  --------  ------  -------  ------  ------  --------  -----  ------  --------  -----  ------------\n",
      "da0ms0  ncms000   sps00   vmip3s0  sps00   da0ms0  ncms000   sps00  sps00   np0000a   sps00  Fp\n",
      "\n",
      "\n"
     ]
    }
   ],
   "source": [
    "PosTag(\"Correr es importante para mi. El hombre bajo corre bajo el puente con bajo indice de adrenalina\")"
   ]
  },
  {
   "cell_type": "code",
   "execution_count": 15,
   "metadata": {},
   "outputs": [
    {
     "name": "stdout",
     "output_type": "stream",
     "text": [
      "Ella    es       muy    bonita\n",
      "------  -------  -----  --------\n",
      "rg      vsip3s0  rg     Fp\n",
      "\n",
      "\n",
      "El      esta    corriendo    por    la      playa\n",
      "------  ------  -----------  -----  ------  -------\n",
      "da0ms0  dd0fs0  np0000l      sps00  da0fs0  ncfs000\n",
      "\n",
      "\n"
     ]
    }
   ],
   "source": [
    "PosTag(\"Ella es muy bonita. El esta corriendo por la playa\")"
   ]
  },
  {
   "cell_type": "code",
   "execution_count": null,
   "metadata": {},
   "outputs": [],
   "source": []
  }
 ],
 "metadata": {
  "kernelspec": {
   "display_name": "Python 3",
   "language": "python",
   "name": "python3"
  },
  "language_info": {
   "codemirror_mode": {
    "name": "ipython",
    "version": 2
   },
   "file_extension": ".py",
   "mimetype": "text/x-python",
   "name": "python",
   "nbconvert_exporter": "python",
   "pygments_lexer": "ipython2",
   "version": "2.7.17"
  }
 },
 "nbformat": 4,
 "nbformat_minor": 2
}
