{
 "cells": [
  {
   "cell_type": "code",
   "execution_count": 1,
   "metadata": {},
   "outputs": [],
   "source": [
    "import numpy as np"
   ]
  },
  {
   "cell_type": "code",
   "execution_count": 2,
   "metadata": {},
   "outputs": [],
   "source": [
    "# Custom function for print a sentence\n",
    "def goodPrint(a):\n",
    "    x = \"\"\n",
    "    for i in range(len(a)):\n",
    "        x += a[i]+\" \"\n",
    "    return x"
   ]
  },
  {
   "cell_type": "markdown",
   "metadata": {},
   "source": [
    "## Downloading nltk corpus"
   ]
  },
  {
   "cell_type": "code",
   "execution_count": 3,
   "metadata": {},
   "outputs": [
    {
     "name": "stderr",
     "output_type": "stream",
     "text": [
      "[nltk_data] Downloading package cess_esp to /home/carban/nltk_data...\n",
      "[nltk_data]   Package cess_esp is already up-to-date!\n"
     ]
    },
    {
     "data": {
      "text/plain": [
       "True"
      ]
     },
     "execution_count": 3,
     "metadata": {},
     "output_type": "execute_result"
    }
   ],
   "source": [
    "import nltk\n",
    "nltk.download('cess_esp')"
   ]
  },
  {
   "cell_type": "code",
   "execution_count": 4,
   "metadata": {},
   "outputs": [],
   "source": [
    "from nltk.corpus import cess_esp\n",
    "\n",
    "tagged_sentences = cess_esp.tagged_sents()"
   ]
  },
  {
   "cell_type": "markdown",
   "metadata": {},
   "source": [
    "## We get a corpus with sentences and the tag for each word"
   ]
  },
  {
   "cell_type": "code",
   "execution_count": 5,
   "metadata": {},
   "outputs": [
    {
     "name": "stdout",
     "output_type": "stream",
     "text": [
      "[(u'El', u'da0ms0'), (u'grupo', u'ncms000'), (u'estatal', u'aq0cs0'), (u'Electricit\\xe9_de_France', u'np00000'), (u'-Fpa-', u'Fpa'), (u'EDF', u'np00000'), (u'-Fpt-', u'Fpt'), (u'anunci\\xf3', u'vmis3s0'), (u'hoy', u'rg'), (u',', u'Fc'), (u'jueves', u'W'), (u',', u'Fc'), (u'la', u'da0fs0'), (u'compra', u'ncfs000'), (u'del', u'spcms'), (u'51_por_ciento', u'Zp'), (u'de', u'sps00'), (u'la', u'da0fs0'), (u'empresa', u'ncfs000'), (u'mexicana', u'aq0fs0'), (u'Electricidad_\\xc1guila_de_Altamira', u'np00000'), (u'-Fpa-', u'Fpa'), (u'EAA', u'np00000'), (u'-Fpt-', u'Fpt'), (u',', u'Fc'), (u'creada', u'aq0fsp'), (u'por', u'sps00'), (u'el', u'da0ms0'), (u'japon\\xe9s', u'aq0ms0'), (u'Mitsubishi_Corporation', u'np00000'), (u'para', u'sps00'), (u'poner_en_marcha', u'vmn0000'), (u'una', u'di0fs0'), (u'central', u'ncfs000'), (u'de', u'sps00'), (u'gas', u'ncms000'), (u'de', u'sps00'), (u'495', u'Z'), (u'megavatios', u'ncmp000'), (u'.', u'Fp')]\n",
      "==========================\n",
      "('Tagged sentences: ', 6030)\n",
      "('Tagged words:', 192685)\n"
     ]
    }
   ],
   "source": [
    "print(tagged_sentences[0])\n",
    "print(\"==========================\")\n",
    "print(\"Tagged sentences: \", len(tagged_sentences))\n",
    "print(\"Tagged words:\", len(cess_esp.tagged_words()))"
   ]
  },
  {
   "cell_type": "markdown",
   "metadata": {},
   "source": [
    "## Splitting Sentence and tag inside two different arrays, later write 2 files for the 2 arrays"
   ]
  },
  {
   "cell_type": "code",
   "execution_count": 6,
   "metadata": {},
   "outputs": [],
   "source": [
    "import numpy as np\n",
    "import pickle\n",
    "\n",
    "sentences, tagss = [], []\n",
    "for tagged_sentence in tagged_sentences:\n",
    "    sentence, tags = zip(*tagged_sentence)\n",
    "    sentences.append(np.array(sentence))\n",
    "    tagss.append(np.array(tags))\n",
    "    \n",
    "# with open(\"sentences.txt\", \"wb\") as fp:\n",
    "#     pickle.dump(sentences, fp)\n",
    "    \n",
    "# with open(\"tags.txt\", \"wb\") as fp:\n",
    "#     pickle.dump(tagss, fp)"
   ]
  },
  {
   "cell_type": "markdown",
   "metadata": {},
   "source": [
    "## Printing a sample of the arrays"
   ]
  },
  {
   "cell_type": "code",
   "execution_count": 7,
   "metadata": {},
   "outputs": [
    {
     "name": "stdout",
     "output_type": "stream",
     "text": [
      "6030\n",
      "\n",
      "Words on the first sentence: 40\n",
      "\n",
      "El grupo estatal Electricité_de_France -Fpa- EDF -Fpt- anunció hoy , jueves , la compra del 51_por_ciento de la empresa mexicana Electricidad_Águila_de_Altamira -Fpa- EAA -Fpt- , creada por el japonés Mitsubishi_Corporation para poner_en_marcha una central de gas de 495 megavatios . \n",
      "\n",
      "tags of the first sentence: 40\n",
      "\n",
      "[u'da0ms0' u'ncms000' u'aq0cs0' u'np00000' u'Fpa' u'np00000' u'Fpt'\n",
      " u'vmis3s0' u'rg' u'Fc' u'W' u'Fc' u'da0fs0' u'ncfs000' u'spcms' u'Zp'\n",
      " u'sps00' u'da0fs0' u'ncfs000' u'aq0fs0' u'np00000' u'Fpa' u'np00000'\n",
      " u'Fpt' u'Fc' u'aq0fsp' u'sps00' u'da0ms0' u'aq0ms0' u'np00000' u'sps00'\n",
      " u'vmn0000' u'di0fs0' u'ncfs000' u'sps00' u'ncms000' u'sps00' u'Z'\n",
      " u'ncmp000' u'Fp']\n"
     ]
    }
   ],
   "source": [
    "print(str(len(sentences)) + \"\\n\")\n",
    "print(\"Words on the first sentence: \"+str(len(sentences[0])))+\"\\n\"\n",
    "print(goodPrint(sentences[0])+ \"\\n\")\n",
    "print(\"tags of the first sentence: \"+str(len(tagss[0])))+\"\\n\"\n",
    "print(tagss[0])"
   ]
  },
  {
   "cell_type": "markdown",
   "metadata": {},
   "source": [
    "## Percentages for training and testing"
   ]
  },
  {
   "cell_type": "code",
   "execution_count": 8,
   "metadata": {},
   "outputs": [],
   "source": [
    "from sklearn.model_selection import train_test_split\n",
    " \n",
    "(training_sentences, \n",
    " test_sentences, \n",
    " training_tags, \n",
    " test_tags) = train_test_split(sentences, tagss, test_size=0.2)\n",
    "\n",
    "(train_sentences, \n",
    " eval_sentences, \n",
    " train_tags, \n",
    " eval_tags) = train_test_split(training_sentences, training_tags, test_size=0.25)"
   ]
  },
  {
   "cell_type": "code",
   "execution_count": 37,
   "metadata": {},
   "outputs": [
    {
     "name": "stdout",
     "output_type": "stream",
     "text": [
      "training_sentences:4824\n",
      "train_sentences: 3618\n",
      "test_sentences: 1206\n",
      "eval_sentences: 1206\n",
      "\n",
      "[u'Y' u'eso' u'no' u'es' u's\\xf3lo' u'una' u'Operaci\\xf3n_Limpieza' u';'\n",
      " u'eso' u'es' u',' u'se\\xf1ora' u'Aguirre' u',' u'limpieza' u'\\xe9tnica'\n",
      " u'.']\n",
      "[u'El' u'libro' u'es' u'divertido' u',' u'muy' u'divertido' u',' u'y'\n",
      " u'su' u'estilo' u'un' u'aut\\xe9ntico' u'regalo' u'.']\n",
      "[u'Eso' u'es' u'una' u'insensatez' u'porque' u'es' u'evidente' u'que'\n",
      " u'una' u'pol\\xedtica' u'se' u'empantana' u'en' u'su' u'propio' u'cieno'\n",
      " u'y' u'surge' u'una' u'alternativa' u'que' u'es' u'muy' u'posible' u'que'\n",
      " u'desagrade' u',' u'pero' u'es' u'evidente' u'que' u'hay' u'que'\n",
      " u'llegar' u'a' u'elecciones' u'cuanto_antes' u'.']\n",
      "\n",
      "training_tags:4824\n",
      "train_tags: 3618\n",
      "test_tags: 1206\n",
      "eval_tags: 1206\n",
      "\n",
      "[u'cc' u'pd0ns000' u'rn' u'vsip3s0' u'rg' u'di0fs0' u'np0000a' u'Fx'\n",
      " u'pd0ns000' u'vsip3s0' u'Fc' u'ncfs000' u'np0000p' u'Fc' u'ncfs000'\n",
      " u'aq0fs0' u'Fp']\n",
      "[u'da0ms0' u'ncms000' u'vsip3s0' u'aq0msp' u'Fc' u'rg' u'aq0msp' u'Fc'\n",
      " u'cc' u'dp3cs0' u'ncms000' u'di0ms0' u'aq0ms0' u'ncms000' u'Fp']\n",
      "[u'pd0ns000' u'vsip3s0' u'di0fs0' u'ncfs000' u'cs' u'vsip3s0' u'aq0cs0'\n",
      " u'cs' u'di0fs0' u'ncfs000' u'p0300000' u'vmip3s0' u'sps00' u'dp3cs0'\n",
      " u'di0ms0' u'ncms000' u'cc' u'vmip3s0' u'di0fs0' u'ncfs000' u'pr0cn000'\n",
      " u'vsip3s0' u'rg' u'aq0cs0' u'cs' u'vmsp3s0' u'Fc' u'cc' u'vsip3s0'\n",
      " u'aq0cs0' u'cs' u'vaip3s0' u'cs' u'vmn0000' u'sps00' u'ncfp000' u'rg'\n",
      " u'Fp']\n",
      "(17, 7, 64)\n"
     ]
    }
   ],
   "source": [
    "print(\"training_sentences:\" + str(len(training_sentences)))\n",
    "print(\"train_sentences: \" + str(len(train_sentences)))\n",
    "print(\"test_sentences: \" + str(len(test_sentences)))\n",
    "print(\"eval_sentences: \" + str(len(eval_sentences)) + \"\\n\")\n",
    "\n",
    "print(train_sentences[0])\n",
    "print(test_sentences[0])\n",
    "print(eval_sentences[0])\n",
    "\n",
    "print(\"\\ntraining_tags:\" + str(len(training_sentences)))\n",
    "print(\"train_tags: \" + str(len(train_tags)))\n",
    "print(\"test_tags: \" + str(len(test_tags)))\n",
    "print(\"eval_tags: \" + str(len(eval_tags)) + \"\\n\")\n",
    "\n",
    "print(train_tags[0])\n",
    "print(test_tags[0])\n",
    "print(eval_tags[0])\n",
    "\n",
    "print(len(train_sentences[0]), len(train_sentences[1]), len(train_sentences[2]))"
   ]
  },
  {
   "cell_type": "markdown",
   "metadata": {},
   "source": [
    "## Building dictionary"
   ]
  },
  {
   "cell_type": "code",
   "execution_count": 10,
   "metadata": {},
   "outputs": [
    {
     "name": "stdout",
     "output_type": "stream",
     "text": [
      "24499\n",
      "291\n"
     ]
    }
   ],
   "source": [
    "words, tagsss = set([]), set([])\n",
    " \n",
    "for s in (train_sentences + eval_sentences + test_sentences):\n",
    "    for w in s:\n",
    "        words.add(w.lower())\n",
    "\n",
    "for ts in (train_tags + eval_tags + test_tags):\n",
    "    for t in ts:\n",
    "        tagsss.add(t)\n",
    "\n",
    "word2index = {w: i + 2 for i, w in enumerate(list(words))}\n",
    "word2index['-PAD-'] = 0  # The special value used for padding\n",
    "word2index['-OOV-'] = 1  # The special value used for OOVs\n",
    " \n",
    "tag2index = {t: i + 2 for i, t in enumerate(list(tagsss))}\n",
    "tag2index['-PAD-'] = 0  # The special value used to padding\n",
    "tag2index['-OOV-'] = 1  # The special value used to padding\n",
    "\n",
    "print (len(word2index))\n",
    "print (len(tag2index))\n",
    "\n",
    "# PRINT THIS FOR CHECKING *************************\n",
    "# print(word2index)\n",
    "# print(tag2index)\n",
    "\n",
    "np.save('word2index.npy', word2index)\n",
    "np.save('tag2index.npy', tag2index)"
   ]
  },
  {
   "cell_type": "markdown",
   "metadata": {},
   "source": [
    "## Parsing Dictionary"
   ]
  },
  {
   "cell_type": "code",
   "execution_count": 11,
   "metadata": {},
   "outputs": [],
   "source": [
    "train_sentences_X, eval_sentences_X, test_sentences_X, train_tags_y, eval_tags_y, test_tags_y = [], [], [], [], [], []\n",
    "\n",
    "for s in train_sentences:\n",
    "    s_int = []\n",
    "    for w in s:\n",
    "        try:\n",
    "            s_int.append(word2index[w.lower()])\n",
    "        except KeyError:\n",
    "            s_int.append(word2index['-OOV-'])\n",
    " \n",
    "    train_sentences_X.append(s_int)\n",
    "\n",
    "for s in eval_sentences:\n",
    "    s_int = []\n",
    "    for w in s:\n",
    "        try:\n",
    "            s_int.append(word2index[w.lower()])\n",
    "        except KeyError:\n",
    "            s_int.append(word2index['-OOV-'])\n",
    " \n",
    "    eval_sentences_X.append(s_int)\n",
    "\n",
    "for s in test_sentences:\n",
    "    s_int = []\n",
    "    for w in s:\n",
    "        try:\n",
    "            s_int.append(word2index[w.lower()])\n",
    "        except KeyError:\n",
    "            s_int.append(word2index['-OOV-'])\n",
    " \n",
    "    test_sentences_X.append(s_int)\n",
    "\n",
    "for s in train_tags:\n",
    "    s_int = []\n",
    "    for w in s:\n",
    "        try:\n",
    "            s_int.append(tag2index[w])\n",
    "        except KeyError:\n",
    "            s_int.append(tag2index['-OOV-'])\n",
    "            \n",
    "    train_tags_y.append(s_int)\n",
    "\n",
    "for s in eval_tags:\n",
    "    s_int = []\n",
    "    for w in s:\n",
    "        try:\n",
    "            s_int.append(tag2index[w])\n",
    "        except KeyError:\n",
    "            s_int.append(tag2index['-OOV-'])\n",
    "            \n",
    "    eval_tags_y.append(s_int)\n",
    "\n",
    "for s in test_tags:\n",
    "    s_int = []\n",
    "    for w in s:\n",
    "        try:\n",
    "            s_int.append(tag2index[w])\n",
    "        except KeyError:\n",
    "            s_int.append(tag2index['-OOV-'])\n",
    "            \n",
    "    test_tags_y.append(s_int)"
   ]
  },
  {
   "cell_type": "code",
   "execution_count": 12,
   "metadata": {},
   "outputs": [
    {
     "name": "stdout",
     "output_type": "stream",
     "text": [
      "Longitudes de las Matrices:\n",
      "3618\n",
      "1206\n",
      "1206\n",
      "3618\n",
      "1206\n",
      "1206\n",
      "\n",
      "Muestra de Datos presentes en las Matrices con las transformaciones:\n",
      "\n"
     ]
    }
   ],
   "source": [
    "\n",
    "\n",
    "print(\"Longitudes de las Matrices:\")\n",
    "print(len(train_sentences_X))\n",
    "print(len(eval_sentences_X))\n",
    "print(len(test_sentences_X))\n",
    "print(len(train_tags_y))\n",
    "print(len(eval_tags_y))\n",
    "print(len(test_tags_y))\n",
    "\n",
    "print(\"\\nMuestra de Datos presentes en las Matrices con las transformaciones:\\n\")\n",
    "\n",
    "# print(train_sentences_X[0])\n",
    "# print(eval_sentences_X[0])\n",
    "# print(test_sentences_X[0])\n",
    "# print(train_tags_y[0])\n",
    "# print(eval_tags_y[0])\n",
    "# print(test_tags_y[0])\n",
    "\n"
   ]
  },
  {
   "cell_type": "markdown",
   "metadata": {},
   "source": [
    "## Checking transformation"
   ]
  },
  {
   "cell_type": "code",
   "execution_count": 13,
   "metadata": {},
   "outputs": [
    {
     "name": "stdout",
     "output_type": "stream",
     "text": [
      "Words on the first sentence: 17\n",
      "\n",
      "Y eso no es sólo una Operación_Limpieza ; eso es , señora Aguirre , limpieza étnica . \n",
      "\n",
      "Words on the first sentence PARSED: 17\n",
      "\n",
      "[10271, 10679, 11084, 8193, 14969, 15568, 1573, 8897, 10679, 8193, 6788, 15296, 19874, 6788, 16470, 4888, 241]\n",
      "\n",
      "\n",
      "tags of the first sentence: 17\n",
      "\n",
      "[u'cc' u'pd0ns000' u'rn' u'vsip3s0' u'rg' u'di0fs0' u'np0000a' u'Fx'\n",
      " u'pd0ns000' u'vsip3s0' u'Fc' u'ncfs000' u'np0000p' u'Fc' u'ncfs000'\n",
      " u'aq0fs0' u'Fp']\n",
      "\n",
      "\n",
      "tags of the first sentence PARSED: 17\n",
      "\n",
      "[149, 65, 109, 51, 105, 86, 100, 166, 65, 51, 172, 23, 108, 172, 23, 141, 160]\n"
     ]
    }
   ],
   "source": [
    "print(\"Words on the first sentence: \"+str(len(train_sentences[0])))+\"\\n\"\n",
    "print(goodPrint(train_sentences[0])+ \"\\n\")\n",
    "print(\"Words on the first sentence PARSED: \"+str(len(train_sentences_X[0])))+\"\\n\"\n",
    "print(train_sentences_X[0])\n",
    "print(\"\\n\")\n",
    "print(\"tags of the first sentence: \"+str(len(train_tags[0])))+\"\\n\"\n",
    "print(train_tags[0])\n",
    "print(\"\\n\")\n",
    "print(\"tags of the first sentence PARSED: \"+str(len(train_tags_y[0])))+\"\\n\"\n",
    "print(train_tags_y[0])"
   ]
  },
  {
   "cell_type": "markdown",
   "metadata": {},
   "source": [
    "## Sentence with more words"
   ]
  },
  {
   "cell_type": "code",
   "execution_count": 14,
   "metadata": {},
   "outputs": [
    {
     "name": "stdout",
     "output_type": "stream",
     "text": [
      "(149, 134, 128)\n",
      "Max: 149\n"
     ]
    }
   ],
   "source": [
    "MAX_LENGTH1 = len(max(train_sentences_X, key=len))\n",
    "MAX_LENGTH2 = len(max(eval_sentences_X, key=len))\n",
    "MAX_LENGTH3 = len(max(test_sentences_X, key=len))\n",
    "\n",
    "print(MAX_LENGTH1, MAX_LENGTH2, MAX_LENGTH3)\n",
    "\n",
    "l = [MAX_LENGTH1, MAX_LENGTH2, MAX_LENGTH3]\n",
    "MAX_LENGTH = max(l)\n",
    "\n",
    "print(\"Max: \"+str(MAX_LENGTH))"
   ]
  },
  {
   "cell_type": "markdown",
   "metadata": {},
   "source": [
    "### Se procede a Normalizar las matrices para que todas contengan el mismo numero de columans, con la longitud maxima de palabras encontradas anteriormente, esto se logra agregando ceros a la derecha en las posiciones que hacen falta en el vector"
   ]
  },
  {
   "cell_type": "code",
   "execution_count": 15,
   "metadata": {},
   "outputs": [
    {
     "name": "stderr",
     "output_type": "stream",
     "text": [
      "Using TensorFlow backend.\n"
     ]
    },
    {
     "name": "stdout",
     "output_type": "stream",
     "text": [
      "[10271 10679 11084  8193 14969 15568  1573  8897 10679  8193  6788 15296\n",
      " 19874  6788 16470  4888   241     0     0     0     0     0     0     0\n",
      "     0     0     0     0     0     0     0     0     0     0     0     0\n",
      "     0     0     0     0     0     0     0     0     0     0     0     0\n",
      "     0     0     0     0     0     0     0     0     0     0     0     0\n",
      "     0     0     0     0     0     0     0     0     0     0     0     0\n",
      "     0     0     0     0     0     0     0     0     0     0     0     0\n",
      "     0     0     0     0     0     0     0     0     0     0     0     0\n",
      "     0     0     0     0     0     0     0     0     0     0     0     0\n",
      "     0     0     0     0     0     0     0     0     0     0     0     0\n",
      "     0     0     0     0     0     0     0     0     0     0     0     0\n",
      "     0     0     0     0     0     0     0     0     0     0     0     0\n",
      "     0     0     0     0     0]\n",
      "[10679  8193 15568 14738 17873  8193  2702  4365 15568  4696 12738 11867\n",
      "  8185 12734  4968 24362 10271 24447 15568  4134  4365  8193  4842   740\n",
      "  4365 20398  6788 21916  8193  2702  4365   287  4365  8222 20790  7815\n",
      "  5043   241     0     0     0     0     0     0     0     0     0     0\n",
      "     0     0     0     0     0     0     0     0     0     0     0     0\n",
      "     0     0     0     0     0     0     0     0     0     0     0     0\n",
      "     0     0     0     0     0     0     0     0     0     0     0     0\n",
      "     0     0     0     0     0     0     0     0     0     0     0     0\n",
      "     0     0     0     0     0     0     0     0     0     0     0     0\n",
      "     0     0     0     0     0     0     0     0     0     0     0     0\n",
      "     0     0     0     0     0     0     0     0     0     0     0     0\n",
      "     0     0     0     0     0     0     0     0     0     0     0     0\n",
      "     0     0     0     0     0]\n",
      "[ 9256 15125  8193 13166  6788  4842 13166  6788 10271 12734 13388  6769\n",
      "  7633  1978   241     0     0     0     0     0     0     0     0     0\n",
      "     0     0     0     0     0     0     0     0     0     0     0     0\n",
      "     0     0     0     0     0     0     0     0     0     0     0     0\n",
      "     0     0     0     0     0     0     0     0     0     0     0     0\n",
      "     0     0     0     0     0     0     0     0     0     0     0     0\n",
      "     0     0     0     0     0     0     0     0     0     0     0     0\n",
      "     0     0     0     0     0     0     0     0     0     0     0     0\n",
      "     0     0     0     0     0     0     0     0     0     0     0     0\n",
      "     0     0     0     0     0     0     0     0     0     0     0     0\n",
      "     0     0     0     0     0     0     0     0     0     0     0     0\n",
      "     0     0     0     0     0     0     0     0     0     0     0     0\n",
      "     0     0     0     0     0]\n",
      "[149  65 109  51 105  86 100 166  65  51 172  23 108 172  23 141 160   0\n",
      "   0   0   0   0   0   0   0   0   0   0   0   0   0   0   0   0   0   0\n",
      "   0   0   0   0   0   0   0   0   0   0   0   0   0   0   0   0   0   0\n",
      "   0   0   0   0   0   0   0   0   0   0   0   0   0   0   0   0   0   0\n",
      "   0   0   0   0   0   0   0   0   0   0   0   0   0   0   0   0   0   0\n",
      "   0   0   0   0   0   0   0   0   0   0   0   0   0   0   0   0   0   0\n",
      "   0   0   0   0   0   0   0   0   0   0   0   0   0   0   0   0   0   0\n",
      "   0   0   0   0   0   0   0   0   0   0   0   0   0   0   0   0   0   0\n",
      "   0   0   0   0   0]\n",
      "[ 65  51  86  23 156  51  17 156  86  23  13 147 263 164 255 253 149 147\n",
      "  86  23 165  51 105  17 156 119 172 149  51  17 156 235 156  88 263 151\n",
      " 105 160   0   0   0   0   0   0   0   0   0   0   0   0   0   0   0   0\n",
      "   0   0   0   0   0   0   0   0   0   0   0   0   0   0   0   0   0   0\n",
      "   0   0   0   0   0   0   0   0   0   0   0   0   0   0   0   0   0   0\n",
      "   0   0   0   0   0   0   0   0   0   0   0   0   0   0   0   0   0   0\n",
      "   0   0   0   0   0   0   0   0   0   0   0   0   0   0   0   0   0   0\n",
      "   0   0   0   0   0   0   0   0   0   0   0   0   0   0   0   0   0   0\n",
      "   0   0   0   0   0]\n",
      "[ 89 253  51 237 172 105 237 172 149 164 253 255 271 253 160   0   0   0\n",
      "   0   0   0   0   0   0   0   0   0   0   0   0   0   0   0   0   0   0\n",
      "   0   0   0   0   0   0   0   0   0   0   0   0   0   0   0   0   0   0\n",
      "   0   0   0   0   0   0   0   0   0   0   0   0   0   0   0   0   0   0\n",
      "   0   0   0   0   0   0   0   0   0   0   0   0   0   0   0   0   0   0\n",
      "   0   0   0   0   0   0   0   0   0   0   0   0   0   0   0   0   0   0\n",
      "   0   0   0   0   0   0   0   0   0   0   0   0   0   0   0   0   0   0\n",
      "   0   0   0   0   0   0   0   0   0   0   0   0   0   0   0   0   0   0\n",
      "   0   0   0   0   0]\n"
     ]
    }
   ],
   "source": [
    "from keras.preprocessing.sequence import pad_sequences\n",
    " \n",
    "train_sentences_X = pad_sequences(train_sentences_X, maxlen=MAX_LENGTH, padding='post')\n",
    "eval_sentences_X = pad_sequences(eval_sentences_X, maxlen=MAX_LENGTH, padding='post')\n",
    "test_sentences_X = pad_sequences(test_sentences_X, maxlen=MAX_LENGTH, padding='post')\n",
    "train_tags_y = pad_sequences(train_tags_y, maxlen=MAX_LENGTH, padding='post')\n",
    "eval_tags_y = pad_sequences(eval_tags_y, maxlen=MAX_LENGTH, padding='post')\n",
    "test_tags_y = pad_sequences(test_tags_y, maxlen=MAX_LENGTH, padding='post')\n",
    " \n",
    "print(train_sentences_X[0])\n",
    "print(eval_sentences_X[0])\n",
    "print(test_sentences_X[0])\n",
    "print(train_tags_y[0])\n",
    "print(eval_tags_y[0])\n",
    "print(test_tags_y[0])"
   ]
  },
  {
   "cell_type": "markdown",
   "metadata": {},
   "source": [
    "## Definimos la funcion con la cual categorizaremos los tags y los covertiremos un vector One-hot"
   ]
  },
  {
   "cell_type": "code",
   "execution_count": 16,
   "metadata": {},
   "outputs": [],
   "source": [
    "def to_categoricals(sequences, categories):\n",
    "    cat_sequences = []\n",
    "    for s in sequences:\n",
    "        cats = []\n",
    "        for item in s:\n",
    "            cats.append(np.zeros(categories))\n",
    "            cats[-1][item] = 1.0\n",
    "        cat_sequences.append(cats)\n",
    "    return np.array(cat_sequences)\n"
   ]
  },
  {
   "cell_type": "code",
   "execution_count": 63,
   "metadata": {},
   "outputs": [
    {
     "name": "stdout",
     "output_type": "stream",
     "text": [
      "[[0. 0. 0. ... 0. 0. 0.]\n",
      " [0. 0. 0. ... 0. 0. 0.]\n",
      " [0. 0. 0. ... 0. 0. 0.]\n",
      " ...\n",
      " [1. 0. 0. ... 0. 0. 0.]\n",
      " [1. 0. 0. ... 0. 0. 0.]\n",
      " [1. 0. 0. ... 0. 0. 0.]]\n",
      "3618\n",
      "1206\n"
     ]
    }
   ],
   "source": [
    "cat_train_tags_y = to_categoricals(train_tags_y, len(tag2index))\n",
    "cat_eval_tags_y  = to_categoricals(eval_tags_y, len(tag2index))\n",
    "cat_test_tags_y  = to_categoricals(test_tags_y, len(tag2index))\n",
    "\n",
    "print(cat_train_tags_y[0])\n",
    "print(len(cat_train_tags_y))\n",
    "print(len(cat_test_tags_y))"
   ]
  },
  {
   "cell_type": "markdown",
   "metadata": {},
   "source": [
    "# Part 2"
   ]
  },
  {
   "cell_type": "code",
   "execution_count": 18,
   "metadata": {},
   "outputs": [],
   "source": [
    "## Funcion que permite forzar el uso de GPU cuando estan presentes\n",
    "\n",
    "import tensorflow as tf\n",
    "sess = tf.compat.v1.Session(config=tf.compat.v1.ConfigProto(log_device_placement=True))"
   ]
  },
  {
   "cell_type": "code",
   "execution_count": 22,
   "metadata": {},
   "outputs": [
    {
     "name": "stdout",
     "output_type": "stream",
     "text": [
      "Model: \"sequential_4\"\n",
      "_________________________________________________________________\n",
      "Layer (type)                 Output Shape              Param #   \n",
      "=================================================================\n",
      "embedding_4 (Embedding)      (None, 149, 128)          3135872   \n",
      "_________________________________________________________________\n",
      "activation_7 (Activation)    (None, 149, 128)          0         \n",
      "_________________________________________________________________\n",
      "dense_4 (Dense)              (None, 149, 291)          37539     \n",
      "_________________________________________________________________\n",
      "activation_8 (Activation)    (None, 149, 291)          0         \n",
      "=================================================================\n",
      "Total params: 3,173,411\n",
      "Trainable params: 3,173,411\n",
      "Non-trainable params: 0\n",
      "_________________________________________________________________\n"
     ]
    }
   ],
   "source": [
    "from keras.models import Sequential\n",
    "from keras.layers import Dense, InputLayer, Embedding, Activation\n",
    "from keras.optimizers import Adam\n",
    "from keras.utils import plot_model\n",
    "\n",
    "model = Sequential()\n",
    "model.add(InputLayer(input_shape=(MAX_LENGTH, )))\n",
    "model.add(Embedding(len(word2index), 128))\n",
    "model.add(Activation('relu'))\n",
    "model.add(Dense(len(tag2index)))\n",
    "model.add(Activation('softmax'))\n",
    "\n",
    "model.compile(loss='categorical_crossentropy', optimizer=Adam(0.001), metrics=['accuracy'])\n",
    " \n",
    "model.summary()\n",
    "\n",
    "# plot_model(model, to_file='model-mb00.png', show_shapes=True)"
   ]
  },
  {
   "cell_type": "code",
   "execution_count": 23,
   "metadata": {},
   "outputs": [
    {
     "name": "stdout",
     "output_type": "stream",
     "text": [
      "WARNING:tensorflow:From /usr/local/lib/python2.7/dist-packages/tensorflow/python/ops/math_grad.py:1250: where (from tensorflow.python.ops.array_ops) is deprecated and will be removed in a future version.\n",
      "Instructions for updating:\n",
      "Use tf.where in 2.0, which has the same broadcast rule as np.where\n",
      "WARNING:tensorflow:From /usr/local/lib/python2.7/dist-packages/keras/backend/tensorflow_backend.py:1033: The name tf.assign_add is deprecated. Please use tf.compat.v1.assign_add instead.\n",
      "\n",
      "Train on 3618 samples, validate on 1206 samples\n",
      "Epoch 1/40\n",
      "3618/3618 [==============================] - 11s 3ms/step - loss: 5.5655 - acc: 0.6680 - val_loss: 5.4218 - val_acc: 0.9105\n",
      "Epoch 2/40\n",
      "3618/3618 [==============================] - 10s 3ms/step - loss: 5.2448 - acc: 0.9121 - val_loss: 4.9981 - val_acc: 0.9113\n",
      "Epoch 3/40\n",
      "3618/3618 [==============================] - 10s 3ms/step - loss: 4.6885 - acc: 0.9120 - val_loss: 4.2765 - val_acc: 0.9103\n",
      "Epoch 4/40\n",
      "3618/3618 [==============================] - 10s 3ms/step - loss: 3.8122 - acc: 0.9119 - val_loss: 3.2267 - val_acc: 0.9115\n",
      "Epoch 5/40\n",
      "3618/3618 [==============================] - 10s 3ms/step - loss: 2.6511 - acc: 0.9140 - val_loss: 1.9927 - val_acc: 0.9145\n",
      "Epoch 6/40\n",
      "3618/3618 [==============================] - 10s 3ms/step - loss: 1.5273 - acc: 0.9171 - val_loss: 1.1060 - val_acc: 0.9168\n",
      "Epoch 7/40\n",
      "3618/3618 [==============================] - 10s 3ms/step - loss: 0.9145 - acc: 0.9201 - val_loss: 0.7541 - val_acc: 0.9209\n",
      "Epoch 8/40\n",
      "3618/3618 [==============================] - 10s 3ms/step - loss: 0.6728 - acc: 0.9256 - val_loss: 0.6030 - val_acc: 0.9273\n",
      "Epoch 9/40\n",
      "3618/3618 [==============================] - 10s 3ms/step - loss: 0.5530 - acc: 0.9322 - val_loss: 0.5174 - val_acc: 0.9327\n",
      "Epoch 10/40\n",
      "3618/3618 [==============================] - 10s 3ms/step - loss: 0.4773 - acc: 0.9397 - val_loss: 0.4599 - val_acc: 0.9394\n",
      "Epoch 11/40\n",
      "3618/3618 [==============================] - 10s 3ms/step - loss: 0.4223 - acc: 0.9466 - val_loss: 0.4166 - val_acc: 0.9439\n",
      "Epoch 12/40\n",
      "3618/3618 [==============================] - 10s 3ms/step - loss: 0.3785 - acc: 0.9525 - val_loss: 0.3818 - val_acc: 0.9478\n",
      "Epoch 13/40\n",
      "3618/3618 [==============================] - 13s 4ms/step - loss: 0.3420 - acc: 0.9576 - val_loss: 0.3529 - val_acc: 0.9507\n",
      "Epoch 14/40\n",
      "3618/3618 [==============================] - 13s 4ms/step - loss: 0.3107 - acc: 0.9620 - val_loss: 0.3282 - val_acc: 0.9539\n",
      "Epoch 15/40\n",
      "3618/3618 [==============================] - 14s 4ms/step - loss: 0.2833 - acc: 0.9663 - val_loss: 0.3069 - val_acc: 0.9566\n",
      "Epoch 16/40\n",
      "3618/3618 [==============================] - 12s 3ms/step - loss: 0.2591 - acc: 0.9696 - val_loss: 0.2884 - val_acc: 0.9586\n",
      "Epoch 17/40\n",
      "3618/3618 [==============================] - 12s 3ms/step - loss: 0.2376 - acc: 0.9723 - val_loss: 0.2722 - val_acc: 0.9602\n",
      "Epoch 18/40\n",
      "3618/3618 [==============================] - 12s 3ms/step - loss: 0.2184 - acc: 0.9745 - val_loss: 0.2579 - val_acc: 0.9616\n",
      "Epoch 19/40\n",
      "3618/3618 [==============================] - 12s 3ms/step - loss: 0.2012 - acc: 0.9761 - val_loss: 0.2453 - val_acc: 0.9626\n",
      "Epoch 20/40\n",
      "3618/3618 [==============================] - 12s 3ms/step - loss: 0.1859 - acc: 0.9776 - val_loss: 0.2343 - val_acc: 0.9637\n",
      "Epoch 21/40\n",
      "3618/3618 [==============================] - 12s 3ms/step - loss: 0.1721 - acc: 0.9788 - val_loss: 0.2246 - val_acc: 0.9644\n",
      "Epoch 22/40\n",
      "3618/3618 [==============================] - 12s 3ms/step - loss: 0.1596 - acc: 0.9800 - val_loss: 0.2160 - val_acc: 0.9650\n",
      "Epoch 23/40\n",
      "3618/3618 [==============================] - 12s 3ms/step - loss: 0.1485 - acc: 0.9811 - val_loss: 0.2084 - val_acc: 0.9658\n",
      "Epoch 24/40\n",
      "3618/3618 [==============================] - 12s 3ms/step - loss: 0.1384 - acc: 0.9820 - val_loss: 0.2016 - val_acc: 0.9661\n",
      "Epoch 25/40\n",
      "3618/3618 [==============================] - 12s 3ms/step - loss: 0.1292 - acc: 0.9828 - val_loss: 0.1956 - val_acc: 0.9666\n",
      "Epoch 26/40\n",
      "3618/3618 [==============================] - 12s 3ms/step - loss: 0.1209 - acc: 0.9835 - val_loss: 0.1902 - val_acc: 0.9668\n",
      "Epoch 27/40\n",
      "3618/3618 [==============================] - 12s 3ms/step - loss: 0.1134 - acc: 0.9840 - val_loss: 0.1855 - val_acc: 0.9671\n",
      "Epoch 28/40\n",
      "3618/3618 [==============================] - 12s 3ms/step - loss: 0.1066 - acc: 0.9844 - val_loss: 0.1812 - val_acc: 0.9672\n",
      "Epoch 29/40\n",
      "3618/3618 [==============================] - 12s 3ms/step - loss: 0.1004 - acc: 0.9848 - val_loss: 0.1774 - val_acc: 0.9676\n",
      "Epoch 30/40\n",
      "3618/3618 [==============================] - 12s 3ms/step - loss: 0.0948 - acc: 0.9851 - val_loss: 0.1740 - val_acc: 0.9677\n",
      "Epoch 31/40\n",
      "3618/3618 [==============================] - 12s 3ms/step - loss: 0.0897 - acc: 0.9852 - val_loss: 0.1710 - val_acc: 0.9679\n",
      "Epoch 32/40\n",
      "3618/3618 [==============================] - 12s 3ms/step - loss: 0.0851 - acc: 0.9855 - val_loss: 0.1682 - val_acc: 0.9681\n",
      "Epoch 33/40\n",
      "3618/3618 [==============================] - 12s 3ms/step - loss: 0.0809 - acc: 0.9857 - val_loss: 0.1658 - val_acc: 0.9682\n",
      "Epoch 34/40\n",
      "3618/3618 [==============================] - 12s 3ms/step - loss: 0.0770 - acc: 0.9859 - val_loss: 0.1635 - val_acc: 0.9683\n",
      "Epoch 35/40\n",
      "3618/3618 [==============================] - 11s 3ms/step - loss: 0.0735 - acc: 0.9861 - val_loss: 0.1615 - val_acc: 0.9684\n",
      "Epoch 36/40\n",
      "3618/3618 [==============================] - 12s 3ms/step - loss: 0.0703 - acc: 0.9865 - val_loss: 0.1597 - val_acc: 0.9687\n",
      "Epoch 37/40\n",
      "3618/3618 [==============================] - 12s 3ms/step - loss: 0.0674 - acc: 0.9868 - val_loss: 0.1580 - val_acc: 0.9688\n",
      "Epoch 38/40\n",
      "3618/3618 [==============================] - 12s 3ms/step - loss: 0.0647 - acc: 0.9869 - val_loss: 0.1565 - val_acc: 0.9689\n",
      "Epoch 39/40\n",
      "3618/3618 [==============================] - 12s 3ms/step - loss: 0.0622 - acc: 0.9871 - val_loss: 0.1552 - val_acc: 0.9690\n",
      "Epoch 40/40\n",
      "3618/3618 [==============================] - 10s 3ms/step - loss: 0.0600 - acc: 0.9872 - val_loss: 0.1539 - val_acc: 0.9691\n",
      "Saved model to disk\n"
     ]
    }
   ],
   "source": [
    "#sudo pip install h5py\n",
    "import os\n",
    "model_hist = model.fit(train_sentences_X, cat_train_tags_y,\n",
    "                       validation_data=(eval_sentences_X, cat_eval_tags_y),\n",
    "                       batch_size=128, \n",
    "                       epochs=40,\n",
    "                       validation_split=0.2)\n",
    "\n",
    "# serialize model to JSON\n",
    "model_json = model.to_json()\n",
    "with open(\"mb-00.json\", \"w\") as json_file:\n",
    "    json_file.write(model_json)\n",
    "\n",
    "# serialize weights to HDF5\n",
    "model.save_weights(\"mb-00.h5\")\n",
    "print(\"Saved model to disk\")"
   ]
  },
  {
   "cell_type": "markdown",
   "metadata": {},
   "source": [
    "# Parte 3"
   ]
  },
  {
   "cell_type": "code",
   "execution_count": 29,
   "metadata": {},
   "outputs": [
    {
     "name": "stdout",
     "output_type": "stream",
     "text": [
      "1206/1206 [==============================] - 1s 948us/step\n",
      "96.90362511582636\n"
     ]
    }
   ],
   "source": [
    "scores = model.evaluate(test_sentences_X, cat_test_tags_y)\n",
    "print(scores[1] * 100)   # acc: 97.66269326210022"
   ]
  },
  {
   "cell_type": "code",
   "execution_count": 34,
   "metadata": {},
   "outputs": [],
   "source": [
    "import matplotlib.pyplot as plt\n",
    "\n",
    "def plot_model_performance(train_loss, train_acc, train_val_loss, train_val_acc):\n",
    "    \"\"\" Plot model loss and accuracy through epochs. \"\"\"\n",
    "    blue= '#34495E'\n",
    "    green = '#2ECC71'\n",
    "    orange = '#E23B13'\n",
    "    \n",
    "    # plot model loss\n",
    "    fig, (ax1, ax2) = plt.subplots(2, figsize=(10, 8))\n",
    "    ax1.plot(range(1, len(train_loss) + 1), train_loss, blue, linewidth=5, label='training')\n",
    "    ax1.plot(range(1, len(train_val_loss) + 1), train_val_loss, green, linewidth=5, label='validation')\n",
    "    ax1.set_xlabel('# epoch')\n",
    "    ax1.set_ylabel('loss')\n",
    "    ax1.tick_params('y')\n",
    "    ax1.legend(loc='upper right', shadow=False)\n",
    "    ax1.set_title('Model loss through #epochs', color=orange, fontweight='bold')\n",
    "    \n",
    "    # plot model accuracy\n",
    "    ax2.plot(range(1, len(train_acc) + 1), train_acc, blue, linewidth=5, label='training')\n",
    "    ax2.plot(range(1, len(train_val_acc) + 1), train_val_acc, green, linewidth=5, label='validation')\n",
    "    ax2.set_xlabel('# epoch')\n",
    "    ax2.set_ylabel('accuracy')\n",
    "    ax2.tick_params('y')\n",
    "    ax2.legend(loc='lower right', shadow=False)\n",
    "    ax2.set_title('Model accuracy through #epochs', color=orange, fontweight='bold')\n",
    "    \n",
    "#     fig.savefig('Plot/training/training-mb-00.png', bbox_inches='tight')"
   ]
  },
  {
   "cell_type": "code",
   "execution_count": 35,
   "metadata": {},
   "outputs": [
    {
     "data": {
      "image/png": "[encoded data removed]",
      "text/plain": [
       "<Figure size 720x576 with 2 Axes>"
      ]
     },
     "metadata": {
      "needs_background": "light"
     },
     "output_type": "display_data"
    }
   ],
   "source": [
    "plot_model_performance(\n",
    "    train_loss=model_hist.history.get('loss', []),\n",
    "    train_acc=model_hist.history.get('acc', []),\n",
    "    train_val_loss=model_hist.history.get('val_loss', []),\n",
    "    train_val_acc=model_hist.history.get('val_acc', [])\n",
    ")"
   ]
  },
  {
   "cell_type": "markdown",
   "metadata": {},
   "source": [
    "## Función que Permite convertir Indices en Tags"
   ]
  },
  {
   "cell_type": "code",
   "execution_count": 38,
   "metadata": {},
   "outputs": [],
   "source": [
    "def logits_to_tokens(sequences, index):\n",
    "    token_sequences = []\n",
    "    for categorical_sequence in sequences:\n",
    "        token_sequence = []\n",
    "        for categorical in categorical_sequence:\n",
    "            token_sequence.append(index[np.argmax(categorical)])\n",
    " \n",
    "        token_sequences.append(token_sequence)\n",
    " \n",
    "    return token_sequences"
   ]
  },
  {
   "cell_type": "markdown",
   "metadata": {},
   "source": [
    "## Hacemos la prediccion sobre el conjunto de pruebas. De la distribución probabilítica a etiquetas."
   ]
  },
  {
   "cell_type": "code",
   "execution_count": 39,
   "metadata": {},
   "outputs": [
    {
     "name": "stdout",
     "output_type": "stream",
     "text": [
      "[u'da0ms0', u'ncms000', u'vsip3s0', u'aq0msp', u'Fc', u'rg', u'aq0msp', u'Fc', u'cc', u'dp3cs0', u'ncms000', u'di0ms0', u'aq0ms0', u'ncms000', u'Fp', '-PAD-', '-PAD-', '-PAD-', '-PAD-', '-PAD-', '-PAD-', '-PAD-', '-PAD-', '-PAD-', '-PAD-', '-PAD-', '-PAD-', '-PAD-', '-PAD-', '-PAD-', '-PAD-', '-PAD-', '-PAD-', '-PAD-', '-PAD-', '-PAD-', '-PAD-', '-PAD-', '-PAD-', '-PAD-', '-PAD-', '-PAD-', '-PAD-', '-PAD-', '-PAD-', '-PAD-', '-PAD-', '-PAD-', '-PAD-', '-PAD-', '-PAD-', '-PAD-', '-PAD-', '-PAD-', '-PAD-', '-PAD-', '-PAD-', '-PAD-', '-PAD-', '-PAD-', '-PAD-', '-PAD-', '-PAD-', '-PAD-', '-PAD-', '-PAD-', '-PAD-', '-PAD-', '-PAD-', '-PAD-', '-PAD-', '-PAD-', '-PAD-', '-PAD-', '-PAD-', '-PAD-', '-PAD-', '-PAD-', '-PAD-', '-PAD-', '-PAD-', '-PAD-', '-PAD-', '-PAD-', '-PAD-', '-PAD-', '-PAD-', '-PAD-', '-PAD-', '-PAD-', '-PAD-', '-PAD-', '-PAD-', '-PAD-', '-PAD-', '-PAD-', '-PAD-', '-PAD-', '-PAD-', '-PAD-', '-PAD-', '-PAD-', '-PAD-', '-PAD-', '-PAD-', '-PAD-', '-PAD-', '-PAD-', '-PAD-', '-PAD-', '-PAD-', '-PAD-', '-PAD-', '-PAD-', '-PAD-', '-PAD-', '-PAD-', '-PAD-', '-PAD-', '-PAD-', '-PAD-', '-PAD-', '-PAD-', '-PAD-', '-PAD-', '-PAD-', '-PAD-', '-PAD-', '-PAD-', '-PAD-', '-PAD-', '-PAD-', '-PAD-', '-PAD-', '-PAD-', '-PAD-', '-PAD-', '-PAD-', '-PAD-', '-PAD-', '-PAD-', '-PAD-', '-PAD-', '-PAD-', '-PAD-', '-PAD-', '-PAD-', '-PAD-', '-PAD-']\n"
     ]
    }
   ],
   "source": [
    "import pandas as pd\n",
    "\n",
    "prediction = model.predict(test_sentences_X)\n",
    "log_tokens = logits_to_tokens(prediction, {i: t for t, i in tag2index.items()})\n",
    "\n",
    "print(log_tokens[0])"
   ]
  },
  {
   "cell_type": "code",
   "execution_count": 41,
   "metadata": {},
   "outputs": [
    {
     "name": "stdout",
     "output_type": "stream",
     "text": [
      "       Expected Predicted\n",
      "1        da0ms0    da0ms0\n",
      "2       ncms000   ncms000\n",
      "3       vsip3s0   vsip3s0\n",
      "4        aq0msp    aq0msp\n",
      "5            Fc        Fc\n",
      "6            rg        rg\n",
      "7        aq0msp    aq0msp\n",
      "8            Fc        Fc\n",
      "9            cc        cc\n",
      "10       dp3cs0    dp3cs0\n",
      "11      ncms000   ncms000\n",
      "12       di0ms0    di0ms0\n",
      "13       aq0ms0    aq0ms0\n",
      "14      ncms000   ncms000\n",
      "15           Fp        Fp\n",
      "16        sps00     sps00\n",
      "17       di0fp0    di0fp0\n",
      "18      ncfp000   ncfp000\n",
      "19        spcms     spcms\n",
      "20      ncms000   ncms000\n",
      "21           Fc        Fc\n",
      "22        sps00     sps00\n",
      "23       di0ms0    di0ms0\n",
      "24      ncms000   ncms000\n",
      "25        sps00     sps00\n",
      "26      ncfp000   ncfp000\n",
      "27       aq0cs0   np0000p\n",
      "28        sps00     sps00\n",
      "29      ncfp000   ncfp000\n",
      "30           Fc        Fc\n",
      "...         ...       ...\n",
      "38457     sps00     sps00\n",
      "38458    da0mp0    da0mp0\n",
      "38459   ncmp000   ncmp000\n",
      "38460        Fg        Fg\n",
      "38461        Fp        Fp\n",
      "38462  sn.e-SUJ  sn.e-SUJ\n",
      "38463   vmip1s0   ncms000\n",
      "38464    di0fs0    di0fs0\n",
      "38465   ncfs000   ncfs000\n",
      "38466    aq0cs0    aq0cs0\n",
      "38467     sps00     sps00\n",
      "38468    da0fs0    da0fs0\n",
      "38469  pr0cn000  pr0cn000\n",
      "38470    da0mp0    da0mp0\n",
      "38471   ncmp000   ncmp000\n",
      "38472  p0000000  p0300000\n",
      "38473   vmsp3p0   np0000p\n",
      "38474        rg    aq0fsp\n",
      "38475        cc        cc\n",
      "38476        rg   np0000p\n",
      "38477        Fp        Fp\n",
      "38478    di0ms0    di0ms0\n",
      "38479   ncms000   vmn0000\n",
      "38480        rg   vmn0000\n",
      "38481   vsip3s0   vsip3s0\n",
      "38482    aq0ms0    aq0ms0\n",
      "38483     sps00     sps00\n",
      "38484    da0ms0    da0ms0\n",
      "38485   ncms000   ncms000\n",
      "38486        Fp        Fp\n",
      "\n",
      "[38486 rows x 2 columns]\n",
      "('\\nclassification_report:\\n', u'              precision    recall  f1-score   support\\n\\n       -PAD-       0.00      0.00      0.00         0\\n         Faa       0.00      0.00      0.00         8\\n         Fat       0.00      0.00      0.00        10\\n          Fc       1.00      1.00      1.00      2361\\n          Fd       1.00      1.00      1.00        89\\n          Fe       1.00      1.00      1.00       641\\n          Fg       1.00      1.00      1.00       259\\n          Fh       0.00      0.00      0.00         2\\n         Fia       1.00      1.00      1.00        10\\n         Fit       1.00      1.00      1.00        23\\n          Fp       1.00      1.00      1.00      1184\\n         Fpa       1.00      1.00      1.00       194\\n         Fpt       1.00      1.00      1.00       193\\n          Fs       1.00      1.00      1.00         7\\n          Fx       1.00      1.00      1.00        48\\n           W       0.99      0.61      0.75       180\\n           Z       1.00      0.66      0.80       302\\n          Zm       0.87      0.90      0.88        29\\n          Zp       1.00      0.27      0.42        30\\n      ao0fp0       0.00      0.00      0.00         8\\n      ao0fs0       0.98      0.89      0.93        47\\n      ao0mp0       1.00      0.95      0.97        19\\n      ao0ms0       0.90      0.98      0.93        44\\n     aq00000       0.00      0.00      0.00         3\\n      aq0cn0       0.00      0.00      0.00         9\\n      aq0cp0       0.89      0.75      0.81       241\\n      aq0cs0       0.92      0.82      0.87       625\\n      aq0fp0       0.86      0.61      0.72       167\\n      aq0fpp       1.00      0.35      0.52        72\\n      aq0fs0       0.90      0.65      0.75       361\\n      aq0fsp       0.82      0.47      0.59       116\\n      aq0mp0       0.88      0.52      0.65       194\\n      aq0mpp       0.87      0.45      0.59        92\\n      aq0ms0       0.83      0.71      0.77       489\\n      aq0msp       0.71      0.53      0.61       201\\n          cc       0.98      0.99      0.99      1144\\n          cs       0.95      0.40      0.56       888\\n      da0fp0       0.98      1.00      0.99       394\\n      da0fs0       0.98      1.00      0.99      1335\\n      da0mp0       0.99      1.00      0.99       657\\n      da0ms0       1.00      1.00      1.00      1202\\n      da0ns0       0.64      1.00      0.78        85\\n      dd0cp0       0.00      0.00      0.00         1\\n      dd0cs0       0.00      0.00      0.00         4\\n      dd0fp0       1.00      0.92      0.96        25\\n      dd0fs0       0.99      1.00      0.99        79\\n      dd0mp0       0.90      1.00      0.95        36\\n      dd0ms0       0.94      1.00      0.97       107\\n      de0cn0       0.00      0.00      0.00         3\\n      di0cp0       0.00      0.00      0.00         7\\n      di0cs0       1.00      1.00      1.00        27\\n      di0fp0       0.86      0.98      0.91        82\\n      di0fs0       0.93      0.98      0.96       329\\n      di0mp0       0.77      1.00      0.87       105\\n      di0ms0       0.93      0.97      0.95       414\\n      dn0cp0       0.82      0.96      0.89       129\\n      dn0cs0       0.00      0.00      0.00         2\\n      dn0fp0       0.00      0.00      0.00         2\\n      dn0fs0       0.00      0.00      0.00         4\\n      dn0mp0       0.00      0.00      0.00         5\\n      dn0ms0       0.00      0.00      0.00         7\\n      dp1cps       0.00      0.00      0.00         3\\n      dp1css       1.00      1.00      1.00        11\\n      dp1fpp       0.00      0.00      0.00         1\\n      dp1fsp       0.00      0.00      0.00         4\\n      dp1mpp       0.00      0.00      0.00         7\\n      dp1msp       0.91      1.00      0.95        10\\n      dp2css       0.00      0.00      0.00         3\\n      dp3cp0       1.00      1.00      1.00       101\\n      dp3cs0       1.00      1.00      1.00       264\\n      dp3ms0       0.00      0.00      0.00         2\\n      dt0cn0       0.00      0.00      0.00         3\\n           i       0.00      0.00      0.00        13\\n     nc00000       0.00      0.00      0.00        25\\n     nccn000       0.00      0.00      0.00         5\\n     nccp000       0.84      0.78      0.81       110\\n     nccs000       0.87      0.74      0.80       132\\n     ncfn000       1.00      0.55      0.71        11\\n     ncfp000       0.92      0.82      0.86       798\\n     ncfs000       0.76      0.87      0.81      2170\\n     ncmn000       1.00      0.25      0.40        20\\n     ncmp000       0.72      0.82      0.77      1118\\n     ncms000       0.75      0.85      0.80      2250\\n     np00000       0.00      0.00      0.00        63\\n     np0000a       0.78      0.34      0.47       184\\n     np0000l       0.80      0.66      0.72       454\\n     np0000o       0.56      0.55      0.55       651\\n     np0000p       0.27      0.68      0.38       735\\n    p0000000       0.00      0.00      0.00       156\\n    p010p000       0.00      0.00      0.00         7\\n    p010s000       0.00      0.00      0.00         1\\n    p020s000       0.00      0.00      0.00         2\\n    p0300000       0.55      1.00      0.71       203\\n    pd0cp000       0.00      0.00      0.00         1\\n    pd0cs000       0.00      0.00      0.00         1\\n    pd0fp000       0.00      0.00      0.00         1\\n    pd0fs000       0.00      0.00      0.00         6\\n    pd0mp000       0.00      0.00      0.00         8\\n    pd0ms000       0.00      0.00      0.00         8\\n    pd0ns000       0.96      0.96      0.96        26\\n    pe000000       0.00      0.00      0.00         1\\n    pi0cp000       0.00      0.00      0.00         7\\n    pi0cs000       0.95      1.00      0.98        40\\n    pi0fp000       0.00      0.00      0.00        14\\n    pi0fs000       0.00      0.00      0.00        21\\n    pi0mp000       0.00      0.00      0.00        32\\n    pi0ms000       0.94      0.51      0.66        67\\n    pn0cp000       1.00      0.24      0.38        34\\n    pn0fp000       0.00      0.00      0.00         1\\n    pn0fs000       0.00      0.00      0.00         1\\n    pn0mp000       0.00      0.00      0.00         2\\n    pn0ms000       0.00      0.00      0.00         1\\n    pp1cp000       0.83      1.00      0.91        34\\n    pp1cs000       0.94      1.00      0.97        15\\n    pp1csn00       1.00      1.00      1.00        14\\n    pp1cso00       0.00      0.00      0.00         4\\n    pp1mp000       1.00      1.00      1.00        12\\n    pp2cp000       0.00      0.00      0.00         1\\n    pp2cs000       0.00      0.00      0.00         8\\n    pp2cs00p       0.00      0.00      0.00         3\\n    pp2csn00       0.00      0.00      0.00         2\\n    pp2cso00       0.00      0.00      0.00         2\\n    pp3cn000       0.00      0.00      0.00         9\\n    pp3cna00       0.00      0.00      0.00         3\\n    pp3cno00       0.00      0.00      0.00         3\\n    pp3cpd00       1.00      1.00      1.00        11\\n    pp3csa00       0.00      0.00      0.00         9\\n    pp3csd00       0.84      1.00      0.91        47\\n    pp3fp000       0.00      0.00      0.00         5\\n    pp3fpa00       0.00      0.00      0.00         7\\n    pp3fs000       1.00      1.00      1.00        14\\n    pp3fsa00       0.00      0.00      0.00        24\\n    pp3mp000       1.00      1.00      1.00        20\\n    pp3mpa00       0.00      0.00      0.00         9\\n    pp3ms000       1.00      1.00      1.00        23\\n    pp3msa00       0.00      0.00      0.00        44\\n    pp3ns000       1.00      1.00      1.00        14\\n    pr000000       0.96      0.84      0.90        31\\n    pr0cn000       0.55      1.00      0.71       611\\n    pr0cp000       0.00      0.00      0.00        13\\n    pr0cs000       1.00      1.00      1.00        30\\n    pr0fp000       0.00      0.00      0.00         1\\n    pr0fs000       0.00      0.00      0.00         9\\n    pr0mp000       0.00      0.00      0.00         1\\n    pr0ms000       0.00      0.00      0.00         9\\n    pt000000       1.00      0.50      0.67         4\\n    pt0cp000       0.00      0.00      0.00         2\\n    pt0cs000       0.80      1.00      0.89        28\\n    px1fs0p0       0.00      0.00      0.00         2\\n    px1ms0p0       0.00      0.00      0.00         1\\n    px2fs0s0       0.00      0.00      0.00         1\\n    px3fs000       0.00      0.00      0.00         1\\n    px3ms000       0.00      0.00      0.00         1\\n          rg       0.96      0.88      0.92      1198\\n          rn       0.99      0.99      0.99       264\\n      sn-SUJ       0.00      0.00      0.00         1\\n        sn.e       0.00      0.00      0.00         1\\n     sn.e-CD       0.00      0.00      0.00         1\\n    sn.e-SUJ       1.00      1.00      1.00       767\\n       spcms       1.00      0.99      0.99       645\\n       sps00       0.99      0.99      0.99      4998\\n     vaic3s0       0.00      0.00      0.00         3\\n     vaif3s0       0.00      0.00      0.00         2\\n     vaii1p0       0.00      0.00      0.00         1\\n     vaii1s0       0.00      0.00      0.00         2\\n     vaii3p0       1.00      1.00      1.00         7\\n     vaii3s0       0.95      1.00      0.97        38\\n     vaip1p0       0.00      0.00      0.00         5\\n     vaip1s0       0.00      0.00      0.00         8\\n     vaip3p0       1.00      1.00      1.00        57\\n     vaip3s0       1.00      1.00      1.00       173\\n     vais3s0       0.00      0.00      0.00         4\\n     vam02s0       0.00      0.00      0.00         1\\n     van0000       1.00      0.82      0.90        22\\n     vap00sm       0.00      0.00      0.00         2\\n     vasi3p0       0.00      0.00      0.00         1\\n     vasi3s0       0.00      0.00      0.00         3\\n     vasp1s0       0.00      0.00      0.00         1\\n     vasp3p0       0.00      0.00      0.00         2\\n     vasp3s0       0.00      0.00      0.00        12\\n     vmg0000       0.91      0.35      0.51       110\\n     vmic1p0       0.00      0.00      0.00         2\\n     vmic1s0       0.00      0.00      0.00         3\\n     vmic3p0       0.00      0.00      0.00        14\\n     vmic3s0       0.92      0.41      0.57        29\\n     vmif1p0       0.00      0.00      0.00         7\\n     vmif1s0       0.00      0.00      0.00         2\\n     vmif3p0       1.00      0.17      0.29        35\\n     vmif3s0       0.98      0.67      0.79        87\\n     vmii1p0       0.00      0.00      0.00         2\\n     vmii1s0       0.00      0.00      0.00         5\\n     vmii2s0       0.00      0.00      0.00         2\\n     vmii3p0       1.00      0.44      0.62        54\\n     vmii3s0       0.96      0.64      0.77       143\\n     vmip1p0       0.98      0.65      0.78        72\\n     vmip1s0       1.00      0.72      0.84        50\\n     vmip2s0       0.00      0.00      0.00         9\\n     vmip3p0       0.99      0.75      0.85       279\\n     vmip3s0       0.97      0.86      0.91       667\\n     vmis1p0       0.00      0.00      0.00         2\\n     vmis1s0       0.00      0.00      0.00         8\\n     vmis2s0       0.00      0.00      0.00         1\\n     vmis3p0       0.98      0.52      0.68       122\\n     vmis3s0       0.99      0.83      0.90       602\\n     vmm02s0       0.00      0.00      0.00        10\\n     vmm03p0       0.00      0.00      0.00         4\\n     vmm03s0       0.00      0.00      0.00         4\\n     vmn0000       0.56      0.78      0.65       788\\n     vmp00pf       0.00      0.00      0.00         6\\n     vmp00pm       0.00      0.00      0.00        12\\n     vmp00sf       0.00      0.00      0.00        19\\n     vmp00sm       0.74      0.59      0.66       292\\n     vmsi1s0       0.00      0.00      0.00         4\\n     vmsi3p0       0.00      0.00      0.00        11\\n     vmsi3s0       1.00      0.04      0.08        23\\n     vmsp1p0       0.00      0.00      0.00         9\\n     vmsp1s0       0.00      0.00      0.00         9\\n     vmsp2p0       0.00      0.00      0.00         1\\n     vmsp3p0       1.00      0.38      0.55        45\\n     vmsp3s0       0.84      0.50      0.63        54\\n     vsg0000       0.00      0.00      0.00         4\\n     vsic3p0       0.00      0.00      0.00         1\\n     vsic3s0       1.00      1.00      1.00         7\\n     vsif3p0       0.00      0.00      0.00         5\\n     vsif3s0       1.00      1.00      1.00        15\\n     vsii1p0       0.00      0.00      0.00         1\\n     vsii1s0       0.00      0.00      0.00         1\\n     vsii3p0       1.00      1.00      1.00         2\\n     vsii3s0       0.92      1.00      0.96        24\\n     vsip1p0       0.00      0.00      0.00         1\\n     vsip1s0       0.00      0.00      0.00         2\\n     vsip2s0       0.00      0.00      0.00         3\\n     vsip3p0       1.00      1.00      1.00        44\\n     vsip3s0       1.00      1.00      1.00       188\\n     vsis3p0       0.94      1.00      0.97        17\\n     vsis3s0       0.96      1.00      0.98        45\\n     vsm03s0       0.00      0.00      0.00         1\\n     vsn0000       0.95      1.00      0.97        52\\n     vsp00sm       1.00      1.00      1.00        34\\n     vssi3p0       0.00      0.00      0.00         1\\n     vssi3s0       0.00      0.00      0.00         3\\n     vssp3p0       0.00      0.00      0.00         2\\n     vssp3s0       0.93      1.00      0.97        14\\n\\n   micro avg       0.86      0.86      0.86     38486\\n   macro avg       0.45      0.40      0.41     38486\\nweighted avg       0.87      0.86      0.85     38486\\n')\n"
     ]
    }
   ],
   "source": [
    "from sklearn.metrics import classification_report, confusion_matrix\n",
    "\n",
    "results = pd.DataFrame(columns=['Expected', 'Predicted'])\n",
    "k = 0\n",
    "for i, lista_etiquetas_oracion in enumerate(test_tags):\n",
    "    for j, etiquetas in enumerate(lista_etiquetas_oracion):\n",
    "        k = k + 1\n",
    "        results.loc[k, 'Expected'] = etiquetas\n",
    "        results.loc[k, 'Predicted'] = log_tokens[i][j]\n",
    "\n",
    "print(results)\n",
    "\n",
    "\n",
    "print('\\nclassification_report:\\n', classification_report(results['Expected'], results['Predicted']))"
   ]
  },
  {
   "cell_type": "markdown",
   "metadata": {},
   "source": [
    "## PARTE 4 - Testing"
   ]
  },
  {
   "cell_type": "markdown",
   "metadata": {},
   "source": [
    "### Creamos un pequeño Ejemplo"
   ]
  },
  {
   "cell_type": "code",
   "execution_count": 42,
   "metadata": {},
   "outputs": [
    {
     "name": "stdout",
     "output_type": "stream",
     "text": [
      "[['Correr', 'es', 'importante', 'para', 'mi', '.'], ['El', 'hombre', 'bajo', 'corre', 'bajo', 'el', 'puente', 'con', 'bajo', '\\xc3\\xadndice', 'de', 'adrenalina', '.']]\n"
     ]
    }
   ],
   "source": [
    "test_samples = [\n",
    "    \"Correr es importante para mi .\".split(),\n",
    "    \"El hombre bajo corre bajo el puente con bajo índice de adrenalina .\".split()\n",
    "]\n",
    "print(test_samples)"
   ]
  },
  {
   "cell_type": "markdown",
   "metadata": {},
   "source": [
    "### Convertimos el texto en Una entrada para el Modelo y se generan los dos vecores de enteros de las dos oraciones"
   ]
  },
  {
   "cell_type": "code",
   "execution_count": 43,
   "metadata": {},
   "outputs": [
    {
     "name": "stdout",
     "output_type": "stream",
     "text": [
      "[[20700  8193  1237 16276 15734   241     0     0     0     0     0     0\n",
      "      0     0     0     0     0     0     0     0     0     0     0     0\n",
      "      0     0     0     0     0     0     0     0     0     0     0     0\n",
      "      0     0     0     0     0     0     0     0     0     0     0     0\n",
      "      0     0     0     0     0     0     0     0     0     0     0     0\n",
      "      0     0     0     0     0     0     0     0     0     0     0     0\n",
      "      0     0     0     0     0     0     0     0     0     0     0     0\n",
      "      0     0     0     0     0     0     0     0     0     0     0     0\n",
      "      0     0     0     0     0     0     0     0     0     0     0     0\n",
      "      0     0     0     0     0     0     0     0     0     0     0     0\n",
      "      0     0     0     0     0     0     0     0     0     0     0     0\n",
      "      0     0     0     0     0     0     0     0     0     0     0     0\n",
      "      0     0     0     0     0]\n",
      " [ 9256 15797 12428  6768 12428  9256 10482  7915 12428     1  7875     1\n",
      "    241     0     0     0     0     0     0     0     0     0     0     0\n",
      "      0     0     0     0     0     0     0     0     0     0     0     0\n",
      "      0     0     0     0     0     0     0     0     0     0     0     0\n",
      "      0     0     0     0     0     0     0     0     0     0     0     0\n",
      "      0     0     0     0     0     0     0     0     0     0     0     0\n",
      "      0     0     0     0     0     0     0     0     0     0     0     0\n",
      "      0     0     0     0     0     0     0     0     0     0     0     0\n",
      "      0     0     0     0     0     0     0     0     0     0     0     0\n",
      "      0     0     0     0     0     0     0     0     0     0     0     0\n",
      "      0     0     0     0     0     0     0     0     0     0     0     0\n",
      "      0     0     0     0     0     0     0     0     0     0     0     0\n",
      "      0     0     0     0     0]]\n",
      "(2, 149)\n"
     ]
    }
   ],
   "source": [
    "test_samples_X = []\n",
    "for s in test_samples:\n",
    "    s_int = []\n",
    "    for w in s:\n",
    "        try:\n",
    "            s_int.append(word2index[w.lower()])\n",
    "        except KeyError:\n",
    "            s_int.append(word2index['-OOV-'])\n",
    "    test_samples_X.append(s_int)\n",
    "\n",
    "test_samples_X = pad_sequences(test_samples_X, maxlen=MAX_LENGTH, padding='post')\n",
    "print(test_samples_X)\n",
    "print(test_samples_X.shape)"
   ]
  },
  {
   "cell_type": "markdown",
   "metadata": {},
   "source": [
    "### Se Ejecuta la predicion con la Entrada del modelo entrenado y el modelo de la red neuronal predice un matriz de 149 X 291 por cada oración. El shape de a predicción es (2, 149,291)"
   ]
  },
  {
   "cell_type": "code",
   "execution_count": 44,
   "metadata": {},
   "outputs": [
    {
     "name": "stdout",
     "output_type": "stream",
     "text": [
      "(array([[[3.04826208e-05, 9.15326746e-06, 1.20484965e-05, ...,\n",
      "         1.56197511e-03, 7.85015345e-06, 8.93330525e-06],\n",
      "        [4.50396255e-05, 8.65460720e-07, 5.84810323e-07, ...,\n",
      "         1.14595075e-03, 4.56015300e-07, 8.75792807e-07],\n",
      "        [5.33295520e-07, 3.33854366e-08, 8.10568963e-08, ...,\n",
      "         1.52496170e-04, 7.02666014e-08, 5.11216491e-08],\n",
      "        ...,\n",
      "        [9.97277200e-01, 6.26396832e-06, 5.67348434e-06, ...,\n",
      "         2.37173231e-06, 6.10155712e-06, 6.58244926e-06],\n",
      "        [9.97277200e-01, 6.26396832e-06, 5.67348434e-06, ...,\n",
      "         2.37173231e-06, 6.10155712e-06, 6.58244926e-06],\n",
      "        [9.97277200e-01, 6.26396832e-06, 5.67348434e-06, ...,\n",
      "         2.37173231e-06, 6.10155712e-06, 6.58244926e-06]],\n",
      "\n",
      "       [[1.68579354e-05, 2.76881309e-07, 2.12962846e-07, ...,\n",
      "         5.19557689e-05, 2.37430683e-07, 2.80242915e-07],\n",
      "        [8.02057639e-06, 2.20535654e-07, 1.39122989e-07, ...,\n",
      "         1.52592129e-05, 1.91345023e-07, 1.68560518e-07],\n",
      "        [2.66729901e-03, 3.71225615e-05, 6.44865504e-05, ...,\n",
      "         7.21763761e-04, 2.52866248e-05, 3.65504457e-05],\n",
      "        ...,\n",
      "        [9.97277200e-01, 6.26396832e-06, 5.67348434e-06, ...,\n",
      "         2.37173231e-06, 6.10155712e-06, 6.58244926e-06],\n",
      "        [9.97277200e-01, 6.26396832e-06, 5.67348434e-06, ...,\n",
      "         2.37173231e-06, 6.10155712e-06, 6.58244926e-06],\n",
      "        [9.97277200e-01, 6.26396832e-06, 5.67348434e-06, ...,\n",
      "         2.37173231e-06, 6.10155712e-06, 6.58244926e-06]]], dtype=float32), (2, 149, 291))\n"
     ]
    }
   ],
   "source": [
    "predictions = model.predict(test_samples_X)\n",
    "print(predictions, predictions.shape)"
   ]
  },
  {
   "cell_type": "markdown",
   "metadata": {},
   "source": [
    "### Conversion de la Salida del Modelo a un lista de Indices de Tags"
   ]
  },
  {
   "cell_type": "code",
   "execution_count": 45,
   "metadata": {},
   "outputs": [
    {
     "name": "stdout",
     "output_type": "stream",
     "text": [
      "[[u'vmn0000', u'vsip3s0', u'aq0cs0', u'sps00', u'dp1css', u'Fp', '-PAD-', '-PAD-', '-PAD-', '-PAD-', '-PAD-', '-PAD-', '-PAD-', '-PAD-', '-PAD-', '-PAD-', '-PAD-', '-PAD-', '-PAD-', '-PAD-', '-PAD-', '-PAD-', '-PAD-', '-PAD-', '-PAD-', '-PAD-', '-PAD-', '-PAD-', '-PAD-', '-PAD-', '-PAD-', '-PAD-', '-PAD-', '-PAD-', '-PAD-', '-PAD-', '-PAD-', '-PAD-', '-PAD-', '-PAD-', '-PAD-', '-PAD-', '-PAD-', '-PAD-', '-PAD-', '-PAD-', '-PAD-', '-PAD-', '-PAD-', '-PAD-', '-PAD-', '-PAD-', '-PAD-', '-PAD-', '-PAD-', '-PAD-', '-PAD-', '-PAD-', '-PAD-', '-PAD-', '-PAD-', '-PAD-', '-PAD-', '-PAD-', '-PAD-', '-PAD-', '-PAD-', '-PAD-', '-PAD-', '-PAD-', '-PAD-', '-PAD-', '-PAD-', '-PAD-', '-PAD-', '-PAD-', '-PAD-', '-PAD-', '-PAD-', '-PAD-', '-PAD-', '-PAD-', '-PAD-', '-PAD-', '-PAD-', '-PAD-', '-PAD-', '-PAD-', '-PAD-', '-PAD-', '-PAD-', '-PAD-', '-PAD-', '-PAD-', '-PAD-', '-PAD-', '-PAD-', '-PAD-', '-PAD-', '-PAD-', '-PAD-', '-PAD-', '-PAD-', '-PAD-', '-PAD-', '-PAD-', '-PAD-', '-PAD-', '-PAD-', '-PAD-', '-PAD-', '-PAD-', '-PAD-', '-PAD-', '-PAD-', '-PAD-', '-PAD-', '-PAD-', '-PAD-', '-PAD-', '-PAD-', '-PAD-', '-PAD-', '-PAD-', '-PAD-', '-PAD-', '-PAD-', '-PAD-', '-PAD-', '-PAD-', '-PAD-', '-PAD-', '-PAD-', '-PAD-', '-PAD-', '-PAD-', '-PAD-', '-PAD-', '-PAD-', '-PAD-', '-PAD-', '-PAD-', '-PAD-', '-PAD-', '-PAD-', '-PAD-', '-PAD-', '-PAD-', '-PAD-'], [u'da0ms0', u'ncms000', u'sps00', u'vmip3s0', u'sps00', u'da0ms0', u'ncms000', u'sps00', u'sps00', u'vmn0000', u'sps00', u'vmn0000', u'Fp', '-PAD-', '-PAD-', '-PAD-', '-PAD-', '-PAD-', '-PAD-', '-PAD-', '-PAD-', '-PAD-', '-PAD-', '-PAD-', '-PAD-', '-PAD-', '-PAD-', '-PAD-', '-PAD-', '-PAD-', '-PAD-', '-PAD-', '-PAD-', '-PAD-', '-PAD-', '-PAD-', '-PAD-', '-PAD-', '-PAD-', '-PAD-', '-PAD-', '-PAD-', '-PAD-', '-PAD-', '-PAD-', '-PAD-', '-PAD-', '-PAD-', '-PAD-', '-PAD-', '-PAD-', '-PAD-', '-PAD-', '-PAD-', '-PAD-', '-PAD-', '-PAD-', '-PAD-', '-PAD-', '-PAD-', '-PAD-', '-PAD-', '-PAD-', '-PAD-', '-PAD-', '-PAD-', '-PAD-', '-PAD-', '-PAD-', '-PAD-', '-PAD-', '-PAD-', '-PAD-', '-PAD-', '-PAD-', '-PAD-', '-PAD-', '-PAD-', '-PAD-', '-PAD-', '-PAD-', '-PAD-', '-PAD-', '-PAD-', '-PAD-', '-PAD-', '-PAD-', '-PAD-', '-PAD-', '-PAD-', '-PAD-', '-PAD-', '-PAD-', '-PAD-', '-PAD-', '-PAD-', '-PAD-', '-PAD-', '-PAD-', '-PAD-', '-PAD-', '-PAD-', '-PAD-', '-PAD-', '-PAD-', '-PAD-', '-PAD-', '-PAD-', '-PAD-', '-PAD-', '-PAD-', '-PAD-', '-PAD-', '-PAD-', '-PAD-', '-PAD-', '-PAD-', '-PAD-', '-PAD-', '-PAD-', '-PAD-', '-PAD-', '-PAD-', '-PAD-', '-PAD-', '-PAD-', '-PAD-', '-PAD-', '-PAD-', '-PAD-', '-PAD-', '-PAD-', '-PAD-', '-PAD-', '-PAD-', '-PAD-', '-PAD-', '-PAD-', '-PAD-', '-PAD-', '-PAD-', '-PAD-', '-PAD-', '-PAD-', '-PAD-', '-PAD-', '-PAD-', '-PAD-', '-PAD-']]\n"
     ]
    }
   ],
   "source": [
    "log_tokens = logits_to_tokens(predictions, {i: t for t, i in tag2index.items()})\n",
    "print(log_tokens)"
   ]
  },
  {
   "cell_type": "markdown",
   "metadata": {},
   "source": [
    "### Presentación de los Resultados"
   ]
  },
  {
   "cell_type": "code",
   "execution_count": 54,
   "metadata": {},
   "outputs": [
    {
     "name": "stdout",
     "output_type": "stream",
     "text": [
      "Correr    es       importante    para    mi      .\n",
      "--------  -------  ------------  ------  ------  ---\n",
      "vmn0000   vsip3s0  aq0cs0        sps00   dp1css  Fp\n",
      "\n",
      "\n",
      "El hombre bajo corre bajo el puente con bajo índice de adrenalina . \n",
      "[[u'da0ms0', u'ncms000', u'sps00', u'vmip3s0', u'sps00', u'da0ms0', u'ncms000', u'sps00', u'sps00', u'vmn0000', u'sps00', u'vmn0000', u'Fp']]\n"
     ]
    }
   ],
   "source": [
    "#!pip install tabulate\n",
    "from tabulate import tabulate\n",
    "\n",
    "heads1 = test_samples[0]\n",
    "body1 = [log_tokens[0][:len(test_samples[0])]]\n",
    "\n",
    "heads2 = test_samples[1]\n",
    "body2 = [log_tokens[1][:len(test_samples[1])]]\n",
    "\n",
    "print(tabulate(body1, headers=heads1))\n",
    "\n",
    "print (\"\\n\")\n",
    "\n",
    "print(goodPrint(heads2))\n",
    "print(body2)\n",
    "\n",
    "\n",
    "## postagging Freeling 4.1\n",
    "\n",
    "## El      hombre   bajo     corre    bajo  el      puente   con  bajo  índice   de  adrenalina  .\n",
    "## DA0MS0  NCMS000  AQ0MS00  VMIP3S0  SP    DA0MS0  NCMS000  SP   SP    NCMS000  SP  NCFS000     Fp\n",
    "\n",
    "\n",
    "## pos tagger Stanford NLP\n",
    "\n",
    "## El      hombre   bajo     corre    bajo  el      puente   con    bajo   índice  de    adrenalina  .\n",
    "## da0000  nc0s000  aq0000   vmip000  sp000 da0000  nc0s000  sp000  aq0000 nc0s000 sp000 nc0s000     fp"
   ]
  },
  {
   "cell_type": "code",
   "execution_count": null,
   "metadata": {},
   "outputs": [],
   "source": []
  }
 ],
 "metadata": {
  "kernelspec": {
   "display_name": "Python 3",
   "language": "python",
   "name": "python3"
  },
  "language_info": {
   "codemirror_mode": {
    "name": "ipython",
    "version": 2
   },
   "file_extension": ".py",
   "mimetype": "text/x-python",
   "name": "python",
   "nbconvert_exporter": "python",
   "pygments_lexer": "ipython2",
   "version": "2.7.17"
  }
 },
 "nbformat": 4,
 "nbformat_minor": 2
}
