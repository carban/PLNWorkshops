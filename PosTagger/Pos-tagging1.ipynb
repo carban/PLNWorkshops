{
 "cells": [
  {
   "cell_type": "code",
   "execution_count": 58,
   "metadata": {},
   "outputs": [],
   "source": [
    "import numpy as np"
   ]
  },
  {
   "cell_type": "code",
   "execution_count": 59,
   "metadata": {},
   "outputs": [],
   "source": [
    "# Custom function for print a sentence\n",
    "def goodPrint(a):\n",
    "    x = \"\"\n",
    "    for i in range(len(a)):\n",
    "        x += a[i]+\" \"\n",
    "    return x"
   ]
  },
  {
   "cell_type": "markdown",
   "metadata": {},
   "source": [
    "## Downloading nltk corpus"
   ]
  },
  {
   "cell_type": "code",
   "execution_count": 60,
   "metadata": {},
   "outputs": [
    {
     "name": "stderr",
     "output_type": "stream",
     "text": [
      "[nltk_data] Downloading package cess_esp to /home/carban/nltk_data...\n",
      "[nltk_data]   Package cess_esp is already up-to-date!\n"
     ]
    },
    {
     "data": {
      "text/plain": [
       "True"
      ]
     },
     "execution_count": 60,
     "metadata": {},
     "output_type": "execute_result"
    }
   ],
   "source": [
    "import nltk\n",
    "nltk.download('cess_esp')"
   ]
  },
  {
   "cell_type": "code",
   "execution_count": 61,
   "metadata": {},
   "outputs": [],
   "source": [
    "from nltk.corpus import cess_esp\n",
    "\n",
    "tagged_sentences = cess_esp.tagged_sents()"
   ]
  },
  {
   "cell_type": "markdown",
   "metadata": {},
   "source": [
    "## We get a corpus with sentences and the tag for each word"
   ]
  },
  {
   "cell_type": "code",
   "execution_count": 62,
   "metadata": {},
   "outputs": [
    {
     "name": "stdout",
     "output_type": "stream",
     "text": [
      "[(u'El', u'da0ms0'), (u'grupo', u'ncms000'), (u'estatal', u'aq0cs0'), (u'Electricit\\xe9_de_France', u'np00000'), (u'-Fpa-', u'Fpa'), (u'EDF', u'np00000'), (u'-Fpt-', u'Fpt'), (u'anunci\\xf3', u'vmis3s0'), (u'hoy', u'rg'), (u',', u'Fc'), (u'jueves', u'W'), (u',', u'Fc'), (u'la', u'da0fs0'), (u'compra', u'ncfs000'), (u'del', u'spcms'), (u'51_por_ciento', u'Zp'), (u'de', u'sps00'), (u'la', u'da0fs0'), (u'empresa', u'ncfs000'), (u'mexicana', u'aq0fs0'), (u'Electricidad_\\xc1guila_de_Altamira', u'np00000'), (u'-Fpa-', u'Fpa'), (u'EAA', u'np00000'), (u'-Fpt-', u'Fpt'), (u',', u'Fc'), (u'creada', u'aq0fsp'), (u'por', u'sps00'), (u'el', u'da0ms0'), (u'japon\\xe9s', u'aq0ms0'), (u'Mitsubishi_Corporation', u'np00000'), (u'para', u'sps00'), (u'poner_en_marcha', u'vmn0000'), (u'una', u'di0fs0'), (u'central', u'ncfs000'), (u'de', u'sps00'), (u'gas', u'ncms000'), (u'de', u'sps00'), (u'495', u'Z'), (u'megavatios', u'ncmp000'), (u'.', u'Fp')]\n",
      "==========================\n",
      "('Tagged sentences: ', 6030)\n",
      "('Tagged words:', 192685)\n"
     ]
    }
   ],
   "source": [
    "print(tagged_sentences[0])\n",
    "print(\"==========================\")\n",
    "print(\"Tagged sentences: \", len(tagged_sentences))\n",
    "print(\"Tagged words:\", len(cess_esp.tagged_words()))"
   ]
  },
  {
   "cell_type": "markdown",
   "metadata": {},
   "source": [
    "## Splitting Sentence and tag inside two different arrays, later write 2 files for the 2 arrays"
   ]
  },
  {
   "cell_type": "code",
   "execution_count": 63,
   "metadata": {},
   "outputs": [],
   "source": [
    "import numpy as np\n",
    "import pickle\n",
    "\n",
    "sentences, tagss = [], []\n",
    "for tagged_sentence in tagged_sentences:\n",
    "    sentence, tags = zip(*tagged_sentence)\n",
    "    sentences.append(np.array(sentence))\n",
    "    tagss.append(np.array(tags))\n",
    "    \n",
    "# with open(\"sentences.txt\", \"wb\") as fp:\n",
    "#     pickle.dump(sentences, fp)\n",
    "    \n",
    "# with open(\"tags.txt\", \"wb\") as fp:\n",
    "#     pickle.dump(tagss, fp)"
   ]
  },
  {
   "cell_type": "markdown",
   "metadata": {},
   "source": [
    "## Printing a sample of the arrays"
   ]
  },
  {
   "cell_type": "code",
   "execution_count": 64,
   "metadata": {},
   "outputs": [
    {
     "name": "stdout",
     "output_type": "stream",
     "text": [
      "6030\n",
      "\n",
      "Words on the first sentence: 40\n",
      "\n",
      "El grupo estatal Electricité_de_France -Fpa- EDF -Fpt- anunció hoy , jueves , la compra del 51_por_ciento de la empresa mexicana Electricidad_Águila_de_Altamira -Fpa- EAA -Fpt- , creada por el japonés Mitsubishi_Corporation para poner_en_marcha una central de gas de 495 megavatios . \n",
      "\n",
      "tags of the first sentence: 40\n",
      "\n",
      "[u'da0ms0' u'ncms000' u'aq0cs0' u'np00000' u'Fpa' u'np00000' u'Fpt'\n",
      " u'vmis3s0' u'rg' u'Fc' u'W' u'Fc' u'da0fs0' u'ncfs000' u'spcms' u'Zp'\n",
      " u'sps00' u'da0fs0' u'ncfs000' u'aq0fs0' u'np00000' u'Fpa' u'np00000'\n",
      " u'Fpt' u'Fc' u'aq0fsp' u'sps00' u'da0ms0' u'aq0ms0' u'np00000' u'sps00'\n",
      " u'vmn0000' u'di0fs0' u'ncfs000' u'sps00' u'ncms000' u'sps00' u'Z'\n",
      " u'ncmp000' u'Fp']\n"
     ]
    }
   ],
   "source": [
    "print(str(len(sentences)) + \"\\n\")\n",
    "print(\"Words on the first sentence: \"+str(len(sentences[0])))+\"\\n\"\n",
    "print(goodPrint(sentences[0])+ \"\\n\")\n",
    "print(\"tags of the first sentence: \"+str(len(tagss[0])))+\"\\n\"\n",
    "print(tagss[0])"
   ]
  },
  {
   "cell_type": "markdown",
   "metadata": {},
   "source": [
    "## Percentages for training and testing"
   ]
  },
  {
   "cell_type": "code",
   "execution_count": 65,
   "metadata": {},
   "outputs": [],
   "source": [
    "from sklearn.model_selection import train_test_split\n",
    " \n",
    "(training_sentences, \n",
    " test_sentences, \n",
    " training_tags, \n",
    " test_tags) = train_test_split(sentences, tagss, test_size=0.2)\n",
    "\n",
    "(train_sentences, \n",
    " eval_sentences, \n",
    " train_tags, \n",
    " eval_tags) = train_test_split(training_sentences, training_tags, test_size=0.25)"
   ]
  },
  {
   "cell_type": "code",
   "execution_count": 66,
   "metadata": {},
   "outputs": [
    {
     "name": "stdout",
     "output_type": "stream",
     "text": [
      "training_sentences:4824\n",
      "train_sentences: 3618\n",
      "test_sentences: 1206\n",
      "eval_sentences: 1206\n",
      "\n",
      "[u'Comentario' u':' u'El' u'River_Plate' u'ech\\xf3_mano' u'hoy' u'de'\n",
      " u'la' u'potencia' u'de' u'su' u'ofensiva' u'para' u'vencer' u'por' u'dos'\n",
      " u'goles' u'a' u'uno' u'en' u'casa' u'al' u'Boca_Juniors' u'en' u'el'\n",
      " u'partido' u'de' u'ida' u'que' u'ambos' u'equipos' u'argentinos'\n",
      " u'disputaron' u'en' u'los' u'cuartos' u'de' u'final' u'de' u'la'\n",
      " u'Copa_Libertadores_de_Am\\xe9rica' u'.']\n",
      "[u'Los' u'l\\xedderes' u'de' u'la' u'UE' u'acordaron' u'en' u'la' u'cumbre'\n",
      " u'de' u'Helsinki' u',' u'en' u'diciembre' u'pasado' u',' u'suspender'\n",
      " u'la' u'entrega' u'de' u'30' u'millones' u'de' u'euros' u'de' u'ayuda'\n",
      " u'alimentaria' u'y' u'\"' u'reorientar' u'\"' u'los' u'fondos' u'de'\n",
      " u'ayuda' u'del' u'programa' u'TACIS' u'correspondientes' u'al'\n",
      " u'a\\xf1o_2000' u'destinados' u'a' u'Rusia' u'.']\n",
      "[u'Por' u'eso' u'los' u'duelistas' u',' u'al' u'no' u'disponer'\n",
      " u'm\\xe1s_que' u'de' u'armas' u'de' u'ca\\xf1\\xf3n' u'liso' u',' u'de'\n",
      " u'gran' u'alcance' u'pero' u'mucho' u'menos' u'certeras' u',' u'se'\n",
      " u'entregaban' u'al' u'factor' u'suerte' u'.']\n",
      "\n",
      "training_tags:4824\n",
      "train_tags: 3618\n",
      "test_tags: 1206\n",
      "eval_tags: 1206\n",
      "\n",
      "[u'ncms000' u'Fd' u'da0ms0' u'np0000o' u'vmis3s0' u'rg' u'sps00' u'da0fs0'\n",
      " u'ncfs000' u'sps00' u'dp3cs0' u'ncfs000' u'sps00' u'vmn0000' u'sps00'\n",
      " u'dn0cp0' u'ncmp000' u'sps00' u'pi0ms000' u'sps00' u'ncfs000' u'spcms'\n",
      " u'np0000o' u'sps00' u'da0ms0' u'ncms000' u'sps00' u'ncfs000' u'pr0cn000'\n",
      " u'dn0mp0' u'ncmp000' u'aq0mp0' u'vmis3p0' u'sps00' u'da0mp0' u'ncmp000'\n",
      " u'sps00' u'ncfs000' u'sps00' u'da0fs0' u'np0000a' u'Fp']\n",
      "[u'da0mp0' u'nccp000' u'sps00' u'da0fs0' u'np0000o' u'vmis3p0' u'sps00'\n",
      " u'da0fs0' u'ncfs000' u'sps00' u'np0000l' u'Fc' u'sps00' u'W' u'aq0msp'\n",
      " u'Fc' u'vmn0000' u'da0fs0' u'ncfs000' u'sps00' u'Z' u'ncmp000' u'sps00'\n",
      " u'Zm' u'sps00' u'ncfs000' u'aq0fs0' u'cc' u'Fe' u'vmn0000' u'Fe'\n",
      " u'da0mp0' u'ncmp000' u'sps00' u'ncfs000' u'spcms' u'ncms000' u'np0000a'\n",
      " u'aq0cp0' u'spcms' u'W' u'aq0mpp' u'sps00' u'np0000l' u'Fp']\n",
      "[u'sps00' u'pd0ns000' u'da0mp0' u'nccp000' u'Fc' u'spcms' u'rn' u'vmn0000'\n",
      " u'rg' u'sps00' u'ncfp000' u'sps00' u'ncms000' u'aq0ms0' u'Fc' u'sps00'\n",
      " u'aq0cs0' u'ncms000' u'cc' u'rg' u'rg' u'aq0fp0' u'Fc' u'p0300000'\n",
      " u'vmii3p0' u'spcms' u'ncms000' u'ncfs000' u'Fp']\n",
      "(42, 13, 26)\n"
     ]
    }
   ],
   "source": [
    "print(\"training_sentences:\" + str(len(training_sentences)))\n",
    "print(\"train_sentences: \" + str(len(train_sentences)))\n",
    "print(\"test_sentences: \" + str(len(test_sentences)))\n",
    "print(\"eval_sentences: \" + str(len(eval_sentences)) + \"\\n\")\n",
    "\n",
    "print(train_sentences[0])\n",
    "print(test_sentences[0])\n",
    "print(eval_sentences[0])\n",
    "\n",
    "print(\"\\ntraining_tags:\" + str(len(training_sentences)))\n",
    "print(\"train_tags: \" + str(len(train_tags)))\n",
    "print(\"test_tags: \" + str(len(test_tags)))\n",
    "print(\"eval_tags: \" + str(len(eval_tags)) + \"\\n\")\n",
    "\n",
    "print(train_tags[0])\n",
    "print(test_tags[0])\n",
    "print(eval_tags[0])\n",
    "\n",
    "print(len(train_sentences[0]), len(train_sentences[1]), len(train_sentences[2]))"
   ]
  },
  {
   "cell_type": "markdown",
   "metadata": {},
   "source": [
    "## Building dictionary"
   ]
  },
  {
   "cell_type": "code",
   "execution_count": 67,
   "metadata": {},
   "outputs": [
    {
     "name": "stdout",
     "output_type": "stream",
     "text": [
      "24499\n",
      "291\n"
     ]
    }
   ],
   "source": [
    "words, tagsss = set([]), set([])\n",
    " \n",
    "for s in (train_sentences + eval_sentences + test_sentences):\n",
    "    for w in s:\n",
    "        words.add(w.lower())\n",
    "\n",
    "for ts in (train_tags + eval_tags + test_tags):\n",
    "    for t in ts:\n",
    "        tagsss.add(t)\n",
    "\n",
    "word2index = {w: i + 2 for i, w in enumerate(list(words))}\n",
    "word2index['-PAD-'] = 0  # The special value used for padding\n",
    "word2index['-OOV-'] = 1  # The special value used for OOVs\n",
    " \n",
    "tag2index = {t: i + 2 for i, t in enumerate(list(tagsss))}\n",
    "tag2index['-PAD-'] = 0  # The special value used to padding\n",
    "tag2index['-OOV-'] = 1  # The special value used to padding\n",
    "\n",
    "print (len(word2index))\n",
    "print (len(tag2index))\n",
    "\n",
    "# PRINT THIS FOR CHECKING *************************\n",
    "# print(word2index)\n",
    "# print(tag2index)\n",
    "\n",
    "np.save('word2index.npy', word2index)\n",
    "np.save('tag2index.npy', tag2index)"
   ]
  },
  {
   "cell_type": "markdown",
   "metadata": {},
   "source": [
    "## Parsing Dictionary"
   ]
  },
  {
   "cell_type": "code",
   "execution_count": 68,
   "metadata": {},
   "outputs": [],
   "source": [
    "train_sentences_X, eval_sentences_X, test_sentences_X, train_tags_y, eval_tags_y, test_tags_y = [], [], [], [], [], []\n",
    "\n",
    "for s in train_sentences:\n",
    "    s_int = []\n",
    "    for w in s:\n",
    "        try:\n",
    "            s_int.append(word2index[w.lower()])\n",
    "        except KeyError:\n",
    "            s_int.append(word2index['-OOV-'])\n",
    " \n",
    "    train_sentences_X.append(s_int)\n",
    "\n",
    "for s in eval_sentences:\n",
    "    s_int = []\n",
    "    for w in s:\n",
    "        try:\n",
    "            s_int.append(word2index[w.lower()])\n",
    "        except KeyError:\n",
    "            s_int.append(word2index['-OOV-'])\n",
    " \n",
    "    eval_sentences_X.append(s_int)\n",
    "\n",
    "for s in test_sentences:\n",
    "    s_int = []\n",
    "    for w in s:\n",
    "        try:\n",
    "            s_int.append(word2index[w.lower()])\n",
    "        except KeyError:\n",
    "            s_int.append(word2index['-OOV-'])\n",
    " \n",
    "    test_sentences_X.append(s_int)\n",
    "\n",
    "for s in train_tags:\n",
    "    s_int = []\n",
    "    for w in s:\n",
    "        try:\n",
    "            s_int.append(tag2index[w])\n",
    "        except KeyError:\n",
    "            s_int.append(tag2index['-OOV-'])\n",
    "            \n",
    "    train_tags_y.append(s_int)\n",
    "\n",
    "for s in eval_tags:\n",
    "    s_int = []\n",
    "    for w in s:\n",
    "        try:\n",
    "            s_int.append(tag2index[w])\n",
    "        except KeyError:\n",
    "            s_int.append(tag2index['-OOV-'])\n",
    "            \n",
    "    eval_tags_y.append(s_int)\n",
    "\n",
    "for s in test_tags:\n",
    "    s_int = []\n",
    "    for w in s:\n",
    "        try:\n",
    "            s_int.append(tag2index[w])\n",
    "        except KeyError:\n",
    "            s_int.append(tag2index['-OOV-'])\n",
    "            \n",
    "    test_tags_y.append(s_int)"
   ]
  },
  {
   "cell_type": "code",
   "execution_count": 69,
   "metadata": {},
   "outputs": [
    {
     "name": "stdout",
     "output_type": "stream",
     "text": [
      "Longitudes de las Matrices:\n",
      "3618\n",
      "1206\n",
      "1206\n",
      "3618\n",
      "1206\n",
      "1206\n",
      "\n",
      "Muestra de Datos presentes en las Matrices con las transformaciones:\n",
      "\n"
     ]
    }
   ],
   "source": [
    "\n",
    "\n",
    "print(\"Longitudes de las Matrices:\")\n",
    "print(len(train_sentences_X))\n",
    "print(len(eval_sentences_X))\n",
    "print(len(test_sentences_X))\n",
    "print(len(train_tags_y))\n",
    "print(len(eval_tags_y))\n",
    "print(len(test_tags_y))\n",
    "\n",
    "print(\"\\nMuestra de Datos presentes en las Matrices con las transformaciones:\\n\")\n",
    "\n",
    "# print(train_sentences_X[0])\n",
    "# print(eval_sentences_X[0])\n",
    "# print(test_sentences_X[0])\n",
    "# print(train_tags_y[0])\n",
    "# print(eval_tags_y[0])\n",
    "# print(test_tags_y[0])\n",
    "\n"
   ]
  },
  {
   "cell_type": "markdown",
   "metadata": {},
   "source": [
    "## Checking transformation"
   ]
  },
  {
   "cell_type": "code",
   "execution_count": 70,
   "metadata": {},
   "outputs": [
    {
     "name": "stdout",
     "output_type": "stream",
     "text": [
      "Words on the first sentence: 42\n",
      "\n",
      "Comentario : El River_Plate echó_mano hoy de la potencia de su ofensiva para vencer por dos goles a uno en casa al Boca_Juniors en el partido de ida que ambos equipos argentinos disputaron en los cuartos de final de la Copa_Libertadores_de_América . \n",
      "\n",
      "Words on the first sentence PARSED: 42\n",
      "\n",
      "[15208, 19557, 24454, 23019, 6166, 18539, 7850, 10449, 13055, 7850, 12722, 14960, 16269, 22767, 17528, 19590, 138, 20788, 15565, 8164, 6905, 6870, 18633, 8164, 24454, 15970, 7850, 3535, 4356, 3507, 16695, 1489, 5128, 8164, 14509, 18459, 7850, 21228, 7850, 10449, 2583, 241]\n",
      "\n",
      "\n",
      "tags of the first sentence: 42\n",
      "\n",
      "[u'ncms000' u'Fd' u'da0ms0' u'np0000o' u'vmis3s0' u'rg' u'sps00' u'da0fs0'\n",
      " u'ncfs000' u'sps00' u'dp3cs0' u'ncfs000' u'sps00' u'vmn0000' u'sps00'\n",
      " u'dn0cp0' u'ncmp000' u'sps00' u'pi0ms000' u'sps00' u'ncfs000' u'spcms'\n",
      " u'np0000o' u'sps00' u'da0ms0' u'ncms000' u'sps00' u'ncfs000' u'pr0cn000'\n",
      " u'dn0mp0' u'ncmp000' u'aq0mp0' u'vmis3p0' u'sps00' u'da0mp0' u'ncmp000'\n",
      " u'sps00' u'ncfs000' u'sps00' u'da0fs0' u'np0000a' u'Fp']\n",
      "\n",
      "\n",
      "tags of the first sentence PARSED: 42\n",
      "\n",
      "[252, 176, 90, 99, 288, 105, 263, 218, 22, 263, 167, 22, 263, 89, 263, 137, 33, 263, 242, 263, 22, 200, 99, 263, 90, 252, 263, 22, 168, 241, 33, 230, 40, 263, 280, 33, 263, 22, 263, 218, 100, 163]\n"
     ]
    }
   ],
   "source": [
    "print(\"Words on the first sentence: \"+str(len(train_sentences[0])))+\"\\n\"\n",
    "print(goodPrint(train_sentences[0])+ \"\\n\")\n",
    "print(\"Words on the first sentence PARSED: \"+str(len(train_sentences_X[0])))+\"\\n\"\n",
    "print(train_sentences_X[0])\n",
    "print(\"\\n\")\n",
    "print(\"tags of the first sentence: \"+str(len(train_tags[0])))+\"\\n\"\n",
    "print(train_tags[0])\n",
    "print(\"\\n\")\n",
    "print(\"tags of the first sentence PARSED: \"+str(len(train_tags_y[0])))+\"\\n\"\n",
    "print(train_tags_y[0])"
   ]
  },
  {
   "cell_type": "markdown",
   "metadata": {},
   "source": [
    "## Sentence with more words"
   ]
  },
  {
   "cell_type": "code",
   "execution_count": 71,
   "metadata": {},
   "outputs": [
    {
     "name": "stdout",
     "output_type": "stream",
     "text": [
      "(131, 134, 149)\n",
      "Max: 149\n"
     ]
    }
   ],
   "source": [
    "MAX_LENGTH1 = len(max(train_sentences_X, key=len))\n",
    "MAX_LENGTH2 = len(max(eval_sentences_X, key=len))\n",
    "MAX_LENGTH3 = len(max(test_sentences_X, key=len))\n",
    "\n",
    "print(MAX_LENGTH1, MAX_LENGTH2, MAX_LENGTH3)\n",
    "\n",
    "l = [MAX_LENGTH1, MAX_LENGTH2, MAX_LENGTH3]\n",
    "MAX_LENGTH = max(l)\n",
    "\n",
    "print(\"Max: \"+str(MAX_LENGTH))"
   ]
  },
  {
   "cell_type": "markdown",
   "metadata": {},
   "source": [
    "### Se procede a Normalizar las matrices para que todas contengan el mismo numero de columans, con la longitud maxima de palabras encontradas anteriormente, esto se logra agregando ceros a la derecha en las posiciones que hacen falta en el vector"
   ]
  },
  {
   "cell_type": "code",
   "execution_count": 72,
   "metadata": {},
   "outputs": [
    {
     "name": "stdout",
     "output_type": "stream",
     "text": [
      "[15208 19557 24454 23019  6166 18539  7850 10449 13055  7850 12722 14960\n",
      " 16269 22767 17528 19590   138 20788 15565  8164  6905  6870 18633  8164\n",
      " 24454 15970  7850  3535  4356  3507 16695  1489  5128  8164 14509 18459\n",
      "  7850 21228  7850 10449  2583   241     0     0     0     0     0     0\n",
      "     0     0     0     0     0     0     0     0     0     0     0     0\n",
      "     0     0     0     0     0     0     0     0     0     0     0     0\n",
      "     0     0     0     0     0     0     0     0     0     0     0     0\n",
      "     0     0     0     0     0     0     0     0     0     0     0     0\n",
      "     0     0     0     0     0     0     0     0     0     0     0     0\n",
      "     0     0     0     0     0     0     0     0     0     0     0     0\n",
      "     0     0     0     0     0     0     0     0     0     0     0     0\n",
      "     0     0     0     0     0     0     0     0     0     0     0     0\n",
      "     0     0     0     0     0]\n",
      "[17528 10661 14509 11383  6763  6870 11072  4394 22389  7850 21861  7850\n",
      " 17553  5364  6763  7850 15132 24474 21922  6667 21868  6759  6763 12726\n",
      " 20269  6870 13195 10814   241     0     0     0     0     0     0     0\n",
      "     0     0     0     0     0     0     0     0     0     0     0     0\n",
      "     0     0     0     0     0     0     0     0     0     0     0     0\n",
      "     0     0     0     0     0     0     0     0     0     0     0     0\n",
      "     0     0     0     0     0     0     0     0     0     0     0     0\n",
      "     0     0     0     0     0     0     0     0     0     0     0     0\n",
      "     0     0     0     0     0     0     0     0     0     0     0     0\n",
      "     0     0     0     0     0     0     0     0     0     0     0     0\n",
      "     0     0     0     0     0     0     0     0     0     0     0     0\n",
      "     0     0     0     0     0     0     0     0     0     0     0     0\n",
      "     0     0     0     0     0]\n",
      "[14509 20780  7850 10449 13371 19717  8164 10449  8384  7850 18544  6763\n",
      "  8164 18838  8548  6763 15847 10449 11322  7850 16542 23024  7850  2228\n",
      "  7850 19171  1420 10248  5470 20740  5470 14509  1390  7850 19171 10019\n",
      "  3349 22098  7021  6870 17746 10722 20788 19492   241     0     0     0\n",
      "     0     0     0     0     0     0     0     0     0     0     0     0\n",
      "     0     0     0     0     0     0     0     0     0     0     0     0\n",
      "     0     0     0     0     0     0     0     0     0     0     0     0\n",
      "     0     0     0     0     0     0     0     0     0     0     0     0\n",
      "     0     0     0     0     0     0     0     0     0     0     0     0\n",
      "     0     0     0     0     0     0     0     0     0     0     0     0\n",
      "     0     0     0     0     0     0     0     0     0     0     0     0\n",
      "     0     0     0     0     0     0     0     0     0     0     0     0\n",
      "     0     0     0     0     0]\n",
      "[252 176  90  99 288 105 263 218  22 263 167  22 263  89 263 137  33 263\n",
      " 242 263  22 200  99 263  90 252 263  22 168 241  33 230  40 263 280  33\n",
      " 263  22 263 218 100 163   0   0   0   0   0   0   0   0   0   0   0   0\n",
      "   0   0   0   0   0   0   0   0   0   0   0   0   0   0   0   0   0   0\n",
      "   0   0   0   0   0   0   0   0   0   0   0   0   0   0   0   0   0   0\n",
      "   0   0   0   0   0   0   0   0   0   0   0   0   0   0   0   0   0   0\n",
      "   0   0   0   0   0   0   0   0   0   0   0   0   0   0   0   0   0   0\n",
      "   0   0   0   0   0   0   0   0   0   0   0   0   0   0   0   0   0   0\n",
      "   0   0   0   0   0]\n",
      "[263  67 280  94 175 200 109  89 105 263 154 263 252 271 175 263  15 252\n",
      " 152 105 105  34 175  11  97 200 252  22 163   0   0   0   0   0   0   0\n",
      "   0   0   0   0   0   0   0   0   0   0   0   0   0   0   0   0   0   0\n",
      "   0   0   0   0   0   0   0   0   0   0   0   0   0   0   0   0   0   0\n",
      "   0   0   0   0   0   0   0   0   0   0   0   0   0   0   0   0   0   0\n",
      "   0   0   0   0   0   0   0   0   0   0   0   0   0   0   0   0   0   0\n",
      "   0   0   0   0   0   0   0   0   0   0   0   0   0   0   0   0   0   0\n",
      "   0   0   0   0   0   0   0   0   0   0   0   0   0   0   0   0   0   0\n",
      "   0   0   0   0   0]\n",
      "[280  94 263 218  99  40 263 218  22 263  98 175 263 125 238 175  89 218\n",
      "  22 263 202  33 263 130 263  22 144 152 177  89 177 280  33 263  22 200\n",
      " 252 100 128 200 125 267 263  98 163   0   0   0   0   0   0   0   0   0\n",
      "   0   0   0   0   0   0   0   0   0   0   0   0   0   0   0   0   0   0\n",
      "   0   0   0   0   0   0   0   0   0   0   0   0   0   0   0   0   0   0\n",
      "   0   0   0   0   0   0   0   0   0   0   0   0   0   0   0   0   0   0\n",
      "   0   0   0   0   0   0   0   0   0   0   0   0   0   0   0   0   0   0\n",
      "   0   0   0   0   0   0   0   0   0   0   0   0   0   0   0   0   0   0\n",
      "   0   0   0   0   0]\n"
     ]
    }
   ],
   "source": [
    "from keras.preprocessing.sequence import pad_sequences\n",
    " \n",
    "train_sentences_X = pad_sequences(train_sentences_X, maxlen=MAX_LENGTH, padding='post')\n",
    "eval_sentences_X = pad_sequences(eval_sentences_X, maxlen=MAX_LENGTH, padding='post')\n",
    "test_sentences_X = pad_sequences(test_sentences_X, maxlen=MAX_LENGTH, padding='post')\n",
    "train_tags_y = pad_sequences(train_tags_y, maxlen=MAX_LENGTH, padding='post')\n",
    "eval_tags_y = pad_sequences(eval_tags_y, maxlen=MAX_LENGTH, padding='post')\n",
    "test_tags_y = pad_sequences(test_tags_y, maxlen=MAX_LENGTH, padding='post')\n",
    " \n",
    "print(train_sentences_X[0])\n",
    "print(eval_sentences_X[0])\n",
    "print(test_sentences_X[0])\n",
    "print(train_tags_y[0])\n",
    "print(eval_tags_y[0])\n",
    "print(test_tags_y[0])"
   ]
  },
  {
   "cell_type": "markdown",
   "metadata": {},
   "source": [
    "## Definimos la funcion con la cual categorizaremos los tags y los covertiremos un vector One-hot"
   ]
  },
  {
   "cell_type": "code",
   "execution_count": 73,
   "metadata": {},
   "outputs": [],
   "source": [
    "def to_categoricals(sequences, categories):\n",
    "    cat_sequences = []\n",
    "    for s in sequences:\n",
    "        cats = []\n",
    "        for item in s:\n",
    "            cats.append(np.zeros(categories))\n",
    "            cats[-1][item] = 1.0\n",
    "        cat_sequences.append(cats)\n",
    "    return np.array(cat_sequences)\n"
   ]
  },
  {
   "cell_type": "code",
   "execution_count": 74,
   "metadata": {},
   "outputs": [
    {
     "name": "stdout",
     "output_type": "stream",
     "text": [
      "[252 176  90  99 288 105 263 218  22 263 167  22 263  89 263 137  33 263\n",
      " 242 263  22 200  99 263  90 252 263  22 168 241  33 230  40 263 280  33\n",
      " 263  22 263 218 100 163   0   0   0   0   0   0   0   0   0   0   0   0\n",
      "   0   0   0   0   0   0   0   0   0   0   0   0   0   0   0   0   0   0\n",
      "   0   0   0   0   0   0   0   0   0   0   0   0   0   0   0   0   0   0\n",
      "   0   0   0   0   0   0   0   0   0   0   0   0   0   0   0   0   0   0\n",
      "   0   0   0   0   0   0   0   0   0   0   0   0   0   0   0   0   0   0\n",
      "   0   0   0   0   0   0   0   0   0   0   0   0   0   0   0   0   0   0\n",
      "   0   0   0   0   0]\n",
      "[0. 0. 0. 0. 0. 0. 0. 0. 0. 0. 0. 0. 0. 0. 0. 0. 0. 0. 0. 0. 0. 0. 0. 0.\n",
      " 0. 0. 0. 0. 0. 0. 0. 0. 0. 0. 0. 0. 0. 0. 0. 0. 0. 0. 0. 0. 0. 0. 0. 0.\n",
      " 0. 0. 0. 0. 0. 0. 0. 0. 0. 0. 0. 0. 0. 0. 0. 0. 0. 0. 0. 0. 0. 0. 0. 0.\n",
      " 0. 0. 0. 0. 0. 0. 0. 0. 0. 0. 0. 0. 0. 0. 0. 0. 0. 0. 0. 0. 0. 0. 0. 0.\n",
      " 0. 0. 0. 0. 0. 0. 0. 0. 0. 0. 0. 0. 0. 0. 0. 0. 0. 0. 0. 0. 0. 0. 0. 0.\n",
      " 0. 0. 0. 0. 0. 0. 0. 0. 0. 0. 0. 0. 0. 0. 0. 0. 0. 0. 0. 0. 0. 0. 0. 0.\n",
      " 0. 0. 0. 0. 0. 0. 0. 0. 0. 0. 0. 0. 0. 0. 0. 0. 0. 0. 0. 0. 0. 0. 0. 0.\n",
      " 0. 0. 0. 0. 0. 0. 0. 0. 0. 0. 0. 0. 0. 0. 0. 0. 0. 0. 0. 0. 0. 0. 0. 0.\n",
      " 0. 0. 0. 0. 0. 0. 0. 0. 0. 0. 0. 0. 0. 0. 0. 0. 0. 0. 0. 0. 0. 0. 0. 0.\n",
      " 0. 0. 0. 0. 0. 0. 0. 0. 0. 0. 0. 0. 0. 0. 0. 0. 0. 0. 0. 0. 0. 0. 0. 0.\n",
      " 0. 0. 0. 0. 0. 0. 0. 0. 0. 0. 0. 0. 1. 0. 0. 0. 0. 0. 0. 0. 0. 0. 0. 0.\n",
      " 0. 0. 0. 0. 0. 0. 0. 0. 0. 0. 0. 0. 0. 0. 0. 0. 0. 0. 0. 0. 0. 0. 0. 0.\n",
      " 0. 0. 0.]\n"
     ]
    }
   ],
   "source": [
    "cat_train_tags_y = to_categoricals(train_tags_y, len(tag2index))\n",
    "cat_eval_tags_y  = to_categoricals(eval_tags_y, len(tag2index))\n",
    "cat_test_tags_y  = to_categoricals(test_tags_y, len(tag2index))\n",
    "#ddjfkdjfkffffffffffffffffffffffffffffffffffffffffffffffffffffffffffffffff\n",
    "print(train_tags_y[0])\n",
    "print(cat_train_tags_y[0][0])"
   ]
  },
  {
   "cell_type": "code",
   "execution_count": 75,
   "metadata": {},
   "outputs": [
    {
     "name": "stdout",
     "output_type": "stream",
     "text": [
      "291\n",
      "291\n",
      "1206\n"
     ]
    }
   ],
   "source": [
    "print(len(cat_train_tags_y[0][0]))\n",
    "print(len(tag2index))\n",
    "print(len(cat_test_tags_y))"
   ]
  },
  {
   "cell_type": "markdown",
   "metadata": {},
   "source": [
    "# Part 2"
   ]
  },
  {
   "cell_type": "code",
   "execution_count": 76,
   "metadata": {},
   "outputs": [],
   "source": [
    "## Funcion que permite forzar el uso de GPU cuando estan presentes\n",
    "\n",
    "import tensorflow as tf\n",
    "sess = tf.compat.v1.Session(config=tf.compat.v1.ConfigProto(log_device_placement=True))"
   ]
  },
  {
   "cell_type": "code",
   "execution_count": 77,
   "metadata": {},
   "outputs": [
    {
     "name": "stdout",
     "output_type": "stream",
     "text": [
      "WARNING:tensorflow:From /usr/local/lib/python2.7/dist-packages/keras/backend/tensorflow_backend.py:66: The name tf.get_default_graph is deprecated. Please use tf.compat.v1.get_default_graph instead.\n",
      "\n",
      "WARNING:tensorflow:From /usr/local/lib/python2.7/dist-packages/keras/backend/tensorflow_backend.py:541: The name tf.placeholder is deprecated. Please use tf.compat.v1.placeholder instead.\n",
      "\n",
      "WARNING:tensorflow:From /usr/local/lib/python2.7/dist-packages/keras/backend/tensorflow_backend.py:4432: The name tf.random_uniform is deprecated. Please use tf.random.uniform instead.\n",
      "\n",
      "WARNING:tensorflow:From /usr/local/lib/python2.7/dist-packages/keras/optimizers.py:793: The name tf.train.Optimizer is deprecated. Please use tf.compat.v1.train.Optimizer instead.\n",
      "\n",
      "WARNING:tensorflow:From /usr/local/lib/python2.7/dist-packages/keras/backend/tensorflow_backend.py:3576: The name tf.log is deprecated. Please use tf.math.log instead.\n",
      "\n",
      "Model: \"sequential_1\"\n",
      "_________________________________________________________________\n",
      "Layer (type)                 Output Shape              Param #   \n",
      "=================================================================\n",
      "embedding_1 (Embedding)      (None, 149, 128)          3135872   \n",
      "_________________________________________________________________\n",
      "activation_1 (Activation)    (None, 149, 128)          0         \n",
      "_________________________________________________________________\n",
      "dense_1 (Dense)              (None, 149, 291)          37539     \n",
      "_________________________________________________________________\n",
      "activation_2 (Activation)    (None, 149, 291)          0         \n",
      "=================================================================\n",
      "Total params: 3,173,411\n",
      "Trainable params: 3,173,411\n",
      "Non-trainable params: 0\n",
      "_________________________________________________________________\n"
     ]
    }
   ],
   "source": [
    "from keras.models import Sequential\n",
    "from keras.layers import Dense, InputLayer, Embedding, Activation\n",
    "from keras.optimizers import Adam\n",
    "from keras.utils import plot_model\n",
    "\n",
    "model = Sequential()\n",
    "model.add(InputLayer(input_shape=(MAX_LENGTH, )))\n",
    "model.add(Embedding(len(word2index), 128))\n",
    "model.add(Activation('relu'))\n",
    "model.add(Dense(len(tag2index)))\n",
    "model.add(Activation('softmax'))\n",
    "\n",
    "model.compile(loss='categorical_crossentropy', optimizer=Adam(0.001), metrics=['accuracy'])\n",
    " \n",
    "model.summary()\n",
    "\n",
    "# plot_model(model, to_file='model-mb00.png', show_shapes=True)"
   ]
  },
  {
   "cell_type": "code",
   "execution_count": 78,
   "metadata": {},
   "outputs": [
    {
     "name": "stdout",
     "output_type": "stream",
     "text": [
      "WARNING:tensorflow:From /usr/local/lib/python2.7/dist-packages/tensorflow/python/ops/math_grad.py:1250: where (from tensorflow.python.ops.array_ops) is deprecated and will be removed in a future version.\n",
      "Instructions for updating:\n",
      "Use tf.where in 2.0, which has the same broadcast rule as np.where\n",
      "WARNING:tensorflow:From /usr/local/lib/python2.7/dist-packages/keras/backend/tensorflow_backend.py:1033: The name tf.assign_add is deprecated. Please use tf.compat.v1.assign_add instead.\n",
      "\n",
      "Train on 3618 samples, validate on 1206 samples\n",
      "Epoch 1/40\n",
      "3618/3618 [==============================] - 10s 3ms/step - loss: 5.5397 - acc: 0.7830 - val_loss: 5.3812 - val_acc: 0.9041\n",
      "Epoch 2/40\n",
      "3618/3618 [==============================] - 10s 3ms/step - loss: 5.1745 - acc: 0.9103 - val_loss: 4.8872 - val_acc: 0.9079\n",
      "Epoch 3/40\n",
      "3618/3618 [==============================] - 10s 3ms/step - loss: 4.5186 - acc: 0.9103 - val_loss: 4.0327 - val_acc: 0.9057\n",
      "Epoch 4/40\n",
      "3618/3618 [==============================] - 10s 3ms/step - loss: 3.4770 - acc: 0.9092 - val_loss: 2.7994 - val_acc: 0.9062\n",
      "Epoch 5/40\n",
      "3618/3618 [==============================] - 10s 3ms/step - loss: 2.1730 - acc: 0.9123 - val_loss: 1.5441 - val_acc: 0.9138\n",
      "Epoch 6/40\n",
      "3618/3618 [==============================] - 10s 3ms/step - loss: 1.1947 - acc: 0.9186 - val_loss: 0.9350 - val_acc: 0.9171\n",
      "Epoch 7/40\n",
      "3618/3618 [==============================] - 10s 3ms/step - loss: 0.8063 - acc: 0.9227 - val_loss: 0.7138 - val_acc: 0.9209\n",
      "Epoch 8/40\n",
      "3618/3618 [==============================] - 10s 3ms/step - loss: 0.6410 - acc: 0.9260 - val_loss: 0.5976 - val_acc: 0.9246\n",
      "Epoch 9/40\n",
      "3618/3618 [==============================] - 10s 3ms/step - loss: 0.5438 - acc: 0.9315 - val_loss: 0.5233 - val_acc: 0.9301\n",
      "Epoch 10/40\n",
      "3618/3618 [==============================] - 10s 3ms/step - loss: 0.4762 - acc: 0.9370 - val_loss: 0.4689 - val_acc: 0.9351\n",
      "Epoch 11/40\n",
      "3618/3618 [==============================] - 10s 3ms/step - loss: 0.4243 - acc: 0.9436 - val_loss: 0.4267 - val_acc: 0.9408\n",
      "Epoch 12/40\n",
      "3618/3618 [==============================] - 10s 3ms/step - loss: 0.3820 - acc: 0.9489 - val_loss: 0.3924 - val_acc: 0.9435\n",
      "Epoch 13/40\n",
      "3618/3618 [==============================] - 10s 3ms/step - loss: 0.3463 - acc: 0.9535 - val_loss: 0.3635 - val_acc: 0.9479\n",
      "Epoch 14/40\n",
      "3618/3618 [==============================] - 10s 3ms/step - loss: 0.3154 - acc: 0.9594 - val_loss: 0.3386 - val_acc: 0.9517\n",
      "Epoch 15/40\n",
      "3618/3618 [==============================] - 10s 3ms/step - loss: 0.2881 - acc: 0.9648 - val_loss: 0.3172 - val_acc: 0.9548\n",
      "Epoch 16/40\n",
      "3618/3618 [==============================] - 10s 3ms/step - loss: 0.2641 - acc: 0.9686 - val_loss: 0.2984 - val_acc: 0.9569\n",
      "Epoch 17/40\n",
      "3618/3618 [==============================] - 10s 3ms/step - loss: 0.2426 - acc: 0.9711 - val_loss: 0.2820 - val_acc: 0.9583\n",
      "Epoch 18/40\n",
      "3618/3618 [==============================] - 10s 3ms/step - loss: 0.2234 - acc: 0.9734 - val_loss: 0.2676 - val_acc: 0.9598\n",
      "Epoch 19/40\n",
      "3618/3618 [==============================] - 10s 3ms/step - loss: 0.2062 - acc: 0.9755 - val_loss: 0.2548 - val_acc: 0.9613\n",
      "Epoch 20/40\n",
      "3618/3618 [==============================] - 10s 3ms/step - loss: 0.1907 - acc: 0.9772 - val_loss: 0.2435 - val_acc: 0.9620\n",
      "Epoch 21/40\n",
      "3618/3618 [==============================] - 10s 3ms/step - loss: 0.1767 - acc: 0.9786 - val_loss: 0.2335 - val_acc: 0.9630\n",
      "Epoch 22/40\n",
      "3618/3618 [==============================] - 10s 3ms/step - loss: 0.1641 - acc: 0.9797 - val_loss: 0.2246 - val_acc: 0.9636\n",
      "Epoch 23/40\n",
      "3618/3618 [==============================] - 10s 3ms/step - loss: 0.1527 - acc: 0.9807 - val_loss: 0.2167 - val_acc: 0.9643\n",
      "Epoch 24/40\n",
      "3618/3618 [==============================] - 10s 3ms/step - loss: 0.1424 - acc: 0.9816 - val_loss: 0.2097 - val_acc: 0.9647\n",
      "Epoch 25/40\n",
      "3618/3618 [==============================] - 10s 3ms/step - loss: 0.1331 - acc: 0.9824 - val_loss: 0.2034 - val_acc: 0.9653\n",
      "Epoch 26/40\n",
      "3618/3618 [==============================] - 10s 3ms/step - loss: 0.1247 - acc: 0.9832 - val_loss: 0.1979 - val_acc: 0.9657\n",
      "Epoch 27/40\n",
      "3618/3618 [==============================] - 10s 3ms/step - loss: 0.1171 - acc: 0.9836 - val_loss: 0.1929 - val_acc: 0.9661\n",
      "Epoch 28/40\n",
      "3618/3618 [==============================] - 10s 3ms/step - loss: 0.1101 - acc: 0.9840 - val_loss: 0.1884 - val_acc: 0.9664\n",
      "Epoch 29/40\n",
      "3618/3618 [==============================] - 10s 3ms/step - loss: 0.1038 - acc: 0.9844 - val_loss: 0.1843 - val_acc: 0.9666\n",
      "Epoch 30/40\n",
      "3618/3618 [==============================] - 10s 3ms/step - loss: 0.0981 - acc: 0.9848 - val_loss: 0.1807 - val_acc: 0.9669\n",
      "Epoch 31/40\n",
      "3618/3618 [==============================] - 10s 3ms/step - loss: 0.0929 - acc: 0.9851 - val_loss: 0.1775 - val_acc: 0.9671\n",
      "Epoch 32/40\n",
      "3618/3618 [==============================] - 10s 3ms/step - loss: 0.0881 - acc: 0.9855 - val_loss: 0.1745 - val_acc: 0.9672\n",
      "Epoch 33/40\n",
      "3618/3618 [==============================] - 10s 3ms/step - loss: 0.0837 - acc: 0.9857 - val_loss: 0.1719 - val_acc: 0.9674\n",
      "Epoch 34/40\n",
      "3618/3618 [==============================] - 10s 3ms/step - loss: 0.0797 - acc: 0.9860 - val_loss: 0.1694 - val_acc: 0.9675\n",
      "Epoch 35/40\n",
      "3618/3618 [==============================] - 10s 3ms/step - loss: 0.0761 - acc: 0.9862 - val_loss: 0.1673 - val_acc: 0.9677\n",
      "Epoch 36/40\n",
      "3618/3618 [==============================] - 10s 3ms/step - loss: 0.0727 - acc: 0.9864 - val_loss: 0.1653 - val_acc: 0.9678\n",
      "Epoch 37/40\n",
      "3618/3618 [==============================] - 10s 3ms/step - loss: 0.0696 - acc: 0.9867 - val_loss: 0.1635 - val_acc: 0.9679\n",
      "Epoch 38/40\n",
      "3618/3618 [==============================] - 10s 3ms/step - loss: 0.0668 - acc: 0.9868 - val_loss: 0.1618 - val_acc: 0.9680\n",
      "Epoch 39/40\n",
      "3618/3618 [==============================] - 10s 3ms/step - loss: 0.0642 - acc: 0.9870 - val_loss: 0.1603 - val_acc: 0.9680\n",
      "Epoch 40/40\n",
      "3618/3618 [==============================] - 10s 3ms/step - loss: 0.0617 - acc: 0.9872 - val_loss: 0.1589 - val_acc: 0.9681\n",
      "Saved model to disk\n"
     ]
    }
   ],
   "source": [
    "#sudo pip install h5py\n",
    "import os\n",
    "model_hist = model.fit(train_sentences_X, cat_train_tags_y,\n",
    "                       validation_data=(eval_sentences_X, cat_eval_tags_y),\n",
    "                       batch_size=128, \n",
    "                       epochs=40,\n",
    "                       validation_split=0.2)\n",
    "\n",
    "# serialize model to JSON\n",
    "model_json = model.to_json()\n",
    "with open(\"mb-00.json\", \"w\") as json_file:\n",
    "    json_file.write(model_json)\n",
    "\n",
    "# serialize weights to HDF5\n",
    "model.save_weights(\"mb-00.h5\")\n",
    "print(\"Saved model to disk\")"
   ]
  },
  {
   "cell_type": "markdown",
   "metadata": {},
   "source": [
    "# Parte 3"
   ]
  },
  {
   "cell_type": "code",
   "execution_count": 79,
   "metadata": {},
   "outputs": [
    {
     "name": "stdout",
     "output_type": "stream",
     "text": [
      "1206/1206 [==============================] - 1s 750us/step\n",
      "96.85354004451885\n"
     ]
    }
   ],
   "source": [
    "scores = model.evaluate(test_sentences_X, cat_test_tags_y)\n",
    "print(scores[1] * 100)   # acc: 97.66269326210022"
   ]
  },
  {
   "cell_type": "code",
   "execution_count": 80,
   "metadata": {},
   "outputs": [],
   "source": [
    "import matplotlib.pyplot as plt\n",
    "\n",
    "def plot_model_performance(train_loss, train_acc, train_val_loss, train_val_acc):\n",
    "    \"\"\" Plot model loss and accuracy through epochs. \"\"\"\n",
    "    blue= '#34495E'\n",
    "    green = '#2ECC71'\n",
    "    orange = '#E23B13'\n",
    "    \n",
    "    # plot model loss\n",
    "    fig, (ax1, ax2) = plt.subplots(2, figsize=(10, 8))\n",
    "    ax1.plot(range(1, len(train_loss) + 1), train_loss, blue, linewidth=5, label='training')\n",
    "    ax1.plot(range(1, len(train_val_loss) + 1), train_val_loss, green, linewidth=5, label='validation')\n",
    "    ax1.set_xlabel('# epoch')\n",
    "    ax1.set_ylabel('loss')\n",
    "    ax1.tick_params('y')\n",
    "    ax1.legend(loc='upper right', shadow=False)\n",
    "    ax1.set_title('Model loss through #epochs', color=orange, fontweight='bold')\n",
    "    \n",
    "    # plot model accuracy\n",
    "    ax2.plot(range(1, len(train_acc) + 1), train_acc, blue, linewidth=5, label='training')\n",
    "    ax2.plot(range(1, len(train_val_acc) + 1), train_val_acc, green, linewidth=5, label='validation')\n",
    "    ax2.set_xlabel('# epoch')\n",
    "    ax2.set_ylabel('accuracy')\n",
    "    ax2.tick_params('y')\n",
    "    ax2.legend(loc='lower right', shadow=False)\n",
    "    ax2.set_title('Model accuracy through #epochs', color=orange, fontweight='bold')\n",
    "    \n",
    "#     fig.savefig('Plot/training/training-mb-00.png', bbox_inches='tight')"
   ]
  },
  {
   "cell_type": "code",
   "execution_count": 81,
   "metadata": {},
   "outputs": [
    {
     "data": {
      "image/png": "[encoded data removed]",
      "text/plain": [
       "<Figure size 720x576 with 2 Axes>"
      ]
     },
     "metadata": {
      "needs_background": "light"
     },
     "output_type": "display_data"
    }
   ],
   "source": [
    "plot_model_performance(\n",
    "    train_loss=model_hist.history.get('loss', []),\n",
    "    train_acc=model_hist.history.get('acc', []),\n",
    "    train_val_loss=model_hist.history.get('val_loss', []),\n",
    "    train_val_acc=model_hist.history.get('val_acc', [])\n",
    ")"
   ]
  },
  {
   "cell_type": "markdown",
   "metadata": {},
   "source": [
    "## Función que Permite convertir Indices en Tags"
   ]
  },
  {
   "cell_type": "code",
   "execution_count": 82,
   "metadata": {},
   "outputs": [],
   "source": [
    "#ESTA FUNCION RECIBE EN sequences LA LISTA DE ORACIONES DONDE CADA ELEMENTO DE LA ORACION ES UN ONE HOT VECTOR\n",
    "def logits_to_tokens(sequences, index):\n",
    "    token_sequences = []\n",
    "    for categorical_sequence in sequences:\n",
    "        token_sequence = []\n",
    "        for categorical in categorical_sequence:\n",
    "            token_sequence.append(index[np.argmax(categorical)])\n",
    " \n",
    "        token_sequences.append(token_sequence)\n",
    " \n",
    "    return token_sequences"
   ]
  },
  {
   "cell_type": "markdown",
   "metadata": {},
   "source": [
    "## Hacemos la prediccion sobre el conjunto de pruebas. De la distribución probabilítica a etiquetas."
   ]
  },
  {
   "cell_type": "code",
   "execution_count": 83,
   "metadata": {},
   "outputs": [
    {
     "name": "stdout",
     "output_type": "stream",
     "text": [
      "[u'da0mp0', u'nccp000', u'sps00', u'da0fs0', u'np0000o', u'vmis3p0', u'sps00', u'da0fs0', u'ncfs000', u'sps00', u'np0000l', u'Fc', u'sps00', u'W', u'aq0msp', u'Fc', u'vmn0000', u'da0fs0', u'ncfs000', u'sps00', u'Z', u'ncmp000', u'sps00', u'Zm', u'sps00', u'ncfs000', u'np0000p', u'cc', u'Fe', u'np0000p', u'Fe', u'da0mp0', u'ncmp000', u'sps00', u'ncfs000', u'spcms', u'ncms000', u'np0000a', u'np0000o', u'spcms', u'W', u'aq0mpp', u'sps00', u'np0000o', u'Fp', '-PAD-', '-PAD-', '-PAD-', '-PAD-', '-PAD-', '-PAD-', '-PAD-', '-PAD-', '-PAD-', '-PAD-', '-PAD-', '-PAD-', '-PAD-', '-PAD-', '-PAD-', '-PAD-', '-PAD-', '-PAD-', '-PAD-', '-PAD-', '-PAD-', '-PAD-', '-PAD-', '-PAD-', '-PAD-', '-PAD-', '-PAD-', '-PAD-', '-PAD-', '-PAD-', '-PAD-', '-PAD-', '-PAD-', '-PAD-', '-PAD-', '-PAD-', '-PAD-', '-PAD-', '-PAD-', '-PAD-', '-PAD-', '-PAD-', '-PAD-', '-PAD-', '-PAD-', '-PAD-', '-PAD-', '-PAD-', '-PAD-', '-PAD-', '-PAD-', '-PAD-', '-PAD-', '-PAD-', '-PAD-', '-PAD-', '-PAD-', '-PAD-', '-PAD-', '-PAD-', '-PAD-', '-PAD-', '-PAD-', '-PAD-', '-PAD-', '-PAD-', '-PAD-', '-PAD-', '-PAD-', '-PAD-', '-PAD-', '-PAD-', '-PAD-', '-PAD-', '-PAD-', '-PAD-', '-PAD-', '-PAD-', '-PAD-', '-PAD-', '-PAD-', '-PAD-', '-PAD-', '-PAD-', '-PAD-', '-PAD-', '-PAD-', '-PAD-', '-PAD-', '-PAD-', '-PAD-', '-PAD-', '-PAD-', '-PAD-', '-PAD-', '-PAD-', '-PAD-', '-PAD-', '-PAD-', '-PAD-', '-PAD-', '-PAD-', '-PAD-', '-PAD-']\n"
     ]
    }
   ],
   "source": [
    "import pandas as pd\n",
    "\n",
    "prediction = model.predict(test_sentences_X)\n",
    "log_tokens = logits_to_tokens(prediction, {i: t for t, i in tag2index.items()})\n",
    "\n",
    "print(log_tokens[0])"
   ]
  },
  {
   "cell_type": "code",
   "execution_count": 84,
   "metadata": {},
   "outputs": [
    {
     "name": "stdout",
     "output_type": "stream",
     "text": [
      "       Expected Predicted\n",
      "1        da0mp0    da0mp0\n",
      "2       nccp000   nccp000\n",
      "3         sps00     sps00\n",
      "4        da0fs0    da0fs0\n",
      "5       np0000o   np0000o\n",
      "6       vmis3p0   vmis3p0\n",
      "7         sps00     sps00\n",
      "8        da0fs0    da0fs0\n",
      "9       ncfs000   ncfs000\n",
      "10        sps00     sps00\n",
      "11      np0000l   np0000l\n",
      "12           Fc        Fc\n",
      "13        sps00     sps00\n",
      "14            W         W\n",
      "15       aq0msp    aq0msp\n",
      "16           Fc        Fc\n",
      "17      vmn0000   vmn0000\n",
      "18       da0fs0    da0fs0\n",
      "19      ncfs000   ncfs000\n",
      "20        sps00     sps00\n",
      "21            Z         Z\n",
      "22      ncmp000   ncmp000\n",
      "23        sps00     sps00\n",
      "24           Zm        Zm\n",
      "25        sps00     sps00\n",
      "26      ncfs000   ncfs000\n",
      "27       aq0fs0   np0000p\n",
      "28           cc        cc\n",
      "29           Fe        Fe\n",
      "30      vmn0000   np0000p\n",
      "...         ...       ...\n",
      "38088   ncms000   ncms000\n",
      "38089    aq0msp   vmp00sm\n",
      "38090       Fpt       Fpt\n",
      "38091        Fc        Fc\n",
      "38092     sps00     sps00\n",
      "38093    di0fs0    di0fs0\n",
      "38094   ncfs000   ncfs000\n",
      "38095     sps00     sps00\n",
      "38096   ncms000   ncms000\n",
      "38097        cs        cs\n",
      "38098    da0ms0    da0ms0\n",
      "38099     sps00     sps00\n",
      "38100   np0000p   np0000p\n",
      "38101     sps00     sps00\n",
      "38102   np0000p   np0000p\n",
      "38103        Fc        Fc\n",
      "38104        cc        cc\n",
      "38105  pr0cn000  pr0cn000\n",
      "38106        rg        rg\n",
      "38107   vaip3s0   vaip3s0\n",
      "38108   vmp00sm   vmp00sm\n",
      "38109     sps00     sps00\n",
      "38110    da0fs0    da0fs0\n",
      "38111   ncfs000   ncfs000\n",
      "38112     sps00     sps00\n",
      "38113        rg        rg\n",
      "38114     sps00     sps00\n",
      "38115    di0ms0    di0ms0\n",
      "38116   ncms000   ncms000\n",
      "38117        Fp        Fp\n",
      "\n",
      "[38117 rows x 2 columns]\n"
     ]
    },
    {
     "name": "stderr",
     "output_type": "stream",
     "text": [
      "/usr/local/lib/python2.7/dist-packages/sklearn/metrics/classification.py:1143: UndefinedMetricWarning: Precision and F-score are ill-defined and being set to 0.0 in labels with no predicted samples.\n",
      "  'precision', 'predicted', average, warn_for)\n",
      "/usr/local/lib/python2.7/dist-packages/sklearn/metrics/classification.py:1145: UndefinedMetricWarning: Recall and F-score are ill-defined and being set to 0.0 in labels with no true samples.\n",
      "  'recall', 'true', average, warn_for)\n"
     ]
    },
    {
     "name": "stdout",
     "output_type": "stream",
     "text": [
      "('\\nclassification_report:\\n', u'              precision    recall  f1-score   support\\n\\n       -PAD-       0.00      0.00      0.00         0\\n         Faa       0.00      0.00      0.00         4\\n         Fat       0.00      0.00      0.00         6\\n          Fc       1.00      1.00      1.00      2240\\n          Fd       1.00      1.00      1.00        81\\n          Fe       1.00      1.00      1.00       601\\n          Fg       1.00      1.00      1.00       254\\n          Fh       0.00      0.00      0.00         1\\n         Fia       1.00      1.00      1.00         6\\n         Fit       1.00      1.00      1.00        27\\n          Fp       1.00      1.00      1.00      1172\\n         Fpa       1.00      1.00      1.00       180\\n         Fpt       1.00      1.00      1.00       181\\n          Fs       0.00      0.00      0.00        11\\n          Fx       1.00      1.00      1.00        40\\n          Fz       0.00      0.00      0.00         2\\n           W       0.97      0.61      0.75       183\\n           Y       0.00      0.00      0.00         1\\n           Z       0.98      0.68      0.80       276\\n          Zm       1.00      0.89      0.94        38\\n          Zp       1.00      0.32      0.48        41\\n      ao0fp0       0.00      0.00      0.00         5\\n      ao0fs0       0.98      1.00      0.99        56\\n      ao0mp0       1.00      1.00      1.00        19\\n      ao0ms0       0.93      0.95      0.94        58\\n     aq00000       0.00      0.00      0.00         2\\n      aq0cn0       0.00      0.00      0.00        10\\n      aq0cp0       0.87      0.67      0.76       249\\n      aq0cs0       0.92      0.84      0.87       594\\n      aq0fp0       0.86      0.62      0.72       141\\n      aq0fpp       0.94      0.29      0.44        55\\n      aq0fs0       0.88      0.71      0.78       394\\n      aq0fsp       0.84      0.42      0.56       109\\n      aq0mp0       0.85      0.57      0.68       205\\n      aq0mpp       0.84      0.47      0.60       101\\n      aq0ms0       0.80      0.68      0.74       490\\n      aq0msp       0.71      0.38      0.50       206\\n          cc       0.99      0.99      0.99      1170\\n          cs       0.94      0.40      0.56       926\\n      da0fp0       0.98      1.00      0.99       367\\n      da0fs0       0.99      1.00      0.99      1289\\n      da0mp0       0.99      1.00      0.99       621\\n      da0ms0       1.00      1.00      1.00      1217\\n      da0ns0       0.69      1.00      0.82        97\\n      dd0cp0       0.00      0.00      0.00         2\\n      dd0cs0       0.00      0.00      0.00         5\\n      dd0fp0       1.00      1.00      1.00        22\\n      dd0fs0       0.95      1.00      0.97        75\\n      dd0mp0       0.87      1.00      0.93        20\\n      dd0ms0       0.91      1.00      0.95        89\\n      de0cn0       0.00      0.00      0.00         1\\n      di0cp0       0.00      0.00      0.00         5\\n      di0cs0       1.00      0.98      0.99        45\\n      di0fp0       0.81      0.99      0.89        69\\n      di0fs0       0.93      1.00      0.96       357\\n      di0mp0       0.75      0.99      0.85       108\\n      di0ms0       0.94      0.96      0.95       451\\n      dn0cp0       0.81      0.97      0.88       158\\n      dn0cs0       0.00      0.00      0.00         1\\n      dn0fp0       0.00      0.00      0.00         5\\n      dn0fs0       0.00      0.00      0.00         3\\n      dn0mp0       0.00      0.00      0.00         6\\n      dn0ms0       0.00      0.00      0.00         3\\n      dp1cps       0.00      0.00      0.00         2\\n      dp1css       1.00      1.00      1.00        22\\n      dp1fpp       0.00      0.00      0.00         3\\n      dp1fsp       0.00      0.00      0.00         7\\n      dp1mpp       0.00      0.00      0.00         3\\n      dp1msp       0.00      0.00      0.00        11\\n      dp2css       0.00      0.00      0.00         2\\n      dp3cp0       1.00      1.00      1.00       103\\n      dp3cs0       1.00      1.00      1.00       271\\n      dp3fs0       0.00      0.00      0.00         1\\n      dp3ms0       0.00      0.00      0.00         1\\n      dt0cn0       0.00      0.00      0.00         6\\n      dt0ms0       0.00      0.00      0.00         1\\n           i       0.00      0.00      0.00         6\\n     nc00000       0.00      0.00      0.00        29\\n     nccn000       0.00      0.00      0.00         5\\n     nccp000       0.83      0.76      0.79       109\\n     nccs000       0.85      0.74      0.79       119\\n     ncfn000       0.00      0.00      0.00        14\\n     ncfp000       0.90      0.79      0.84       776\\n     ncfs000       0.81      0.86      0.83      2153\\n     ncmn000       1.00      0.25      0.40        28\\n     ncmp000       0.75      0.81      0.78      1129\\n     ncms000       0.75      0.85      0.80      2235\\n     np00000       1.00      0.09      0.16        57\\n     np0000a       0.92      0.36      0.51       183\\n     np0000l       0.77      0.64      0.70       410\\n     np0000o       0.61      0.57      0.59       629\\n     np0000p       0.27      0.67      0.39       733\\n    p0000000       0.00      0.00      0.00       163\\n    p010p000       0.00      0.00      0.00         4\\n    p010s000       0.00      0.00      0.00         6\\n    p020s000       0.00      0.00      0.00         3\\n    p0300000       0.54      1.00      0.70       210\\n    pd0cp000       0.00      0.00      0.00         1\\n    pd0fp000       0.00      0.00      0.00         1\\n    pd0fs000       0.00      0.00      0.00         7\\n    pd0mp000       0.00      0.00      0.00         5\\n    pd0ms000       0.00      0.00      0.00         6\\n    pd0ns000       1.00      1.00      1.00        27\\n    pi0cp000       0.00      0.00      0.00         6\\n    pi0cs000       1.00      1.00      1.00        39\\n    pi0fp000       0.00      0.00      0.00        16\\n    pi0fs000       0.00      0.00      0.00        19\\n    pi0mp000       0.00      0.00      0.00        35\\n    pi0ms000       0.94      0.50      0.65        64\\n    pn0cp000       0.00      0.00      0.00        36\\n    pn0fp000       0.00      0.00      0.00         1\\n    pn0fs000       0.00      0.00      0.00         1\\n    pn0mp000       0.00      0.00      0.00         2\\n    pn0ms000       0.00      0.00      0.00         1\\n    pp1cp000       0.87      1.00      0.93        26\\n    pp1cs000       0.71      1.00      0.83        15\\n    pp1csn00       1.00      1.00      1.00        10\\n    pp1cso00       0.00      0.00      0.00         6\\n    pp1mp000       0.00      0.00      0.00        11\\n    pp2cp000       0.00      0.00      0.00         2\\n    pp2cs000       0.00      0.00      0.00         4\\n    pp2cs00p       0.00      0.00      0.00         1\\n    pp2cso00       0.00      0.00      0.00         2\\n    pp3cn000       0.00      0.00      0.00        15\\n    pp3cna00       0.00      0.00      0.00         3\\n    pp3cno00       0.00      0.00      0.00        10\\n    pp3cpa00       0.00      0.00      0.00         1\\n    pp3cpd00       0.94      1.00      0.97        15\\n    pp3csa00       0.00      0.00      0.00         4\\n    pp3csd00       0.93      1.00      0.96        52\\n    pp3fp000       0.00      0.00      0.00         7\\n    pp3fpa00       0.00      0.00      0.00         8\\n    pp3fs000       1.00      1.00      1.00        11\\n    pp3fsa00       0.00      0.00      0.00        12\\n    pp3mp000       1.00      1.00      1.00        16\\n    pp3mpa00       0.00      0.00      0.00         7\\n    pp3ms000       1.00      1.00      1.00        25\\n    pp3msa00       0.00      0.00      0.00        41\\n    pp3ns000       1.00      1.00      1.00        12\\n    pr000000       1.00      0.67      0.80        39\\n    pr0cn000       0.52      1.00      0.68       571\\n    pr0cp000       0.00      0.00      0.00        10\\n    pr0cs000       1.00      1.00      1.00        41\\n    pr0fp000       0.00      0.00      0.00         2\\n    pr0fs000       0.00      0.00      0.00         6\\n    pr0mp000       0.00      0.00      0.00         3\\n    pr0ms000       0.00      0.00      0.00         9\\n    pt000000       1.00      0.80      0.89        15\\n    pt0cs000       0.72      1.00      0.84        18\\n    px1fs0p0       0.00      0.00      0.00         1\\n    px3fs000       0.00      0.00      0.00         2\\n    px3mp000       0.00      0.00      0.00         1\\n    px3ms000       0.00      0.00      0.00         1\\n          rg       0.96      0.89      0.92      1154\\n          rn       0.99      1.00      0.99       274\\n   sn.co-SUJ       0.00      0.00      0.00         1\\n        sn.e       0.00      0.00      0.00         3\\n    sn.e-SUJ       0.99      1.00      1.00       772\\n sn.e.1n-SUJ       0.00      0.00      0.00         3\\n       spcms       1.00      0.99      0.99       641\\n       sps00       0.99      0.99      0.99      4987\\n     vaic3s0       0.00      0.00      0.00         2\\n     vaif2s0       0.00      0.00      0.00         1\\n     vaif3s0       0.00      0.00      0.00         4\\n     vaii1p0       0.00      0.00      0.00         1\\n     vaii1s0       0.00      0.00      0.00         2\\n     vaii3p0       1.00      1.00      1.00         7\\n     vaii3s0       0.94      1.00      0.97        29\\n     vaip1p0       0.00      0.00      0.00         3\\n     vaip1s0       0.00      0.00      0.00         7\\n     vaip3p0       1.00      1.00      1.00        34\\n     vaip3s0       1.00      1.00      1.00       187\\n     vais3s0       0.00      0.00      0.00         6\\n     van0000       1.00      0.93      0.96        14\\n     vasi3s0       0.00      0.00      0.00         4\\n     vasp3p0       0.00      0.00      0.00         3\\n     vasp3s0       0.00      0.00      0.00        12\\n     vmg0000       1.00      0.42      0.59       107\\n     vmic1p0       0.00      0.00      0.00         3\\n     vmic1s0       0.00      0.00      0.00         3\\n     vmic3p0       0.00      0.00      0.00         7\\n     vmic3s0       1.00      0.50      0.67        20\\n     vmif1p0       0.00      0.00      0.00         2\\n     vmif2s0       0.00      0.00      0.00         2\\n     vmif3p0       1.00      0.09      0.17        32\\n     vmif3s0       1.00      0.58      0.73       105\\n     vmii1p0       0.00      0.00      0.00         7\\n     vmii1s0       0.00      0.00      0.00         3\\n     vmii2s0       0.00      0.00      0.00         1\\n     vmii3p0       1.00      0.42      0.59        52\\n     vmii3s0       0.98      0.72      0.83       148\\n     vmip1p0       1.00      0.71      0.83        51\\n     vmip1s0       1.00      0.69      0.81        54\\n     vmip2p0       0.00      0.00      0.00         1\\n     vmip2s0       0.00      0.00      0.00         8\\n     vmip3p0       0.99      0.71      0.83       256\\n     vmip3s0       0.95      0.84      0.89       653\\n     vmis1p0       0.00      0.00      0.00         6\\n     vmis1s0       0.00      0.00      0.00        18\\n     vmis2s0       0.00      0.00      0.00         1\\n     vmis3p0       0.99      0.55      0.71       136\\n     vmis3s0       0.98      0.85      0.91       588\\n     vmm01p0       0.00      0.00      0.00         1\\n     vmm02s0       0.00      0.00      0.00         9\\n     vmm03p0       0.00      0.00      0.00         8\\n     vmm03s0       0.00      0.00      0.00         6\\n     vmn0000       0.44      0.78      0.57       812\\n     vmp00pf       0.00      0.00      0.00         6\\n     vmp00pm       0.00      0.00      0.00        21\\n     vmp00sf       0.00      0.00      0.00        20\\n     vmp00sm       0.65      0.64      0.64       259\\n     vmsi1s0       0.00      0.00      0.00         4\\n     vmsi3p0       0.00      0.00      0.00        12\\n     vmsi3s0       1.00      0.10      0.18        31\\n     vmsp1p0       0.00      0.00      0.00         6\\n     vmsp1s0       0.00      0.00      0.00         6\\n     vmsp2p0       0.00      0.00      0.00         1\\n     vmsp2s0       0.00      0.00      0.00         1\\n     vmsp3p0       0.85      0.40      0.55        42\\n     vmsp3s0       0.87      0.51      0.64        67\\n     vsg0000       0.00      0.00      0.00         3\\n     vsic1s0       0.00      0.00      0.00         1\\n     vsic3p0       0.00      0.00      0.00         2\\n     vsic3s0       0.00      0.00      0.00         8\\n     vsif3p0       0.00      0.00      0.00         3\\n     vsif3s0       1.00      1.00      1.00        18\\n     vsii1p0       0.00      0.00      0.00         1\\n     vsii3p0       0.00      0.00      0.00        11\\n     vsii3s0       0.89      1.00      0.94        25\\n     vsip1p0       0.00      0.00      0.00         2\\n     vsip1s0       0.00      0.00      0.00         6\\n     vsip3p0       1.00      1.00      1.00        57\\n     vsip3s0       1.00      1.00      1.00       201\\n     vsis3p0       0.94      1.00      0.97        17\\n     vsis3s0       0.96      1.00      0.98        51\\n     vsm03s0       0.00      0.00      0.00         1\\n     vsn0000       0.85      1.00      0.92        40\\n     vsp00sm       1.00      1.00      1.00        31\\n     vssf3s0       0.00      0.00      0.00         1\\n     vssi3p0       0.00      0.00      0.00         1\\n     vssi3s0       0.00      0.00      0.00         1\\n     vssp3p0       0.00      0.00      0.00         3\\n     vssp3s0       0.00      0.00      0.00        19\\n\\n   micro avg       0.85      0.85      0.85     38117\\n   macro avg       0.42      0.38      0.39     38117\\nweighted avg       0.87      0.85      0.85     38117\\n')\n"
     ]
    }
   ],
   "source": [
    "from sklearn.metrics import classification_report, confusion_matrix\n",
    "\n",
    "results = pd.DataFrame(columns=['Expected', 'Predicted'])\n",
    "k = 0\n",
    "for i, lista_etiquetas_oracion in enumerate(test_tags):\n",
    "    for j, etiquetas in enumerate(lista_etiquetas_oracion):\n",
    "        k = k + 1\n",
    "        results.loc[k, 'Expected'] = etiquetas\n",
    "        results.loc[k, 'Predicted'] = log_tokens[i][j]\n",
    "\n",
    "print(results)\n",
    "\n",
    "\n",
    "print('\\nclassification_report:\\n', classification_report(results['Expected'], results['Predicted']))"
   ]
  },
  {
   "cell_type": "markdown",
   "metadata": {},
   "source": [
    "## PARTE 4 - Testing"
   ]
  },
  {
   "cell_type": "markdown",
   "metadata": {},
   "source": [
    "### Creamos un pequeño Ejemplo"
   ]
  },
  {
   "cell_type": "code",
   "execution_count": 85,
   "metadata": {},
   "outputs": [
    {
     "name": "stdout",
     "output_type": "stream",
     "text": [
      "[['Correr', 'es', 'importante', 'para', 'mi', '.'], ['El', 'hombre', 'bajo', 'corre', 'bajo', 'el', 'puente', 'con', 'bajo', '\\xc3\\xadndice', 'de', 'adrenalina', '.']]\n"
     ]
    }
   ],
   "source": [
    "test_samples = [\n",
    "    \"Correr es importante para mi .\".split(),\n",
    "    \"El hombre bajo corre bajo el puente con bajo índice de adrenalina .\".split()\n",
    "]\n",
    "print(test_samples)"
   ]
  },
  {
   "cell_type": "markdown",
   "metadata": {},
   "source": [
    "### Convertimos el texto en Una entrada para el Modelo y se generan los dos vecores de enteros de las dos oraciones"
   ]
  },
  {
   "cell_type": "code",
   "execution_count": 86,
   "metadata": {},
   "outputs": [
    {
     "name": "stdout",
     "output_type": "stream",
     "text": [
      "[[20699  8172  1242 16269 15727   241     0     0     0     0     0     0\n",
      "      0     0     0     0     0     0     0     0     0     0     0     0\n",
      "      0     0     0     0     0     0     0     0     0     0     0     0\n",
      "      0     0     0     0     0     0     0     0     0     0     0     0\n",
      "      0     0     0     0     0     0     0     0     0     0     0     0\n",
      "      0     0     0     0     0     0     0     0     0     0     0     0\n",
      "      0     0     0     0     0     0     0     0     0     0     0     0\n",
      "      0     0     0     0     0     0     0     0     0     0     0     0\n",
      "      0     0     0     0     0     0     0     0     0     0     0     0\n",
      "      0     0     0     0     0     0     0     0     0     0     0     0\n",
      "      0     0     0     0     0     0     0     0     0     0     0     0\n",
      "      0     0     0     0     0     0     0     0     0     0     0     0\n",
      "      0     0     0     0     0]\n",
      " [24454 15791 12420  6743 12420 24454 10461 22927 12420     1  7850     1\n",
      "    241     0     0     0     0     0     0     0     0     0     0     0\n",
      "      0     0     0     0     0     0     0     0     0     0     0     0\n",
      "      0     0     0     0     0     0     0     0     0     0     0     0\n",
      "      0     0     0     0     0     0     0     0     0     0     0     0\n",
      "      0     0     0     0     0     0     0     0     0     0     0     0\n",
      "      0     0     0     0     0     0     0     0     0     0     0     0\n",
      "      0     0     0     0     0     0     0     0     0     0     0     0\n",
      "      0     0     0     0     0     0     0     0     0     0     0     0\n",
      "      0     0     0     0     0     0     0     0     0     0     0     0\n",
      "      0     0     0     0     0     0     0     0     0     0     0     0\n",
      "      0     0     0     0     0     0     0     0     0     0     0     0\n",
      "      0     0     0     0     0]]\n",
      "(2, 149)\n"
     ]
    }
   ],
   "source": [
    "test_samples_X = []\n",
    "for s in test_samples:\n",
    "    s_int = []\n",
    "    for w in s:\n",
    "        try:\n",
    "            s_int.append(word2index[w.lower()])\n",
    "        except KeyError:\n",
    "            s_int.append(word2index['-OOV-'])\n",
    "    test_samples_X.append(s_int)\n",
    "\n",
    "test_samples_X = pad_sequences(test_samples_X, maxlen=MAX_LENGTH, padding='post')\n",
    "print(test_samples_X)\n",
    "print(test_samples_X.shape)"
   ]
  },
  {
   "cell_type": "markdown",
   "metadata": {},
   "source": [
    "### Se Ejecuta la predicion con la Entrada del modelo entrenado y el modelo de la red neuronal predice un matriz de 149 X 291 por cada oración. El shape de a predicción es (2, 149,291)"
   ]
  },
  {
   "cell_type": "code",
   "execution_count": 90,
   "metadata": {},
   "outputs": [
    {
     "name": "stdout",
     "output_type": "stream",
     "text": [
      "(array([[[2.69508135e-04, 1.62523520e-05, 1.65256461e-05, ...,\n",
      "         1.75955618e-04, 1.87026671e-05, 1.52646135e-05],\n",
      "        [2.94067127e-06, 1.06476577e-07, 1.06507656e-07, ...,\n",
      "         2.52159429e-04, 1.42235407e-07, 1.09839753e-07],\n",
      "        [1.97285976e-06, 1.69248480e-07, 1.47474807e-07, ...,\n",
      "         1.72208383e-04, 1.99550328e-07, 1.61765144e-07],\n",
      "        ...,\n",
      "        [9.97726500e-01, 4.57975557e-06, 4.07971811e-06, ...,\n",
      "         3.61528828e-06, 4.85626197e-06, 3.67589655e-06],\n",
      "        [9.97726500e-01, 4.57975557e-06, 4.07971811e-06, ...,\n",
      "         3.61528828e-06, 4.85626197e-06, 3.67589655e-06],\n",
      "        [9.97726500e-01, 4.57975557e-06, 4.07971811e-06, ...,\n",
      "         3.61528828e-06, 4.85626197e-06, 3.67589655e-06]],\n",
      "\n",
      "       [[6.86375006e-06, 2.38878300e-07, 3.66215232e-07, ...,\n",
      "         9.41453254e-05, 4.96615087e-07, 2.96505647e-07],\n",
      "        [1.92900939e-06, 1.75624962e-07, 1.48437167e-07, ...,\n",
      "         7.16652066e-05, 1.65626318e-07, 1.70154848e-07],\n",
      "        [7.32247659e-04, 1.57909126e-05, 1.77869242e-05, ...,\n",
      "         2.09085527e-03, 1.93893229e-05, 1.35626251e-05],\n",
      "        ...,\n",
      "        [9.97726500e-01, 4.57975557e-06, 4.07971811e-06, ...,\n",
      "         3.61528828e-06, 4.85626197e-06, 3.67589655e-06],\n",
      "        [9.97726500e-01, 4.57975557e-06, 4.07971811e-06, ...,\n",
      "         3.61528828e-06, 4.85626197e-06, 3.67589655e-06],\n",
      "        [9.97726500e-01, 4.57975557e-06, 4.07971811e-06, ...,\n",
      "         3.61528828e-06, 4.85626197e-06, 3.67589655e-06]]], dtype=float32), (2, 149, 291))\n",
      "291\n"
     ]
    }
   ],
   "source": [
    "predictions = model.predict(test_samples_X)\n",
    "print(predictions, predictions.shape)"
   ]
  },
  {
   "cell_type": "markdown",
   "metadata": {},
   "source": [
    "### Conversion de la Salida del Modelo a un lista de Indices de Tags"
   ]
  },
  {
   "cell_type": "code",
   "execution_count": 97,
   "metadata": {},
   "outputs": [
    {
     "name": "stdout",
     "output_type": "stream",
     "text": [
      "vmn0000\n",
      "[[u'vmn0000', u'vsip3s0', u'aq0cs0', u'sps00', u'dp1css', u'Fp', '-PAD-', '-PAD-', '-PAD-', '-PAD-', '-PAD-', '-PAD-', '-PAD-', '-PAD-', '-PAD-', '-PAD-', '-PAD-', '-PAD-', '-PAD-', '-PAD-', '-PAD-', '-PAD-', '-PAD-', '-PAD-', '-PAD-', '-PAD-', '-PAD-', '-PAD-', '-PAD-', '-PAD-', '-PAD-', '-PAD-', '-PAD-', '-PAD-', '-PAD-', '-PAD-', '-PAD-', '-PAD-', '-PAD-', '-PAD-', '-PAD-', '-PAD-', '-PAD-', '-PAD-', '-PAD-', '-PAD-', '-PAD-', '-PAD-', '-PAD-', '-PAD-', '-PAD-', '-PAD-', '-PAD-', '-PAD-', '-PAD-', '-PAD-', '-PAD-', '-PAD-', '-PAD-', '-PAD-', '-PAD-', '-PAD-', '-PAD-', '-PAD-', '-PAD-', '-PAD-', '-PAD-', '-PAD-', '-PAD-', '-PAD-', '-PAD-', '-PAD-', '-PAD-', '-PAD-', '-PAD-', '-PAD-', '-PAD-', '-PAD-', '-PAD-', '-PAD-', '-PAD-', '-PAD-', '-PAD-', '-PAD-', '-PAD-', '-PAD-', '-PAD-', '-PAD-', '-PAD-', '-PAD-', '-PAD-', '-PAD-', '-PAD-', '-PAD-', '-PAD-', '-PAD-', '-PAD-', '-PAD-', '-PAD-', '-PAD-', '-PAD-', '-PAD-', '-PAD-', '-PAD-', '-PAD-', '-PAD-', '-PAD-', '-PAD-', '-PAD-', '-PAD-', '-PAD-', '-PAD-', '-PAD-', '-PAD-', '-PAD-', '-PAD-', '-PAD-', '-PAD-', '-PAD-', '-PAD-', '-PAD-', '-PAD-', '-PAD-', '-PAD-', '-PAD-', '-PAD-', '-PAD-', '-PAD-', '-PAD-', '-PAD-', '-PAD-', '-PAD-', '-PAD-', '-PAD-', '-PAD-', '-PAD-', '-PAD-', '-PAD-', '-PAD-', '-PAD-', '-PAD-', '-PAD-', '-PAD-', '-PAD-', '-PAD-', '-PAD-', '-PAD-', '-PAD-', '-PAD-'], [u'da0ms0', u'ncms000', u'sps00', u'vmip3s0', u'sps00', u'da0ms0', u'ncms000', u'sps00', u'sps00', u'np0000p', u'sps00', u'np0000p', u'Fp', '-PAD-', '-PAD-', '-PAD-', '-PAD-', '-PAD-', '-PAD-', '-PAD-', '-PAD-', '-PAD-', '-PAD-', '-PAD-', '-PAD-', '-PAD-', '-PAD-', '-PAD-', '-PAD-', '-PAD-', '-PAD-', '-PAD-', '-PAD-', '-PAD-', '-PAD-', '-PAD-', '-PAD-', '-PAD-', '-PAD-', '-PAD-', '-PAD-', '-PAD-', '-PAD-', '-PAD-', '-PAD-', '-PAD-', '-PAD-', '-PAD-', '-PAD-', '-PAD-', '-PAD-', '-PAD-', '-PAD-', '-PAD-', '-PAD-', '-PAD-', '-PAD-', '-PAD-', '-PAD-', '-PAD-', '-PAD-', '-PAD-', '-PAD-', '-PAD-', '-PAD-', '-PAD-', '-PAD-', '-PAD-', '-PAD-', '-PAD-', '-PAD-', '-PAD-', '-PAD-', '-PAD-', '-PAD-', '-PAD-', '-PAD-', '-PAD-', '-PAD-', '-PAD-', '-PAD-', '-PAD-', '-PAD-', '-PAD-', '-PAD-', '-PAD-', '-PAD-', '-PAD-', '-PAD-', '-PAD-', '-PAD-', '-PAD-', '-PAD-', '-PAD-', '-PAD-', '-PAD-', '-PAD-', '-PAD-', '-PAD-', '-PAD-', '-PAD-', '-PAD-', '-PAD-', '-PAD-', '-PAD-', '-PAD-', '-PAD-', '-PAD-', '-PAD-', '-PAD-', '-PAD-', '-PAD-', '-PAD-', '-PAD-', '-PAD-', '-PAD-', '-PAD-', '-PAD-', '-PAD-', '-PAD-', '-PAD-', '-PAD-', '-PAD-', '-PAD-', '-PAD-', '-PAD-', '-PAD-', '-PAD-', '-PAD-', '-PAD-', '-PAD-', '-PAD-', '-PAD-', '-PAD-', '-PAD-', '-PAD-', '-PAD-', '-PAD-', '-PAD-', '-PAD-', '-PAD-', '-PAD-', '-PAD-', '-PAD-', '-PAD-', '-PAD-', '-PAD-', '-PAD-', '-PAD-']]\n"
     ]
    }
   ],
   "source": [
    "log_tokens = logits_to_tokens(predictions, {i: t for t, i in tag2index.items()})\n",
    "# JUS FOR CHECKING!!!! - IGNORE IT\n",
    "ll = {i: t for t, i in tag2index.items()}\n",
    "print(ll[np.argmax(predictions[0][0])])\n",
    "####################\n",
    "print(log_tokens)\n"
   ]
  },
  {
   "cell_type": "markdown",
   "metadata": {},
   "source": [
    "### Presentación de los Resultados"
   ]
  },
  {
   "cell_type": "code",
   "execution_count": 89,
   "metadata": {},
   "outputs": [
    {
     "name": "stdout",
     "output_type": "stream",
     "text": [
      "Correr    es       importante    para    mi      .\n",
      "--------  -------  ------------  ------  ------  ---\n",
      "vmn0000   vsip3s0  aq0cs0        sps00   dp1css  Fp\n",
      "\n",
      "\n",
      "El hombre bajo corre bajo el puente con bajo índice de adrenalina . \n",
      "[[u'da0ms0', u'ncms000', u'sps00', u'vmip3s0', u'sps00', u'da0ms0', u'ncms000', u'sps00', u'sps00', u'np0000p', u'sps00', u'np0000p', u'Fp']]\n"
     ]
    }
   ],
   "source": [
    "#!pip install tabulate\n",
    "from tabulate import tabulate\n",
    "\n",
    "heads1 = test_samples[0]\n",
    "body1 = [log_tokens[0][:len(test_samples[0])]]\n",
    "\n",
    "heads2 = test_samples[1]\n",
    "body2 = [log_tokens[1][:len(test_samples[1])]]\n",
    "\n",
    "print(tabulate(body1, headers=heads1))\n",
    "\n",
    "print (\"\\n\")\n",
    "\n",
    "print(goodPrint(heads2))\n",
    "print(body2)\n",
    "\n",
    "\n",
    "## postagging Freeling 4.1\n",
    "\n",
    "## El      hombre   bajo     corre    bajo  el      puente   con  bajo  índice   de  adrenalina  .\n",
    "## DA0MS0  NCMS000  AQ0MS00  VMIP3S0  SP    DA0MS0  NCMS000  SP   SP    NCMS000  SP  NCFS000     Fp\n",
    "\n",
    "\n",
    "## pos tagger Stanford NLP\n",
    "\n",
    "## El      hombre   bajo     corre    bajo  el      puente   con    bajo   índice  de    adrenalina  .\n",
    "## da0000  nc0s000  aq0000   vmip000  sp000 da0000  nc0s000  sp000  aq0000 nc0s000 sp000 nc0s000     fp"
   ]
  },
  {
   "cell_type": "code",
   "execution_count": null,
   "metadata": {},
   "outputs": [],
   "source": []
  }
 ],
 "metadata": {
  "kernelspec": {
   "display_name": "Python 3",
   "language": "python",
   "name": "python3"
  },
  "language_info": {
   "codemirror_mode": {
    "name": "ipython",
    "version": 2
   },
   "file_extension": ".py",
   "mimetype": "text/x-python",
   "name": "python",
   "nbconvert_exporter": "python",
   "pygments_lexer": "ipython2",
   "version": "2.7.17"
  }
 },
 "nbformat": 4,
 "nbformat_minor": 2
}
