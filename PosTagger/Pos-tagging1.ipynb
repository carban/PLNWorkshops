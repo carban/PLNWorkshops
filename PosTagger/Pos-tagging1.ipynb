{
 "cells": [
  {
   "cell_type": "code",
   "execution_count": 1,
   "metadata": {},
   "outputs": [],
   "source": [
    "import numpy as np"
   ]
  },
  {
   "cell_type": "code",
   "execution_count": 2,
   "metadata": {},
   "outputs": [],
   "source": [
    "# Custom function for print a sentence\n",
    "def goodPrint(a):\n",
    "    x = \"\"\n",
    "    for i in range(len(a)):\n",
    "        x += a[i]+\" \"\n",
    "    return x"
   ]
  },
  {
   "cell_type": "markdown",
   "metadata": {},
   "source": [
    "## Downloading nltk corpus"
   ]
  },
  {
   "cell_type": "code",
   "execution_count": 3,
   "metadata": {},
   "outputs": [
    {
     "name": "stderr",
     "output_type": "stream",
     "text": [
      "[nltk_data] Downloading package cess_esp to /home/carban/nltk_data...\n",
      "[nltk_data]   Package cess_esp is already up-to-date!\n"
     ]
    },
    {
     "data": {
      "text/plain": [
       "True"
      ]
     },
     "execution_count": 3,
     "metadata": {},
     "output_type": "execute_result"
    }
   ],
   "source": [
    "import nltk\n",
    "nltk.download('cess_esp')"
   ]
  },
  {
   "cell_type": "code",
   "execution_count": 4,
   "metadata": {},
   "outputs": [],
   "source": [
    "from nltk.corpus import cess_esp\n",
    "\n",
    "tagged_sentences = cess_esp.tagged_sents()"
   ]
  },
  {
   "cell_type": "markdown",
   "metadata": {},
   "source": [
    "## We get a corpus with sentences and the tag for each word"
   ]
  },
  {
   "cell_type": "code",
   "execution_count": 5,
   "metadata": {},
   "outputs": [
    {
     "name": "stdout",
     "output_type": "stream",
     "text": [
      "[(u'El', u'da0ms0'), (u'grupo', u'ncms000'), (u'estatal', u'aq0cs0'), (u'Electricit\\xe9_de_France', u'np00000'), (u'-Fpa-', u'Fpa'), (u'EDF', u'np00000'), (u'-Fpt-', u'Fpt'), (u'anunci\\xf3', u'vmis3s0'), (u'hoy', u'rg'), (u',', u'Fc'), (u'jueves', u'W'), (u',', u'Fc'), (u'la', u'da0fs0'), (u'compra', u'ncfs000'), (u'del', u'spcms'), (u'51_por_ciento', u'Zp'), (u'de', u'sps00'), (u'la', u'da0fs0'), (u'empresa', u'ncfs000'), (u'mexicana', u'aq0fs0'), (u'Electricidad_\\xc1guila_de_Altamira', u'np00000'), (u'-Fpa-', u'Fpa'), (u'EAA', u'np00000'), (u'-Fpt-', u'Fpt'), (u',', u'Fc'), (u'creada', u'aq0fsp'), (u'por', u'sps00'), (u'el', u'da0ms0'), (u'japon\\xe9s', u'aq0ms0'), (u'Mitsubishi_Corporation', u'np00000'), (u'para', u'sps00'), (u'poner_en_marcha', u'vmn0000'), (u'una', u'di0fs0'), (u'central', u'ncfs000'), (u'de', u'sps00'), (u'gas', u'ncms000'), (u'de', u'sps00'), (u'495', u'Z'), (u'megavatios', u'ncmp000'), (u'.', u'Fp')]\n",
      "==========================\n",
      "('Tagged sentences: ', 6030)\n",
      "('Tagged words:', 192685)\n"
     ]
    }
   ],
   "source": [
    "print(tagged_sentences[0])\n",
    "print(\"==========================\")\n",
    "print(\"Tagged sentences: \", len(tagged_sentences))\n",
    "print(\"Tagged words:\", len(cess_esp.tagged_words()))"
   ]
  },
  {
   "cell_type": "markdown",
   "metadata": {},
   "source": [
    "## Splitting Sentence and tag inside two different arrays, later write 2 files for the 2 arrays"
   ]
  },
  {
   "cell_type": "code",
   "execution_count": 6,
   "metadata": {},
   "outputs": [],
   "source": [
    "import numpy as np\n",
    "import pickle\n",
    "\n",
    "sentences, tagss = [], []\n",
    "for tagged_sentence in tagged_sentences:\n",
    "    sentence, tags = zip(*tagged_sentence)\n",
    "    sentences.append(np.array(sentence))\n",
    "    tagss.append(np.array(tags))\n",
    "    \n",
    "# with open(\"sentences.txt\", \"wb\") as fp:\n",
    "#     pickle.dump(sentences, fp)\n",
    "    \n",
    "# with open(\"tags.txt\", \"wb\") as fp:\n",
    "#     pickle.dump(tagss, fp)"
   ]
  },
  {
   "cell_type": "markdown",
   "metadata": {},
   "source": [
    "## Printing a sample of the arrays"
   ]
  },
  {
   "cell_type": "code",
   "execution_count": 7,
   "metadata": {},
   "outputs": [
    {
     "name": "stdout",
     "output_type": "stream",
     "text": [
      "6030\n",
      "\n",
      "Words on the first sentence: 40\n",
      "\n",
      "El grupo estatal Electricité_de_France -Fpa- EDF -Fpt- anunció hoy , jueves , la compra del 51_por_ciento de la empresa mexicana Electricidad_Águila_de_Altamira -Fpa- EAA -Fpt- , creada por el japonés Mitsubishi_Corporation para poner_en_marcha una central de gas de 495 megavatios . \n",
      "\n",
      "tags of the first sentence: 40\n",
      "\n",
      "[u'da0ms0' u'ncms000' u'aq0cs0' u'np00000' u'Fpa' u'np00000' u'Fpt'\n",
      " u'vmis3s0' u'rg' u'Fc' u'W' u'Fc' u'da0fs0' u'ncfs000' u'spcms' u'Zp'\n",
      " u'sps00' u'da0fs0' u'ncfs000' u'aq0fs0' u'np00000' u'Fpa' u'np00000'\n",
      " u'Fpt' u'Fc' u'aq0fsp' u'sps00' u'da0ms0' u'aq0ms0' u'np00000' u'sps00'\n",
      " u'vmn0000' u'di0fs0' u'ncfs000' u'sps00' u'ncms000' u'sps00' u'Z'\n",
      " u'ncmp000' u'Fp']\n"
     ]
    }
   ],
   "source": [
    "print(str(len(sentences)) + \"\\n\")\n",
    "print(\"Words on the first sentence: \"+str(len(sentences[0])))+\"\\n\"\n",
    "print(goodPrint(sentences[0])+ \"\\n\")\n",
    "print(\"tags of the first sentence: \"+str(len(tagss[0])))+\"\\n\"\n",
    "print(tagss[0])"
   ]
  },
  {
   "cell_type": "markdown",
   "metadata": {},
   "source": [
    "## Percentages for training and testing"
   ]
  },
  {
   "cell_type": "code",
   "execution_count": 8,
   "metadata": {},
   "outputs": [],
   "source": [
    "from sklearn.model_selection import train_test_split\n",
    " \n",
    "(training_sentences, \n",
    " test_sentences, \n",
    " training_tags, \n",
    " test_tags) = train_test_split(sentences, tagss, test_size=0.2)\n",
    "\n",
    "(train_sentences, \n",
    " eval_sentences, \n",
    " train_tags, \n",
    " eval_tags) = train_test_split(training_sentences, training_tags, test_size=0.25)"
   ]
  },
  {
   "cell_type": "code",
   "execution_count": 9,
   "metadata": {},
   "outputs": [
    {
     "name": "stdout",
     "output_type": "stream",
     "text": [
      "training_sentences:4824\n",
      "train_sentences: 3618\n",
      "test_sentences: 1206\n",
      "eval_sentences: 1206\n",
      "\n",
      "[u'*0*' u'Llegaste' u'hace' u'un' u'par' u'de' u'a\\xf1os' u'con' u'tu'\n",
      " u'humilde' u'paleta' u'de' u'artista' u'bajo' u'el' u'brazo' u'y' u'*0*'\n",
      " u'nos' u'encandilaste' u'a' u'todos' u'.']\n",
      "[u'El' u'presidente' u'argentino' u'anunci\\xf3' u'el' u'pasado_lunes'\n",
      " u'un' u'nuevo' u'paquete' u'de' u'medidas' u'destinadas' u'a' u'bajar'\n",
      " u'el' u'gasto' u'p\\xfablico' u',' u'que' u'implica' u'una'\n",
      " u'reducci\\xf3n' u'de' u'entre' u'el' u'12' u'y' u'el' u'15_por_ciento'\n",
      " u'de' u'los' u'salarios' u'de' u'los' u'empleados' u'p\\xfablicos' u'.']\n",
      "[u'*0*' u'Comprometi\\xf3' u'por' u'ello' u'sus' u'gestiones' u'ante' u'el'\n",
      " u'Ejecutivo' u'galo' u'en_favor_de' u'esta' u'v\\xeda' u'de'\n",
      " u'comunicaci\\xf3n' u'entre' u'la' u'pen\\xednsula' u'y' u'el'\n",
      " u'continente' u'europeo' u',' u'al_igual_que' u'las' u'del' u'gabinete'\n",
      " u'de' u'Jos\\xe9_Mar\\xeda_Aznar' u',' u'y' u'al_respecto' u'*0*'\n",
      " u'agreg\\xf3' u'que' u'existe' u'\"' u'plena' u'voluntad' u'\"' u'porque'\n",
      " u'\"' u'parece' u'muy' u'razonable' u'abrir' u'otro' u'eje' u'distinto'\n",
      " u'para' u'atravesar' u'los' u'Pirineos' u'aparte_de' u'los' u'canales'\n",
      " u'oriental' u'y' u'occidental' u'\"' u'.']\n",
      "\n",
      "training_tags:4824\n",
      "train_tags: 3618\n",
      "test_tags: 1206\n",
      "eval_tags: 1206\n",
      "\n",
      "[u'sn.e-SUJ' u'vmis2s0' u'vmip3s0' u'di0ms0' u'ncms000' u'sps00'\n",
      " u'ncmp000' u'sps00' u'dp2css' u'aq0cs0' u'ncfs000' u'sps00' u'nccs000'\n",
      " u'sps00' u'da0ms0' u'ncms000' u'cc' u'sn.e-SUJ' u'pp1cp000' u'vmis2s0'\n",
      " u'sps00' u'pi0mp000' u'Fp']\n",
      "[u'da0ms0' u'ncms000' u'aq0ms0' u'vmis3s0' u'da0ms0' u'W' u'di0ms0'\n",
      " u'aq0ms0' u'nccs000' u'sps00' u'ncfp000' u'aq0fpp' u'sps00' u'vmn0000'\n",
      " u'da0ms0' u'ncms000' u'aq0ms0' u'Fc' u'pr0cn000' u'vmip3s0' u'di0fs0'\n",
      " u'ncfs000' u'sps00' u'sps00' u'da0ms0' u'Z' u'cc' u'da0ms0' u'Zp'\n",
      " u'sps00' u'da0mp0' u'ncmp000' u'sps00' u'da0mp0' u'ncmp000' u'aq0mp0'\n",
      " u'Fp']\n",
      "[u'sn.e-SUJ' u'vmis3s0' u'sps00' u'pp3ns000' u'dp3cp0' u'ncfp000' u'sps00'\n",
      " u'da0ms0' u'np0000o' u'aq0ms0' u'sps00' u'dd0fs0' u'ncfs000' u'sps00'\n",
      " u'ncfs000' u'sps00' u'da0fs0' u'ncfs000' u'cc' u'da0ms0' u'ncms000'\n",
      " u'aq0ms0' u'Fc' u'cc' u'da0fp0' u'spcms' u'ncms000' u'sps00' u'np0000p'\n",
      " u'Fc' u'cc' u'rg' u'sn.e-SUJ' u'vmis3s0' u'cs' u'vmip3s0' u'Fe' u'aq0fs0'\n",
      " u'ncfs000' u'Fe' u'cs' u'Fe' u'vmip3s0' u'rg' u'aq0cs0' u'vmn0000'\n",
      " u'di0ms0' u'ncms000' u'aq0ms0' u'sps00' u'vmn0000' u'da0mp0' u'np0000l'\n",
      " u'sps00' u'da0mp0' u'ncmp000' u'aq0cs0' u'cc' u'aq0cs0' u'Fe' u'Fp']\n",
      "(23, 10, 55)\n"
     ]
    }
   ],
   "source": [
    "print(\"training_sentences:\" + str(len(training_sentences)))\n",
    "print(\"train_sentences: \" + str(len(train_sentences)))\n",
    "print(\"test_sentences: \" + str(len(test_sentences)))\n",
    "print(\"eval_sentences: \" + str(len(eval_sentences)) + \"\\n\")\n",
    "\n",
    "print(train_sentences[0])\n",
    "print(test_sentences[0])\n",
    "print(eval_sentences[0])\n",
    "\n",
    "print(\"\\ntraining_tags:\" + str(len(training_sentences)))\n",
    "print(\"train_tags: \" + str(len(train_tags)))\n",
    "print(\"test_tags: \" + str(len(test_tags)))\n",
    "print(\"eval_tags: \" + str(len(eval_tags)) + \"\\n\")\n",
    "\n",
    "print(train_tags[0])\n",
    "print(test_tags[0])\n",
    "print(eval_tags[0])\n",
    "\n",
    "print(len(train_sentences[0]), len(train_sentences[1]), len(train_sentences[2]))"
   ]
  },
  {
   "cell_type": "markdown",
   "metadata": {},
   "source": [
    "## Building dictionary"
   ]
  },
  {
   "cell_type": "code",
   "execution_count": 10,
   "metadata": {},
   "outputs": [
    {
     "name": "stdout",
     "output_type": "stream",
     "text": [
      "24499\n",
      "291\n"
     ]
    }
   ],
   "source": [
    "words, tagsss = set([]), set([])\n",
    " \n",
    "for s in (train_sentences + eval_sentences + test_sentences):\n",
    "    for w in s:\n",
    "        words.add(w.lower())\n",
    "\n",
    "for ts in (train_tags + eval_tags + test_tags):\n",
    "    for t in ts:\n",
    "        tagsss.add(t)\n",
    "\n",
    "word2index = {w: i + 2 for i, w in enumerate(list(words))}\n",
    "word2index['-PAD-'] = 0  # The special value used for padding\n",
    "word2index['-OOV-'] = 1  # The special value used for OOVs\n",
    " \n",
    "tag2index = {t: i + 2 for i, t in enumerate(list(tagsss))}\n",
    "tag2index['-PAD-'] = 0  # The special value used to padding\n",
    "tag2index['-OOV-'] = 1  # The special value used to padding\n",
    "\n",
    "print (len(word2index))\n",
    "print (len(tag2index))\n",
    "\n",
    "# PRINT THIS FOR CHECKING *************************\n",
    "# print(word2index)\n",
    "# print(tag2index)\n",
    "\n",
    "np.save('word2index.npy', word2index)\n",
    "np.save('tag2index.npy', tag2index)"
   ]
  },
  {
   "cell_type": "markdown",
   "metadata": {},
   "source": [
    "## Parsing Dictionary"
   ]
  },
  {
   "cell_type": "code",
   "execution_count": 11,
   "metadata": {},
   "outputs": [],
   "source": [
    "train_sentences_X, eval_sentences_X, test_sentences_X, train_tags_y, eval_tags_y, test_tags_y = [], [], [], [], [], []\n",
    "\n",
    "for s in train_sentences:\n",
    "    s_int = []\n",
    "    for w in s:\n",
    "        try:\n",
    "            s_int.append(word2index[w.lower()])\n",
    "        except KeyError:\n",
    "            s_int.append(word2index['-OOV-'])\n",
    " \n",
    "    train_sentences_X.append(s_int)\n",
    "\n",
    "for s in eval_sentences:\n",
    "    s_int = []\n",
    "    for w in s:\n",
    "        try:\n",
    "            s_int.append(word2index[w.lower()])\n",
    "        except KeyError:\n",
    "            s_int.append(word2index['-OOV-'])\n",
    " \n",
    "    eval_sentences_X.append(s_int)\n",
    "\n",
    "for s in test_sentences:\n",
    "    s_int = []\n",
    "    for w in s:\n",
    "        try:\n",
    "            s_int.append(word2index[w.lower()])\n",
    "        except KeyError:\n",
    "            s_int.append(word2index['-OOV-'])\n",
    " \n",
    "    test_sentences_X.append(s_int)\n",
    "\n",
    "for s in train_tags:\n",
    "    s_int = []\n",
    "    for w in s:\n",
    "        try:\n",
    "            s_int.append(tag2index[w])\n",
    "        except KeyError:\n",
    "            s_int.append(tag2index['-OOV-'])\n",
    "            \n",
    "    train_tags_y.append(s_int)\n",
    "\n",
    "for s in eval_tags:\n",
    "    s_int = []\n",
    "    for w in s:\n",
    "        try:\n",
    "            s_int.append(tag2index[w])\n",
    "        except KeyError:\n",
    "            s_int.append(tag2index['-OOV-'])\n",
    "            \n",
    "    eval_tags_y.append(s_int)\n",
    "\n",
    "for s in test_tags:\n",
    "    s_int = []\n",
    "    for w in s:\n",
    "        try:\n",
    "            s_int.append(tag2index[w])\n",
    "        except KeyError:\n",
    "            s_int.append(tag2index['-OOV-'])\n",
    "            \n",
    "    test_tags_y.append(s_int)"
   ]
  },
  {
   "cell_type": "code",
   "execution_count": 12,
   "metadata": {},
   "outputs": [
    {
     "name": "stdout",
     "output_type": "stream",
     "text": [
      "Longitudes de las Matrices:\n",
      "3618\n",
      "1206\n",
      "1206\n",
      "3618\n",
      "1206\n",
      "1206\n",
      "\n",
      "Muestra de Datos presentes en las Matrices con las transformaciones:\n",
      "\n"
     ]
    }
   ],
   "source": [
    "\n",
    "\n",
    "print(\"Longitudes de las Matrices:\")\n",
    "print(len(train_sentences_X))\n",
    "print(len(eval_sentences_X))\n",
    "print(len(test_sentences_X))\n",
    "print(len(train_tags_y))\n",
    "print(len(eval_tags_y))\n",
    "print(len(test_tags_y))\n",
    "\n",
    "print(\"\\nMuestra de Datos presentes en las Matrices con las transformaciones:\\n\")\n",
    "\n",
    "# print(train_sentences_X[0])\n",
    "# print(eval_sentences_X[0])\n",
    "# print(test_sentences_X[0])\n",
    "# print(train_tags_y[0])\n",
    "# print(eval_tags_y[0])\n",
    "# print(test_tags_y[0])\n",
    "\n"
   ]
  },
  {
   "cell_type": "markdown",
   "metadata": {},
   "source": [
    "## Checking transformation"
   ]
  },
  {
   "cell_type": "code",
   "execution_count": 13,
   "metadata": {},
   "outputs": [
    {
     "name": "stdout",
     "output_type": "stream",
     "text": [
      "Words on the first sentence: 23\n",
      "\n",
      "*0* Llegaste hace un par de años con tu humilde paleta de artista bajo el brazo y *0* nos encandilaste a todos . \n",
      "\n",
      "Words on the first sentence PARSED: 23\n",
      "\n",
      "[3834, 6525, 23559, 13379, 22142, 7850, 8133, 7889, 13035, 13707, 14755, 7850, 5837, 12429, 9243, 9429, 10261, 3834, 2016, 4267, 20801, 11342, 238]\n",
      "\n",
      "\n",
      "tags of the first sentence: 23\n",
      "\n",
      "[u'sn.e-SUJ' u'vmis2s0' u'vmip3s0' u'di0ms0' u'ncms000' u'sps00'\n",
      " u'ncmp000' u'sps00' u'dp2css' u'aq0cs0' u'ncfs000' u'sps00' u'nccs000'\n",
      " u'sps00' u'da0ms0' u'ncms000' u'cc' u'sn.e-SUJ' u'pp1cp000' u'vmis2s0'\n",
      " u'sps00' u'pi0mp000' u'Fp']\n",
      "\n",
      "\n",
      "tags of the first sentence PARSED: 23\n",
      "\n",
      "[83, 84, 148, 254, 252, 263, 35, 263, 285, 16, 24, 263, 33, 263, 89, 252, 150, 83, 195, 84, 263, 284, 160]\n"
     ]
    }
   ],
   "source": [
    "print(\"Words on the first sentence: \"+str(len(train_sentences[0])))+\"\\n\"\n",
    "print(goodPrint(train_sentences[0])+ \"\\n\")\n",
    "print(\"Words on the first sentence PARSED: \"+str(len(train_sentences_X[0])))+\"\\n\"\n",
    "print(train_sentences_X[0])\n",
    "print(\"\\n\")\n",
    "print(\"tags of the first sentence: \"+str(len(train_tags[0])))+\"\\n\"\n",
    "print(train_tags[0])\n",
    "print(\"\\n\")\n",
    "print(\"tags of the first sentence PARSED: \"+str(len(train_tags_y[0])))+\"\\n\"\n",
    "print(train_tags_y[0])"
   ]
  },
  {
   "cell_type": "markdown",
   "metadata": {},
   "source": [
    "## Sentence with more words"
   ]
  },
  {
   "cell_type": "code",
   "execution_count": 14,
   "metadata": {},
   "outputs": [
    {
     "name": "stdout",
     "output_type": "stream",
     "text": [
      "(131, 149, 114)\n",
      "Max: 149\n"
     ]
    }
   ],
   "source": [
    "MAX_LENGTH1 = len(max(train_sentences_X, key=len))\n",
    "MAX_LENGTH2 = len(max(eval_sentences_X, key=len))\n",
    "MAX_LENGTH3 = len(max(test_sentences_X, key=len))\n",
    "\n",
    "print(MAX_LENGTH1, MAX_LENGTH2, MAX_LENGTH3)\n",
    "\n",
    "l = [MAX_LENGTH1, MAX_LENGTH2, MAX_LENGTH3]\n",
    "MAX_LENGTH = max(l)\n",
    "\n",
    "print(\"Max: \"+str(MAX_LENGTH))"
   ]
  },
  {
   "cell_type": "markdown",
   "metadata": {},
   "source": [
    "### Se procede a Normalizar las matrices para que todas contengan el mismo numero de columans, con la longitud maxima de palabras encontradas anteriormente, esto se logra agregando ceros a la derecha en las posiciones que hacen falta en el vector"
   ]
  },
  {
   "cell_type": "code",
   "execution_count": 15,
   "metadata": {},
   "outputs": [
    {
     "name": "stderr",
     "output_type": "stream",
     "text": [
      "Using TensorFlow backend.\n"
     ]
    },
    {
     "name": "stdout",
     "output_type": "stream",
     "text": [
      "[ 3834  6525 23559 13379 22142  7850  8133  7889 13035 13707 14755  7850\n",
      "  5837 12429  9243  9429 10261  3834  2016  4267 20801 11342   238     0\n",
      "     0     0     0     0     0     0     0     0     0     0     0     0\n",
      "     0     0     0     0     0     0     0     0     0     0     0     0\n",
      "     0     0     0     0     0     0     0     0     0     0     0     0\n",
      "     0     0     0     0     0     0     0     0     0     0     0     0\n",
      "     0     0     0     0     0     0     0     0     0     0     0     0\n",
      "     0     0     0     0     0     0     0     0     0     0     0     0\n",
      "     0     0     0     0     0     0     0     0     0     0     0     0\n",
      "     0     0     0     0     0     0     0     0     0     0     0     0\n",
      "     0     0     0     0     0     0     0     0     0     0     0     0\n",
      "     0     0     0     0     0     0     0     0     0     0     0     0\n",
      "     0     0     0     0     0]\n",
      "[ 3834 20060 17544  3336  5374 21279  6760  9243  7151 20955  7457 18634\n",
      " 18089  7850  3218 22551 10461  5764 10261  9243   709 12049  6758  9116\n",
      " 20068 10028 22445  7850 10920  6758 10261 16592  3834 12235  4358 22856\n",
      "  5466 16189  7644  5466 17885  5466 23912  4830 21316 20834  6119 23503\n",
      "  5102 16282  2154 14515  6738 16528 14515 23778 23744 10261  6704  5466\n",
      "   238     0     0     0     0     0     0     0     0     0     0     0\n",
      "     0     0     0     0     0     0     0     0     0     0     0     0\n",
      "     0     0     0     0     0     0     0     0     0     0     0     0\n",
      "     0     0     0     0     0     0     0     0     0     0     0     0\n",
      "     0     0     0     0     0     0     0     0     0     0     0     0\n",
      "     0     0     0     0     0     0     0     0     0     0     0     0\n",
      "     0     0     0     0     0     0     0     0     0     0     0     0\n",
      "     0     0     0     0     0]\n",
      "[ 9243 22697 11571  1986  9243 14851 13379 11797  2812  7850  7440  6096\n",
      " 20801 13092  9243 18349 11893  6758  4358 23260 15569  2133  7850 22551\n",
      "  9243 15878 10261  9243  3046  7850 14515 14374  7850 14515 12706 18285\n",
      "   238     0     0     0     0     0     0     0     0     0     0     0\n",
      "     0     0     0     0     0     0     0     0     0     0     0     0\n",
      "     0     0     0     0     0     0     0     0     0     0     0     0\n",
      "     0     0     0     0     0     0     0     0     0     0     0     0\n",
      "     0     0     0     0     0     0     0     0     0     0     0     0\n",
      "     0     0     0     0     0     0     0     0     0     0     0     0\n",
      "     0     0     0     0     0     0     0     0     0     0     0     0\n",
      "     0     0     0     0     0     0     0     0     0     0     0     0\n",
      "     0     0     0     0     0     0     0     0     0     0     0     0\n",
      "     0     0     0     0     0]\n",
      "[ 83  84 148 254 252 263  35 263 285  16  24 263  33 263  89 252 150  83\n",
      " 195  84 263 284 160   0   0   0   0   0   0   0   0   0   0   0   0   0\n",
      "   0   0   0   0   0   0   0   0   0   0   0   0   0   0   0   0   0   0\n",
      "   0   0   0   0   0   0   0   0   0   0   0   0   0   0   0   0   0   0\n",
      "   0   0   0   0   0   0   0   0   0   0   0   0   0   0   0   0   0   0\n",
      "   0   0   0   0   0   0   0   0   0   0   0   0   0   0   0   0   0   0\n",
      "   0   0   0   0   0   0   0   0   0   0   0   0   0   0   0   0   0   0\n",
      "   0   0   0   0   0   0   0   0   0   0   0   0   0   0   0   0   0   0\n",
      "   0   0   0   0   0]\n",
      "[ 83 288 263 167 202 152 263  89  98 271 263 187  24 263  24 263 214  24\n",
      " 150  89 252 271 171 150 177 196 252 263 106 171 150 103  83 288 156 148\n",
      " 173 142  24 173 156 173 148 103  16  88 254 252 271 263  88 280  97 263\n",
      " 280  35  16 150  16 173 160   0   0   0   0   0   0   0   0   0   0   0\n",
      "   0   0   0   0   0   0   0   0   0   0   0   0   0   0   0   0   0   0\n",
      "   0   0   0   0   0   0   0   0   0   0   0   0   0   0   0   0   0   0\n",
      "   0   0   0   0   0   0   0   0   0   0   0   0   0   0   0   0   0   0\n",
      "   0   0   0   0   0   0   0   0   0   0   0   0   0   0   0   0   0   0\n",
      "   0   0   0   0   0]\n",
      "[ 89 252 271 288  89 123 254 271  33 263 152  72 263  88  89 252 271 171\n",
      " 165 148  85  24 263 263  89 198 150  89 143 263 280  35 263 280  35 226\n",
      " 160   0   0   0   0   0   0   0   0   0   0   0   0   0   0   0   0   0\n",
      "   0   0   0   0   0   0   0   0   0   0   0   0   0   0   0   0   0   0\n",
      "   0   0   0   0   0   0   0   0   0   0   0   0   0   0   0   0   0   0\n",
      "   0   0   0   0   0   0   0   0   0   0   0   0   0   0   0   0   0   0\n",
      "   0   0   0   0   0   0   0   0   0   0   0   0   0   0   0   0   0   0\n",
      "   0   0   0   0   0   0   0   0   0   0   0   0   0   0   0   0   0   0\n",
      "   0   0   0   0   0]\n"
     ]
    }
   ],
   "source": [
    "from keras.preprocessing.sequence import pad_sequences\n",
    " \n",
    "train_sentences_X = pad_sequences(train_sentences_X, maxlen=MAX_LENGTH, padding='post')\n",
    "eval_sentences_X = pad_sequences(eval_sentences_X, maxlen=MAX_LENGTH, padding='post')\n",
    "test_sentences_X = pad_sequences(test_sentences_X, maxlen=MAX_LENGTH, padding='post')\n",
    "train_tags_y = pad_sequences(train_tags_y, maxlen=MAX_LENGTH, padding='post')\n",
    "eval_tags_y = pad_sequences(eval_tags_y, maxlen=MAX_LENGTH, padding='post')\n",
    "test_tags_y = pad_sequences(test_tags_y, maxlen=MAX_LENGTH, padding='post')\n",
    " \n",
    "print(train_sentences_X[0])\n",
    "print(eval_sentences_X[0])\n",
    "print(test_sentences_X[0])\n",
    "print(train_tags_y[0])\n",
    "print(eval_tags_y[0])\n",
    "print(test_tags_y[0])"
   ]
  },
  {
   "cell_type": "markdown",
   "metadata": {},
   "source": [
    "## Definimos la funcion con la cual categorizaremos los tags y los covertiremos un vector One-hot"
   ]
  },
  {
   "cell_type": "code",
   "execution_count": 16,
   "metadata": {},
   "outputs": [],
   "source": [
    "def to_categoricals(sequences, categories):\n",
    "    cat_sequences = []\n",
    "    for s in sequences:\n",
    "        cats = []\n",
    "        for item in s:\n",
    "            cats.append(np.zeros(categories))\n",
    "            cats[-1][item] = 1.0\n",
    "        cat_sequences.append(cats)\n",
    "    return np.array(cat_sequences)\n"
   ]
  },
  {
   "cell_type": "code",
   "execution_count": 17,
   "metadata": {},
   "outputs": [
    {
     "name": "stdout",
     "output_type": "stream",
     "text": [
      "[[0. 0. 0. ... 0. 0. 0.]\n",
      " [0. 0. 0. ... 0. 0. 0.]\n",
      " [0. 0. 0. ... 0. 0. 0.]\n",
      " ...\n",
      " [1. 0. 0. ... 0. 0. 0.]\n",
      " [1. 0. 0. ... 0. 0. 0.]\n",
      " [1. 0. 0. ... 0. 0. 0.]]\n",
      "3618\n",
      "1206\n"
     ]
    }
   ],
   "source": [
    "cat_train_tags_y = to_categoricals(train_tags_y, len(tag2index))\n",
    "cat_eval_tags_y  = to_categoricals(eval_tags_y, len(tag2index))\n",
    "cat_test_tags_y  = to_categoricals(test_tags_y, len(tag2index))\n",
    "\n",
    "print(cat_train_tags_y[0])\n",
    "print(len(cat_train_tags_y))\n",
    "print(len(cat_test_tags_y))"
   ]
  },
  {
   "cell_type": "markdown",
   "metadata": {},
   "source": [
    "# Part 2"
   ]
  },
  {
   "cell_type": "code",
   "execution_count": 18,
   "metadata": {},
   "outputs": [],
   "source": [
    "## Funcion que permite forzar el uso de GPU cuando estan presentes\n",
    "\n",
    "import tensorflow as tf\n",
    "sess = tf.compat.v1.Session(config=tf.compat.v1.ConfigProto(log_device_placement=True))"
   ]
  },
  {
   "cell_type": "code",
   "execution_count": 19,
   "metadata": {},
   "outputs": [
    {
     "name": "stdout",
     "output_type": "stream",
     "text": [
      "WARNING:tensorflow:From /usr/local/lib/python2.7/dist-packages/keras/backend/tensorflow_backend.py:66: The name tf.get_default_graph is deprecated. Please use tf.compat.v1.get_default_graph instead.\n",
      "\n",
      "WARNING:tensorflow:From /usr/local/lib/python2.7/dist-packages/keras/backend/tensorflow_backend.py:541: The name tf.placeholder is deprecated. Please use tf.compat.v1.placeholder instead.\n",
      "\n",
      "WARNING:tensorflow:From /usr/local/lib/python2.7/dist-packages/keras/backend/tensorflow_backend.py:4432: The name tf.random_uniform is deprecated. Please use tf.random.uniform instead.\n",
      "\n",
      "WARNING:tensorflow:From /usr/local/lib/python2.7/dist-packages/keras/optimizers.py:793: The name tf.train.Optimizer is deprecated. Please use tf.compat.v1.train.Optimizer instead.\n",
      "\n",
      "WARNING:tensorflow:From /usr/local/lib/python2.7/dist-packages/keras/backend/tensorflow_backend.py:3576: The name tf.log is deprecated. Please use tf.math.log instead.\n",
      "\n",
      "Model: \"sequential_1\"\n",
      "_________________________________________________________________\n",
      "Layer (type)                 Output Shape              Param #   \n",
      "=================================================================\n",
      "embedding_1 (Embedding)      (None, 149, 128)          3135872   \n",
      "_________________________________________________________________\n",
      "activation_1 (Activation)    (None, 149, 128)          0         \n",
      "_________________________________________________________________\n",
      "dense_1 (Dense)              (None, 149, 291)          37539     \n",
      "_________________________________________________________________\n",
      "activation_2 (Activation)    (None, 149, 291)          0         \n",
      "=================================================================\n",
      "Total params: 3,173,411\n",
      "Trainable params: 3,173,411\n",
      "Non-trainable params: 0\n",
      "_________________________________________________________________\n"
     ]
    }
   ],
   "source": [
    "from keras.models import Sequential\n",
    "from keras.layers import Dense, InputLayer, Embedding, Activation\n",
    "from keras.optimizers import Adam\n",
    "from keras.utils import plot_model\n",
    "\n",
    "model = Sequential()\n",
    "model.add(InputLayer(input_shape=(MAX_LENGTH, )))\n",
    "model.add(Embedding(len(word2index), 128))\n",
    "model.add(Activation('relu'))\n",
    "model.add(Dense(len(tag2index)))\n",
    "model.add(Activation('softmax'))\n",
    "\n",
    "model.compile(loss='categorical_crossentropy', optimizer=Adam(0.001), metrics=['accuracy'])\n",
    " \n",
    "model.summary()\n",
    "\n",
    "# plot_model(model, to_file='model-mb00.png', show_shapes=True)"
   ]
  },
  {
   "cell_type": "code",
   "execution_count": 20,
   "metadata": {},
   "outputs": [
    {
     "name": "stdout",
     "output_type": "stream",
     "text": [
      "WARNING:tensorflow:From /usr/local/lib/python2.7/dist-packages/tensorflow/python/ops/math_grad.py:1250: where (from tensorflow.python.ops.array_ops) is deprecated and will be removed in a future version.\n",
      "Instructions for updating:\n",
      "Use tf.where in 2.0, which has the same broadcast rule as np.where\n",
      "WARNING:tensorflow:From /usr/local/lib/python2.7/dist-packages/keras/backend/tensorflow_backend.py:1033: The name tf.assign_add is deprecated. Please use tf.compat.v1.assign_add instead.\n",
      "\n",
      "Train on 3618 samples, validate on 1206 samples\n",
      "Epoch 1/40\n",
      "3618/3618 [==============================] - 13s 4ms/step - loss: 5.5712 - acc: 0.6475 - val_loss: 5.4379 - val_acc: 0.9117\n",
      "Epoch 2/40\n",
      "3618/3618 [==============================] - 13s 4ms/step - loss: 5.2817 - acc: 0.9166 - val_loss: 5.0725 - val_acc: 0.9156\n",
      "Epoch 3/40\n",
      "3618/3618 [==============================] - 12s 3ms/step - loss: 4.8115 - acc: 0.9177 - val_loss: 4.4737 - val_acc: 0.9141\n",
      "Epoch 4/40\n",
      "3618/3618 [==============================] - 13s 4ms/step - loss: 4.0806 - acc: 0.9160 - val_loss: 3.5965 - val_acc: 0.9118\n",
      "Epoch 5/40\n",
      "3618/3618 [==============================] - 14s 4ms/step - loss: 3.0785 - acc: 0.9142 - val_loss: 2.4840 - val_acc: 0.9116\n",
      "Epoch 6/40\n",
      "3618/3618 [==============================] - 11s 3ms/step - loss: 1.9468 - acc: 0.9152 - val_loss: 1.4283 - val_acc: 0.9139\n",
      "Epoch 7/40\n",
      "3618/3618 [==============================] - 11s 3ms/step - loss: 1.1016 - acc: 0.9203 - val_loss: 0.8646 - val_acc: 0.9200\n",
      "Epoch 8/40\n",
      "3618/3618 [==============================] - 11s 3ms/step - loss: 0.7267 - acc: 0.9270 - val_loss: 0.6478 - val_acc: 0.9267\n",
      "Epoch 9/40\n",
      "3618/3618 [==============================] - 11s 3ms/step - loss: 0.5704 - acc: 0.9336 - val_loss: 0.5435 - val_acc: 0.9328\n",
      "Epoch 10/40\n",
      "3618/3618 [==============================] - 12s 3ms/step - loss: 0.4837 - acc: 0.9405 - val_loss: 0.4780 - val_acc: 0.9394\n",
      "Epoch 11/40\n",
      "3618/3618 [==============================] - 11s 3ms/step - loss: 0.4236 - acc: 0.9488 - val_loss: 0.4303 - val_acc: 0.9450\n",
      "Epoch 12/40\n",
      "3618/3618 [==============================] - 11s 3ms/step - loss: 0.3770 - acc: 0.9548 - val_loss: 0.3930 - val_acc: 0.9485\n",
      "Epoch 13/40\n",
      "3618/3618 [==============================] - 11s 3ms/step - loss: 0.3387 - acc: 0.9606 - val_loss: 0.3623 - val_acc: 0.9524\n",
      "Epoch 14/40\n",
      "3618/3618 [==============================] - 11s 3ms/step - loss: 0.3060 - acc: 0.9656 - val_loss: 0.3363 - val_acc: 0.9550\n",
      "Epoch 15/40\n",
      "3618/3618 [==============================] - 11s 3ms/step - loss: 0.2776 - acc: 0.9692 - val_loss: 0.3142 - val_acc: 0.9571\n",
      "Epoch 16/40\n",
      "3618/3618 [==============================] - 11s 3ms/step - loss: 0.2527 - acc: 0.9721 - val_loss: 0.2951 - val_acc: 0.9586\n",
      "Epoch 17/40\n",
      "3618/3618 [==============================] - 14s 4ms/step - loss: 0.2309 - acc: 0.9745 - val_loss: 0.2785 - val_acc: 0.9603\n",
      "Epoch 18/40\n",
      "3618/3618 [==============================] - 14s 4ms/step - loss: 0.2114 - acc: 0.9766 - val_loss: 0.2643 - val_acc: 0.9613\n",
      "Epoch 19/40\n",
      "3618/3618 [==============================] - 15s 4ms/step - loss: 0.1943 - acc: 0.9782 - val_loss: 0.2516 - val_acc: 0.9621\n",
      "Epoch 20/40\n",
      "3618/3618 [==============================] - 14s 4ms/step - loss: 0.1789 - acc: 0.9794 - val_loss: 0.2406 - val_acc: 0.9628\n",
      "Epoch 21/40\n",
      "3618/3618 [==============================] - 12s 3ms/step - loss: 0.1652 - acc: 0.9807 - val_loss: 0.2309 - val_acc: 0.9634\n",
      "Epoch 22/40\n",
      "3618/3618 [==============================] - 13s 3ms/step - loss: 0.1530 - acc: 0.9816 - val_loss: 0.2223 - val_acc: 0.9639\n",
      "Epoch 23/40\n",
      "3618/3618 [==============================] - 13s 4ms/step - loss: 0.1420 - acc: 0.9822 - val_loss: 0.2148 - val_acc: 0.9645\n",
      "Epoch 24/40\n",
      "3618/3618 [==============================] - 13s 4ms/step - loss: 0.1321 - acc: 0.9830 - val_loss: 0.2081 - val_acc: 0.9649\n",
      "Epoch 25/40\n",
      "3618/3618 [==============================] - 16s 4ms/step - loss: 0.1232 - acc: 0.9835 - val_loss: 0.2021 - val_acc: 0.9651\n",
      "Epoch 26/40\n",
      "3618/3618 [==============================] - 14s 4ms/step - loss: 0.1152 - acc: 0.9841 - val_loss: 0.1969 - val_acc: 0.9656\n",
      "Epoch 27/40\n",
      "3618/3618 [==============================] - 13s 4ms/step - loss: 0.1080 - acc: 0.9846 - val_loss: 0.1922 - val_acc: 0.9659\n",
      "Epoch 28/40\n",
      "3618/3618 [==============================] - 11s 3ms/step - loss: 0.1015 - acc: 0.9848 - val_loss: 0.1880 - val_acc: 0.9660\n",
      "Epoch 29/40\n",
      "3618/3618 [==============================] - 11s 3ms/step - loss: 0.0957 - acc: 0.9850 - val_loss: 0.1842 - val_acc: 0.9661\n",
      "Epoch 30/40\n",
      "3618/3618 [==============================] - 10s 3ms/step - loss: 0.0903 - acc: 0.9853 - val_loss: 0.1808 - val_acc: 0.9663\n",
      "Epoch 31/40\n",
      "3618/3618 [==============================] - 10s 3ms/step - loss: 0.0855 - acc: 0.9855 - val_loss: 0.1778 - val_acc: 0.9665\n",
      "Epoch 32/40\n",
      "3618/3618 [==============================] - 10s 3ms/step - loss: 0.0811 - acc: 0.9859 - val_loss: 0.1750 - val_acc: 0.9668\n",
      "Epoch 33/40\n",
      "3618/3618 [==============================] - 10s 3ms/step - loss: 0.0771 - acc: 0.9862 - val_loss: 0.1725 - val_acc: 0.9668\n",
      "Epoch 34/40\n",
      "3618/3618 [==============================] - 10s 3ms/step - loss: 0.0735 - acc: 0.9864 - val_loss: 0.1702 - val_acc: 0.9670\n",
      "Epoch 35/40\n",
      "3618/3618 [==============================] - 10s 3ms/step - loss: 0.0701 - acc: 0.9868 - val_loss: 0.1682 - val_acc: 0.9674\n",
      "Epoch 36/40\n",
      "3618/3618 [==============================] - 10s 3ms/step - loss: 0.0671 - acc: 0.9870 - val_loss: 0.1664 - val_acc: 0.9676\n",
      "Epoch 37/40\n",
      "3618/3618 [==============================] - 10s 3ms/step - loss: 0.0643 - acc: 0.9873 - val_loss: 0.1647 - val_acc: 0.9677\n",
      "Epoch 38/40\n",
      "3618/3618 [==============================] - 11s 3ms/step - loss: 0.0618 - acc: 0.9874 - val_loss: 0.1631 - val_acc: 0.9678\n",
      "Epoch 39/40\n",
      "3618/3618 [==============================] - 11s 3ms/step - loss: 0.0594 - acc: 0.9877 - val_loss: 0.1617 - val_acc: 0.9679\n",
      "Epoch 40/40\n",
      "3618/3618 [==============================] - 10s 3ms/step - loss: 0.0572 - acc: 0.9878 - val_loss: 0.1605 - val_acc: 0.9680\n",
      "Saved model to disk\n"
     ]
    }
   ],
   "source": [
    "#sudo pip install h5py\n",
    "import os\n",
    "model_hist = model.fit(train_sentences_X, cat_train_tags_y,\n",
    "                       validation_data=(eval_sentences_X, cat_eval_tags_y),\n",
    "                       batch_size=128, \n",
    "                       epochs=40,\n",
    "                       validation_split=0.2)\n",
    "\n",
    "# serialize model to JSON\n",
    "model_json = model.to_json()\n",
    "with open(\"mb-00.json\", \"w\") as json_file:\n",
    "    json_file.write(model_json)\n",
    "\n",
    "# serialize weights to HDF5\n",
    "model.save_weights(\"mb-00.h5\")\n",
    "print(\"Saved model to disk\")"
   ]
  },
  {
   "cell_type": "markdown",
   "metadata": {},
   "source": [
    "# Parte 3"
   ]
  },
  {
   "cell_type": "code",
   "execution_count": 21,
   "metadata": {},
   "outputs": [
    {
     "name": "stdout",
     "output_type": "stream",
     "text": [
      "1206/1206 [==============================] - 1s 839us/step\n",
      "96.89193885915512\n"
     ]
    }
   ],
   "source": [
    "scores = model.evaluate(test_sentences_X, cat_test_tags_y)\n",
    "print(scores[1] * 100)   # acc: 97.66269326210022"
   ]
  },
  {
   "cell_type": "code",
   "execution_count": 22,
   "metadata": {},
   "outputs": [],
   "source": [
    "import matplotlib.pyplot as plt\n",
    "\n",
    "def plot_model_performance(train_loss, train_acc, train_val_loss, train_val_acc):\n",
    "    \"\"\" Plot model loss and accuracy through epochs. \"\"\"\n",
    "    blue= '#34495E'\n",
    "    green = '#2ECC71'\n",
    "    orange = '#E23B13'\n",
    "    \n",
    "    # plot model loss\n",
    "    fig, (ax1, ax2) = plt.subplots(2, figsize=(10, 8))\n",
    "    ax1.plot(range(1, len(train_loss) + 1), train_loss, blue, linewidth=5, label='training')\n",
    "    ax1.plot(range(1, len(train_val_loss) + 1), train_val_loss, green, linewidth=5, label='validation')\n",
    "    ax1.set_xlabel('# epoch')\n",
    "    ax1.set_ylabel('loss')\n",
    "    ax1.tick_params('y')\n",
    "    ax1.legend(loc='upper right', shadow=False)\n",
    "    ax1.set_title('Model loss through #epochs', color=orange, fontweight='bold')\n",
    "    \n",
    "    # plot model accuracy\n",
    "    ax2.plot(range(1, len(train_acc) + 1), train_acc, blue, linewidth=5, label='training')\n",
    "    ax2.plot(range(1, len(train_val_acc) + 1), train_val_acc, green, linewidth=5, label='validation')\n",
    "    ax2.set_xlabel('# epoch')\n",
    "    ax2.set_ylabel('accuracy')\n",
    "    ax2.tick_params('y')\n",
    "    ax2.legend(loc='lower right', shadow=False)\n",
    "    ax2.set_title('Model accuracy through #epochs', color=orange, fontweight='bold')\n",
    "    \n",
    "#     fig.savefig('Plot/training/training-mb-00.png', bbox_inches='tight')"
   ]
  },
  {
   "cell_type": "code",
   "execution_count": 23,
   "metadata": {},
   "outputs": [
    {
     "data": {
      "image/png": "[encoded data removed]",
      "text/plain": [
       "<Figure size 720x576 with 2 Axes>"
      ]
     },
     "metadata": {
      "needs_background": "light"
     },
     "output_type": "display_data"
    }
   ],
   "source": [
    "plot_model_performance(\n",
    "    train_loss=model_hist.history.get('loss', []),\n",
    "    train_acc=model_hist.history.get('acc', []),\n",
    "    train_val_loss=model_hist.history.get('val_loss', []),\n",
    "    train_val_acc=model_hist.history.get('val_acc', [])\n",
    ")"
   ]
  },
  {
   "cell_type": "markdown",
   "metadata": {},
   "source": [
    "## Función que Permite convertir Indices en Tags"
   ]
  },
  {
   "cell_type": "code",
   "execution_count": 24,
   "metadata": {},
   "outputs": [],
   "source": [
    "def logits_to_tokens(sequences, index):\n",
    "    token_sequences = []\n",
    "    for categorical_sequence in sequences:\n",
    "        token_sequence = []\n",
    "        for categorical in categorical_sequence:\n",
    "            token_sequence.append(index[np.argmax(categorical)])\n",
    " \n",
    "        token_sequences.append(token_sequence)\n",
    " \n",
    "    return token_sequences"
   ]
  },
  {
   "cell_type": "markdown",
   "metadata": {},
   "source": [
    "## Hacemos la prediccion sobre el conjunto de pruebas. De la distribución probabilítica a etiquetas."
   ]
  },
  {
   "cell_type": "code",
   "execution_count": 25,
   "metadata": {},
   "outputs": [
    {
     "name": "stdout",
     "output_type": "stream",
     "text": [
      "[u'da0ms0', u'ncms000', u'aq0ms0', u'vmis3s0', u'da0ms0', u'W', u'di0ms0', u'aq0ms0', u'ncms000', u'sps00', u'ncfp000', u'aq0fpp', u'sps00', u'vmn0000', u'da0ms0', u'ncms000', u'aq0ms0', u'Fc', u'pr0cn000', u'vmip3s0', u'di0fs0', u'ncfs000', u'sps00', u'sps00', u'da0ms0', u'Z', u'cc', u'da0ms0', u'Zp', u'sps00', u'da0mp0', u'np0000p', u'sps00', u'da0mp0', u'ncmp000', u'aq0mp0', u'Fp', '-PAD-', '-PAD-', '-PAD-', '-PAD-', '-PAD-', '-PAD-', '-PAD-', '-PAD-', '-PAD-', '-PAD-', '-PAD-', '-PAD-', '-PAD-', '-PAD-', '-PAD-', '-PAD-', '-PAD-', '-PAD-', '-PAD-', '-PAD-', '-PAD-', '-PAD-', '-PAD-', '-PAD-', '-PAD-', '-PAD-', '-PAD-', '-PAD-', '-PAD-', '-PAD-', '-PAD-', '-PAD-', '-PAD-', '-PAD-', '-PAD-', '-PAD-', '-PAD-', '-PAD-', '-PAD-', '-PAD-', '-PAD-', '-PAD-', '-PAD-', '-PAD-', '-PAD-', '-PAD-', '-PAD-', '-PAD-', '-PAD-', '-PAD-', '-PAD-', '-PAD-', '-PAD-', '-PAD-', '-PAD-', '-PAD-', '-PAD-', '-PAD-', '-PAD-', '-PAD-', '-PAD-', '-PAD-', '-PAD-', '-PAD-', '-PAD-', '-PAD-', '-PAD-', '-PAD-', '-PAD-', '-PAD-', '-PAD-', '-PAD-', '-PAD-', '-PAD-', '-PAD-', '-PAD-', '-PAD-', '-PAD-', '-PAD-', '-PAD-', '-PAD-', '-PAD-', '-PAD-', '-PAD-', '-PAD-', '-PAD-', '-PAD-', '-PAD-', '-PAD-', '-PAD-', '-PAD-', '-PAD-', '-PAD-', '-PAD-', '-PAD-', '-PAD-', '-PAD-', '-PAD-', '-PAD-', '-PAD-', '-PAD-', '-PAD-', '-PAD-', '-PAD-', '-PAD-', '-PAD-', '-PAD-', '-PAD-', '-PAD-', '-PAD-', '-PAD-', '-PAD-']\n"
     ]
    }
   ],
   "source": [
    "import pandas as pd\n",
    "\n",
    "prediction = model.predict(test_sentences_X)\n",
    "log_tokens = logits_to_tokens(prediction, {i: t for t, i in tag2index.items()})\n",
    "\n",
    "print(log_tokens[0])"
   ]
  },
  {
   "cell_type": "code",
   "execution_count": 26,
   "metadata": {},
   "outputs": [
    {
     "name": "stdout",
     "output_type": "stream",
     "text": [
      "       Expected Predicted\n",
      "1        da0ms0    da0ms0\n",
      "2       ncms000   ncms000\n",
      "3        aq0ms0    aq0ms0\n",
      "4       vmis3s0   vmis3s0\n",
      "5        da0ms0    da0ms0\n",
      "6             W         W\n",
      "7        di0ms0    di0ms0\n",
      "8        aq0ms0    aq0ms0\n",
      "9       nccs000   ncms000\n",
      "10        sps00     sps00\n",
      "11      ncfp000   ncfp000\n",
      "12       aq0fpp    aq0fpp\n",
      "13        sps00     sps00\n",
      "14      vmn0000   vmn0000\n",
      "15       da0ms0    da0ms0\n",
      "16      ncms000   ncms000\n",
      "17       aq0ms0    aq0ms0\n",
      "18           Fc        Fc\n",
      "19     pr0cn000  pr0cn000\n",
      "20      vmip3s0   vmip3s0\n",
      "21       di0fs0    di0fs0\n",
      "22      ncfs000   ncfs000\n",
      "23        sps00     sps00\n",
      "24        sps00     sps00\n",
      "25       da0ms0    da0ms0\n",
      "26            Z         Z\n",
      "27           cc        cc\n",
      "28       da0ms0    da0ms0\n",
      "29           Zp        Zp\n",
      "30        sps00     sps00\n",
      "...         ...       ...\n",
      "38573   ncfp000   np0000p\n",
      "38574     sps00     sps00\n",
      "38575    da0fs0    da0fs0\n",
      "38576   ncfs000   ncms000\n",
      "38577     spcms     spcms\n",
      "38578   ncms000   ncms000\n",
      "38579        Fp        Fp\n",
      "38580        rg        rg\n",
      "38581  sn.e-SUJ  sn.e-SUJ\n",
      "38582   vmis3s0   vmis3s0\n",
      "38583        cs  pr0cn000\n",
      "38584    da0fs0    da0fs0\n",
      "38585   ncfs000   ncfs000\n",
      "38586    aq0cs0    aq0cs0\n",
      "38587  sn.e-SUJ  sn.e-SUJ\n",
      "38588  p0300000  p0300000\n",
      "38589   vaii3s0   vaii3s0\n",
      "38590   vmp00sm   np0000p\n",
      "38591     sps00     sps00\n",
      "38592   vmn0000   np0000p\n",
      "38593    da0mp0    da0mp0\n",
      "38594   ncmp000   ncmp000\n",
      "38595        cc        cc\n",
      "38596  sn.e-SUJ  sn.e-SUJ\n",
      "38597  pp3cn000  p0300000\n",
      "38598   vmis3s0   ncfs000\n",
      "38599     sps00     sps00\n",
      "38600    dp3cs0    dp3cs0\n",
      "38601   ncfs000   np0000p\n",
      "38602        Fp        Fp\n",
      "\n",
      "[38602 rows x 2 columns]\n"
     ]
    },
    {
     "name": "stderr",
     "output_type": "stream",
     "text": [
      "/usr/local/lib/python2.7/dist-packages/sklearn/metrics/classification.py:1143: UndefinedMetricWarning: Precision and F-score are ill-defined and being set to 0.0 in labels with no predicted samples.\n",
      "  'precision', 'predicted', average, warn_for)\n",
      "/usr/local/lib/python2.7/dist-packages/sklearn/metrics/classification.py:1145: UndefinedMetricWarning: Recall and F-score are ill-defined and being set to 0.0 in labels with no true samples.\n",
      "  'recall', 'true', average, warn_for)\n"
     ]
    },
    {
     "name": "stdout",
     "output_type": "stream",
     "text": [
      "('\\nclassification_report:\\n', u'              precision    recall  f1-score   support\\n\\n       -PAD-       0.00      0.00      0.00         0\\n         Faa       0.00      0.00      0.00         7\\n         Fat       0.00      0.00      0.00        10\\n          Fc       1.00      1.00      1.00      2270\\n          Fd       1.00      1.00      1.00        97\\n          Fe       1.00      1.00      1.00       597\\n          Fg       1.00      1.00      1.00       235\\n          Fh       0.00      0.00      0.00         1\\n         Fia       1.00      1.00      1.00        12\\n         Fit       1.00      1.00      1.00        29\\n          Fp       1.00      1.00      1.00      1181\\n         Fpa       1.00      1.00      1.00       130\\n         Fpt       1.00      1.00      1.00       130\\n          Fs       1.00      1.00      1.00         2\\n          Fx       1.00      1.00      1.00        32\\n          Fz       0.00      0.00      0.00         6\\n           W       0.96      0.64      0.77       199\\n           Z       0.96      0.69      0.80       293\\n          Zm       0.90      0.90      0.90        31\\n          Zp       1.00      0.44      0.62        45\\n      ao0fp0       1.00      0.88      0.93         8\\n      ao0fs0       0.98      0.92      0.95        52\\n      ao0mp0       1.00      0.96      0.98        25\\n      ao0ms0       0.97      0.94      0.95        62\\n     aq00000       0.00      0.00      0.00         2\\n      aq0cn0       0.00      0.00      0.00        15\\n      aq0cp0       0.85      0.71      0.77       228\\n      aq0cs0       0.92      0.81      0.86       664\\n      aq0fp0       0.94      0.55      0.69       164\\n      aq0fpp       0.96      0.37      0.53        71\\n      aq0fs0       0.94      0.60      0.73       395\\n      aq0fsp       0.83      0.46      0.59       139\\n      aq0mp0       0.79      0.56      0.65       200\\n      aq0mpp       0.81      0.41      0.54        86\\n      aq0ms0       0.85      0.72      0.78       483\\n      aq0msp       0.60      0.43      0.50       188\\n          cc       0.99      1.00      0.99      1223\\n          cs       0.95      0.41      0.57       866\\n      da0fp0       0.97      1.00      0.99       363\\n      da0fs0       0.98      1.00      0.99      1357\\n      da0mp0       0.99      1.00      1.00       637\\n      da0ms0       1.00      1.00      1.00      1191\\n      da0ns0       0.70      1.00      0.82        90\\n      dd0cp0       0.00      0.00      0.00         3\\n      dd0cs0       0.00      0.00      0.00         6\\n      dd0fp0       0.96      1.00      0.98        22\\n      dd0fs0       0.94      1.00      0.97        81\\n      dd0mp0       0.97      0.97      0.97        29\\n      dd0ms0       0.91      1.00      0.95        87\\n      de0cn0       0.00      0.00      0.00         1\\n      di0cp0       0.00      0.00      0.00         3\\n      di0cs0       1.00      1.00      1.00        46\\n      di0fp0       0.88      0.97      0.93        71\\n      di0fs0       0.93      1.00      0.96       348\\n      di0mp0       0.73      0.98      0.84       101\\n      di0ms0       0.95      0.97      0.96       451\\n      dn0cp0       0.85      0.99      0.92       153\\n      dn0cs0       0.00      0.00      0.00         3\\n      dn0fp0       0.00      0.00      0.00         1\\n      dn0fs0       0.00      0.00      0.00         7\\n      dn0mp0       0.00      0.00      0.00         4\\n      dn0ms0       0.00      0.00      0.00         4\\n      dp1cps       0.00      0.00      0.00         2\\n      dp1css       1.00      1.00      1.00        11\\n      dp1fpp       0.00      0.00      0.00         1\\n      dp1fsp       0.00      0.00      0.00         3\\n      dp1mpp       0.00      0.00      0.00         8\\n      dp1msp       1.00      1.00      1.00         5\\n      dp2cps       0.00      0.00      0.00         1\\n      dp2css       0.00      0.00      0.00         2\\n      dp3cp0       1.00      1.00      1.00       103\\n      dp3cs0       1.00      1.00      1.00       292\\n      dp3ms0       0.00      0.00      0.00         1\\n      dt0cn0       0.00      0.00      0.00         3\\n      dt0ms0       0.00      0.00      0.00         1\\n           i       0.00      0.00      0.00         6\\n     nc00000       1.00      0.06      0.11        18\\n     nccn000       0.00      0.00      0.00         4\\n     nccp000       0.92      0.65      0.76       127\\n     nccs000       0.84      0.75      0.79       150\\n     ncfn000       1.00      0.40      0.57        15\\n     ncfp000       0.93      0.79      0.85       749\\n     ncfs000       0.74      0.88      0.81      2229\\n     ncmn000       1.00      0.45      0.62        20\\n     ncmp000       0.74      0.80      0.77      1159\\n     ncms000       0.68      0.85      0.76      2299\\n     np00000       0.50      0.04      0.07        57\\n     np0000a       0.82      0.34      0.48       190\\n     np0000l       0.76      0.69      0.72       393\\n     np0000o       0.60      0.58      0.59       673\\n     np0000p       0.27      0.67      0.39       719\\n    p0000000       0.00      0.00      0.00       177\\n    p010p000       0.00      0.00      0.00         5\\n    p010s000       0.00      0.00      0.00         2\\n    p020s000       0.00      0.00      0.00         1\\n    p0300000       0.53      1.00      0.69       213\\n    pd0fp000       0.00      0.00      0.00         4\\n    pd0fs000       0.00      0.00      0.00         7\\n    pd0mp000       0.00      0.00      0.00         3\\n    pd0ms000       0.00      0.00      0.00        10\\n    pd0ns000       1.00      1.00      1.00        30\\n    pi0cp000       0.00      0.00      0.00         3\\n    pi0cs000       0.85      1.00      0.92        35\\n    pi0fp000       0.00      0.00      0.00         9\\n    pi0fs000       0.00      0.00      0.00        19\\n    pi0mp000       0.00      0.00      0.00        36\\n    pi0ms000       0.97      0.58      0.73        53\\n    pn0cp000       1.00      0.11      0.20        27\\n    pn0fp000       0.00      0.00      0.00         1\\n    pn0fs000       0.00      0.00      0.00         1\\n    pn0mp000       0.00      0.00      0.00         5\\n    pn0ms000       0.00      0.00      0.00         2\\n    pp1cp000       0.81      1.00      0.90        22\\n    pp1cs000       0.92      1.00      0.96        22\\n    pp1csn00       1.00      1.00      1.00         9\\n    pp1cso00       0.00      0.00      0.00         4\\n    pp1mp000       1.00      1.00      1.00        10\\n    pp2cp000       0.00      0.00      0.00         1\\n    pp2cp00p       0.00      0.00      0.00         1\\n    pp2cs000       0.00      0.00      0.00         5\\n    pp2cs00p       0.00      0.00      0.00         3\\n    pp2csn00       0.00      0.00      0.00         2\\n    pp2cso00       0.00      0.00      0.00         2\\n    pp3cn000       0.00      0.00      0.00        13\\n    pp3cna00       0.00      0.00      0.00         6\\n    pp3cno00       0.00      0.00      0.00         6\\n    pp3cpa00       0.00      0.00      0.00         2\\n    pp3cpd00       0.90      1.00      0.95        18\\n    pp3csa00       0.00      0.00      0.00         5\\n    pp3csd00       0.91      1.00      0.95        48\\n    pp3fp000       0.00      0.00      0.00         9\\n    pp3fpa00       0.00      0.00      0.00        10\\n    pp3fs000       1.00      1.00      1.00         9\\n    pp3fsa00       0.00      0.00      0.00        25\\n    pp3mp000       1.00      1.00      1.00        17\\n    pp3mpa00       0.00      0.00      0.00         6\\n    pp3ms000       1.00      1.00      1.00        23\\n    pp3msa00       0.00      0.00      0.00        33\\n    pp3ns000       1.00      1.00      1.00        10\\n    pr000000       0.97      0.92      0.95        38\\n    pr0cn000       0.54      1.00      0.70       572\\n    pr0cp000       1.00      0.57      0.73         7\\n    pr0cs000       1.00      1.00      1.00        32\\n    pr0fs000       1.00      1.00      1.00        10\\n    pr0mp000       0.00      0.00      0.00         1\\n    pr0ms000       0.00      0.00      0.00         8\\n    pt000000       1.00      0.89      0.94         9\\n    pt0cp000       0.00      0.00      0.00         1\\n    pt0cs000       0.80      1.00      0.89        16\\n    px3ms000       0.00      0.00      0.00         1\\n          rg       0.94      0.90      0.92      1176\\n          rn       0.98      1.00      0.99       256\\n      sn-SUJ       0.00      0.00      0.00         1\\n        sn.e       0.00      0.00      0.00         3\\n    sn.e-SUJ       0.99      1.00      1.00       787\\n sn.e.1n-SUJ       0.00      0.00      0.00         2\\n       spcms       1.00      0.99      1.00       728\\n       sps00       0.99      0.99      0.99      5072\\n     vaic3s0       0.00      0.00      0.00         6\\n     vaif3s0       0.00      0.00      0.00         4\\n     vaii1s0       0.00      0.00      0.00         2\\n     vaii3p0       1.00      1.00      1.00         5\\n     vaii3s0       0.95      1.00      0.97        37\\n     vaip1p0       0.00      0.00      0.00         7\\n     vaip1s0       0.82      1.00      0.90         9\\n     vaip2s0       0.00      0.00      0.00         1\\n     vaip3p0       1.00      1.00      1.00        55\\n     vaip3s0       1.00      1.00      1.00       183\\n     vais3s0       0.00      0.00      0.00         6\\n     vam02s0       0.00      0.00      0.00         2\\n     van0000       1.00      0.85      0.92        20\\n     vap00sm       0.00      0.00      0.00         1\\n     vasi3p0       0.00      0.00      0.00         2\\n     vasi3s0       1.00      0.75      0.86         8\\n     vasp3s0       1.00      1.00      1.00         6\\n     vmg0000       0.77      0.34      0.47        98\\n     vmic1p0       0.00      0.00      0.00         1\\n     vmic1s0       0.00      0.00      0.00         3\\n     vmic3p0       0.00      0.00      0.00        12\\n     vmic3s0       1.00      0.36      0.53        36\\n     vmif1p0       0.00      0.00      0.00        12\\n     vmif2s0       0.00      0.00      0.00         1\\n     vmif3p0       1.00      0.35      0.52        37\\n     vmif3s0       1.00      0.65      0.79        91\\n     vmii1p0       0.00      0.00      0.00         8\\n     vmii1s0       0.00      0.00      0.00         7\\n     vmii2p0       0.00      0.00      0.00         1\\n     vmii3p0       1.00      0.47      0.64        77\\n     vmii3s0       0.95      0.56      0.70       131\\n     vmip1p0       1.00      0.63      0.77        67\\n     vmip1s0       0.95      0.80      0.87        45\\n     vmip2s0       0.00      0.00      0.00         7\\n     vmip3p0       0.95      0.73      0.83       265\\n     vmip3s0       0.95      0.85      0.90       602\\n     vmis1p0       0.00      0.00      0.00         4\\n     vmis1s0       0.00      0.00      0.00         5\\n     vmis2s0       0.00      0.00      0.00         1\\n     vmis3p0       0.96      0.55      0.70       130\\n     vmis3s0       1.00      0.82      0.90       600\\n     vmm02s0       0.00      0.00      0.00         8\\n     vmm03p0       0.00      0.00      0.00         6\\n     vmm03s0       0.00      0.00      0.00         3\\n     vmn0000       0.63      0.75      0.68       813\\n     vmp00pf       0.00      0.00      0.00         8\\n     vmp00pm       0.00      0.00      0.00        23\\n     vmp00sf       0.00      0.00      0.00        24\\n     vmp00sm       0.75      0.62      0.67       313\\n     vmsi1s0       0.00      0.00      0.00         2\\n     vmsi3p0       0.00      0.00      0.00        10\\n     vmsi3s0       1.00      0.10      0.17        21\\n     vmsp1p0       0.00      0.00      0.00         3\\n     vmsp1s0       0.00      0.00      0.00        10\\n     vmsp2p0       0.00      0.00      0.00         1\\n     vmsp3p0       0.88      0.40      0.55        35\\n     vmsp3s0       0.94      0.44      0.60        78\\n     vsg0000       0.00      0.00      0.00         4\\n     vsic3p0       0.00      0.00      0.00         3\\n     vsic3s0       1.00      1.00      1.00         8\\n     vsif3p0       0.00      0.00      0.00         4\\n     vsif3s0       1.00      1.00      1.00        14\\n     vsii1s0       0.00      0.00      0.00         2\\n     vsii3p0       0.00      0.00      0.00         4\\n     vsii3s0       0.93      1.00      0.96        37\\n     vsip1p0       0.00      0.00      0.00         8\\n     vsip1s0       0.00      0.00      0.00         1\\n     vsip2s0       0.00      0.00      0.00         1\\n     vsip3p0       1.00      1.00      1.00        51\\n     vsip3s0       1.00      1.00      1.00       187\\n     vsis3p0       0.94      1.00      0.97        15\\n     vsis3s0       0.98      1.00      0.99        54\\n     vsn0000       0.89      1.00      0.94        40\\n     vsp00sm       1.00      1.00      1.00        35\\n     vssi3s0       0.00      0.00      0.00         2\\n     vssp3p0       0.00      0.00      0.00         2\\n     vssp3s0       1.00      1.00      1.00        15\\n\\n   micro avg       0.86      0.86      0.86     38602\\n   macro avg       0.49      0.44      0.45     38602\\nweighted avg       0.87      0.86      0.85     38602\\n')\n"
     ]
    }
   ],
   "source": [
    "from sklearn.metrics import classification_report, confusion_matrix\n",
    "\n",
    "results = pd.DataFrame(columns=['Expected', 'Predicted'])\n",
    "k = 0\n",
    "for i, lista_etiquetas_oracion in enumerate(test_tags):\n",
    "    for j, etiquetas in enumerate(lista_etiquetas_oracion):\n",
    "        k = k + 1\n",
    "        results.loc[k, 'Expected'] = etiquetas\n",
    "        results.loc[k, 'Predicted'] = log_tokens[i][j]\n",
    "\n",
    "print(results)\n",
    "\n",
    "\n",
    "print('\\nclassification_report:\\n', classification_report(results['Expected'], results['Predicted']))"
   ]
  },
  {
   "cell_type": "markdown",
   "metadata": {},
   "source": [
    "## PARTE 4 - Testing"
   ]
  },
  {
   "cell_type": "markdown",
   "metadata": {},
   "source": [
    "### Creamos un pequeño Ejemplo"
   ]
  },
  {
   "cell_type": "code",
   "execution_count": 27,
   "metadata": {},
   "outputs": [
    {
     "name": "stdout",
     "output_type": "stream",
     "text": [
      "[['Correr', 'es', 'importante', 'para', 'mi', '.'], ['El', 'hombre', 'bajo', 'corre', 'bajo', 'el', 'puente', 'con', 'bajo', '\\xc3\\xadndice', 'de', 'adrenalina', '.']]\n"
     ]
    }
   ],
   "source": [
    "test_samples = [\n",
    "    \"Correr es importante para mi .\".split(),\n",
    "    \"El hombre bajo corre bajo el puente con bajo índice de adrenalina .\".split()\n",
    "]\n",
    "print(test_samples)"
   ]
  },
  {
   "cell_type": "markdown",
   "metadata": {},
   "source": [
    "### Convertimos el texto en Una entrada para el Modelo y se generan los dos vecores de enteros de las dos oraciones"
   ]
  },
  {
   "cell_type": "code",
   "execution_count": 28,
   "metadata": {},
   "outputs": [
    {
     "name": "stdout",
     "output_type": "stream",
     "text": [
      "[[20710  8171  1236 16282 15736   238     0     0     0     0     0     0\n",
      "      0     0     0     0     0     0     0     0     0     0     0     0\n",
      "      0     0     0     0     0     0     0     0     0     0     0     0\n",
      "      0     0     0     0     0     0     0     0     0     0     0     0\n",
      "      0     0     0     0     0     0     0     0     0     0     0     0\n",
      "      0     0     0     0     0     0     0     0     0     0     0     0\n",
      "      0     0     0     0     0     0     0     0     0     0     0     0\n",
      "      0     0     0     0     0     0     0     0     0     0     0     0\n",
      "      0     0     0     0     0     0     0     0     0     0     0     0\n",
      "      0     0     0     0     0     0     0     0     0     0     0     0\n",
      "      0     0     0     0     0     0     0     0     0     0     0     0\n",
      "      0     0     0     0     0     0     0     0     0     0     0     0\n",
      "      0     0     0     0     0]\n",
      " [ 9243 15801 12429  6737 12429  9243 10473  7889 12429     1  7850     1\n",
      "    238     0     0     0     0     0     0     0     0     0     0     0\n",
      "      0     0     0     0     0     0     0     0     0     0     0     0\n",
      "      0     0     0     0     0     0     0     0     0     0     0     0\n",
      "      0     0     0     0     0     0     0     0     0     0     0     0\n",
      "      0     0     0     0     0     0     0     0     0     0     0     0\n",
      "      0     0     0     0     0     0     0     0     0     0     0     0\n",
      "      0     0     0     0     0     0     0     0     0     0     0     0\n",
      "      0     0     0     0     0     0     0     0     0     0     0     0\n",
      "      0     0     0     0     0     0     0     0     0     0     0     0\n",
      "      0     0     0     0     0     0     0     0     0     0     0     0\n",
      "      0     0     0     0     0     0     0     0     0     0     0     0\n",
      "      0     0     0     0     0]]\n",
      "(2, 149)\n"
     ]
    }
   ],
   "source": [
    "test_samples_X = []\n",
    "for s in test_samples:\n",
    "    s_int = []\n",
    "    for w in s:\n",
    "        try:\n",
    "            s_int.append(word2index[w.lower()])\n",
    "        except KeyError:\n",
    "            s_int.append(word2index['-OOV-'])\n",
    "    test_samples_X.append(s_int)\n",
    "\n",
    "test_samples_X = pad_sequences(test_samples_X, maxlen=MAX_LENGTH, padding='post')\n",
    "print(test_samples_X)\n",
    "print(test_samples_X.shape)"
   ]
  },
  {
   "cell_type": "markdown",
   "metadata": {},
   "source": [
    "### Se Ejecuta la predicion con la Entrada del modelo entrenado y el modelo de la red neuronal predice un matriz de 149 X 291 por cada oración. El shape de a predicción es (2, 149,291)"
   ]
  },
  {
   "cell_type": "code",
   "execution_count": 29,
   "metadata": {},
   "outputs": [
    {
     "name": "stdout",
     "output_type": "stream",
     "text": [
      "(array([[[4.20607073e-04, 1.36314775e-04, 1.71082560e-04, ...,\n",
      "         9.46361339e-04, 1.35467344e-04, 1.13132592e-04],\n",
      "        [1.43469060e-05, 2.37939375e-07, 2.29431095e-07, ...,\n",
      "         1.18754666e-04, 4.91533171e-07, 2.33822618e-07],\n",
      "        [3.75424406e-06, 2.18043581e-07, 3.03436309e-07, ...,\n",
      "         1.33149209e-04, 4.36513034e-07, 2.44028911e-07],\n",
      "        ...,\n",
      "        [9.96983826e-01, 8.08240566e-06, 8.77049024e-06, ...,\n",
      "         7.87543740e-06, 8.57249597e-06, 7.29903968e-06],\n",
      "        [9.96983826e-01, 8.08240566e-06, 8.77049024e-06, ...,\n",
      "         7.87543740e-06, 8.57249597e-06, 7.29903968e-06],\n",
      "        [9.96983826e-01, 8.08240566e-06, 8.77049024e-06, ...,\n",
      "         7.87543740e-06, 8.57249597e-06, 7.29903968e-06]],\n",
      "\n",
      "       [[3.11033887e-06, 1.95744164e-07, 7.37726111e-07, ...,\n",
      "         3.54704571e-05, 2.11314315e-07, 2.80571925e-07],\n",
      "        [5.41056179e-05, 2.61777291e-06, 2.99393901e-06, ...,\n",
      "         2.15468550e-04, 2.66952634e-06, 2.67140558e-06],\n",
      "        [1.01943302e-03, 1.33633130e-05, 1.46428665e-05, ...,\n",
      "         6.95163477e-03, 1.23842810e-05, 1.28283764e-05],\n",
      "        ...,\n",
      "        [9.96983826e-01, 8.08240566e-06, 8.77049024e-06, ...,\n",
      "         7.87543740e-06, 8.57249597e-06, 7.29903968e-06],\n",
      "        [9.96983826e-01, 8.08240566e-06, 8.77049024e-06, ...,\n",
      "         7.87543740e-06, 8.57249597e-06, 7.29903968e-06],\n",
      "        [9.96983826e-01, 8.08240566e-06, 8.77049024e-06, ...,\n",
      "         7.87543740e-06, 8.57249597e-06, 7.29903968e-06]]], dtype=float32), (2, 149, 291))\n"
     ]
    }
   ],
   "source": [
    "predictions = model.predict(test_samples_X)\n",
    "print(predictions, predictions.shape)"
   ]
  },
  {
   "cell_type": "markdown",
   "metadata": {},
   "source": [
    "### Conversion de la Salida del Modelo a un lista de Indices de Tags"
   ]
  },
  {
   "cell_type": "code",
   "execution_count": 30,
   "metadata": {},
   "outputs": [
    {
     "name": "stdout",
     "output_type": "stream",
     "text": [
      "[[u'vmn0000', u'vsip3s0', u'aq0cs0', u'sps00', u'dp1css', u'Fp', '-PAD-', '-PAD-', '-PAD-', '-PAD-', '-PAD-', '-PAD-', '-PAD-', '-PAD-', '-PAD-', '-PAD-', '-PAD-', '-PAD-', '-PAD-', '-PAD-', '-PAD-', '-PAD-', '-PAD-', '-PAD-', '-PAD-', '-PAD-', '-PAD-', '-PAD-', '-PAD-', '-PAD-', '-PAD-', '-PAD-', '-PAD-', '-PAD-', '-PAD-', '-PAD-', '-PAD-', '-PAD-', '-PAD-', '-PAD-', '-PAD-', '-PAD-', '-PAD-', '-PAD-', '-PAD-', '-PAD-', '-PAD-', '-PAD-', '-PAD-', '-PAD-', '-PAD-', '-PAD-', '-PAD-', '-PAD-', '-PAD-', '-PAD-', '-PAD-', '-PAD-', '-PAD-', '-PAD-', '-PAD-', '-PAD-', '-PAD-', '-PAD-', '-PAD-', '-PAD-', '-PAD-', '-PAD-', '-PAD-', '-PAD-', '-PAD-', '-PAD-', '-PAD-', '-PAD-', '-PAD-', '-PAD-', '-PAD-', '-PAD-', '-PAD-', '-PAD-', '-PAD-', '-PAD-', '-PAD-', '-PAD-', '-PAD-', '-PAD-', '-PAD-', '-PAD-', '-PAD-', '-PAD-', '-PAD-', '-PAD-', '-PAD-', '-PAD-', '-PAD-', '-PAD-', '-PAD-', '-PAD-', '-PAD-', '-PAD-', '-PAD-', '-PAD-', '-PAD-', '-PAD-', '-PAD-', '-PAD-', '-PAD-', '-PAD-', '-PAD-', '-PAD-', '-PAD-', '-PAD-', '-PAD-', '-PAD-', '-PAD-', '-PAD-', '-PAD-', '-PAD-', '-PAD-', '-PAD-', '-PAD-', '-PAD-', '-PAD-', '-PAD-', '-PAD-', '-PAD-', '-PAD-', '-PAD-', '-PAD-', '-PAD-', '-PAD-', '-PAD-', '-PAD-', '-PAD-', '-PAD-', '-PAD-', '-PAD-', '-PAD-', '-PAD-', '-PAD-', '-PAD-', '-PAD-', '-PAD-', '-PAD-', '-PAD-', '-PAD-', '-PAD-', '-PAD-', '-PAD-'], [u'da0ms0', u'ncms000', u'sps00', u'vmip3s0', u'sps00', u'da0ms0', u'ncms000', u'sps00', u'sps00', u'ncms000', u'sps00', u'ncms000', u'Fp', '-PAD-', '-PAD-', '-PAD-', '-PAD-', '-PAD-', '-PAD-', '-PAD-', '-PAD-', '-PAD-', '-PAD-', '-PAD-', '-PAD-', '-PAD-', '-PAD-', '-PAD-', '-PAD-', '-PAD-', '-PAD-', '-PAD-', '-PAD-', '-PAD-', '-PAD-', '-PAD-', '-PAD-', '-PAD-', '-PAD-', '-PAD-', '-PAD-', '-PAD-', '-PAD-', '-PAD-', '-PAD-', '-PAD-', '-PAD-', '-PAD-', '-PAD-', '-PAD-', '-PAD-', '-PAD-', '-PAD-', '-PAD-', '-PAD-', '-PAD-', '-PAD-', '-PAD-', '-PAD-', '-PAD-', '-PAD-', '-PAD-', '-PAD-', '-PAD-', '-PAD-', '-PAD-', '-PAD-', '-PAD-', '-PAD-', '-PAD-', '-PAD-', '-PAD-', '-PAD-', '-PAD-', '-PAD-', '-PAD-', '-PAD-', '-PAD-', '-PAD-', '-PAD-', '-PAD-', '-PAD-', '-PAD-', '-PAD-', '-PAD-', '-PAD-', '-PAD-', '-PAD-', '-PAD-', '-PAD-', '-PAD-', '-PAD-', '-PAD-', '-PAD-', '-PAD-', '-PAD-', '-PAD-', '-PAD-', '-PAD-', '-PAD-', '-PAD-', '-PAD-', '-PAD-', '-PAD-', '-PAD-', '-PAD-', '-PAD-', '-PAD-', '-PAD-', '-PAD-', '-PAD-', '-PAD-', '-PAD-', '-PAD-', '-PAD-', '-PAD-', '-PAD-', '-PAD-', '-PAD-', '-PAD-', '-PAD-', '-PAD-', '-PAD-', '-PAD-', '-PAD-', '-PAD-', '-PAD-', '-PAD-', '-PAD-', '-PAD-', '-PAD-', '-PAD-', '-PAD-', '-PAD-', '-PAD-', '-PAD-', '-PAD-', '-PAD-', '-PAD-', '-PAD-', '-PAD-', '-PAD-', '-PAD-', '-PAD-', '-PAD-', '-PAD-', '-PAD-', '-PAD-', '-PAD-']]\n"
     ]
    }
   ],
   "source": [
    "log_tokens = logits_to_tokens(predictions, {i: t for t, i in tag2index.items()})\n",
    "print(log_tokens)"
   ]
  },
  {
   "cell_type": "markdown",
   "metadata": {},
   "source": [
    "### Presentación de los Resultados"
   ]
  },
  {
   "cell_type": "code",
   "execution_count": 31,
   "metadata": {},
   "outputs": [
    {
     "name": "stdout",
     "output_type": "stream",
     "text": [
      "Correr    es       importante    para    mi      .\n",
      "--------  -------  ------------  ------  ------  ---\n",
      "vmn0000   vsip3s0  aq0cs0        sps00   dp1css  Fp\n",
      "\n",
      "\n",
      "El hombre bajo corre bajo el puente con bajo índice de adrenalina . \n",
      "[[u'da0ms0', u'ncms000', u'sps00', u'vmip3s0', u'sps00', u'da0ms0', u'ncms000', u'sps00', u'sps00', u'ncms000', u'sps00', u'ncms000', u'Fp']]\n"
     ]
    }
   ],
   "source": [
    "#!pip install tabulate\n",
    "from tabulate import tabulate\n",
    "\n",
    "heads1 = test_samples[0]\n",
    "body1 = [log_tokens[0][:len(test_samples[0])]]\n",
    "\n",
    "heads2 = test_samples[1]\n",
    "body2 = [log_tokens[1][:len(test_samples[1])]]\n",
    "\n",
    "print(tabulate(body1, headers=heads1))\n",
    "\n",
    "print (\"\\n\")\n",
    "\n",
    "print(goodPrint(heads2))\n",
    "print(body2)\n",
    "\n",
    "\n",
    "## postagging Freeling 4.1\n",
    "\n",
    "## El      hombre   bajo     corre    bajo  el      puente   con  bajo  índice   de  adrenalina  .\n",
    "## DA0MS0  NCMS000  AQ0MS00  VMIP3S0  SP    DA0MS0  NCMS000  SP   SP    NCMS000  SP  NCFS000     Fp\n",
    "\n",
    "\n",
    "## pos tagger Stanford NLP\n",
    "\n",
    "## El      hombre   bajo     corre    bajo  el      puente   con    bajo   índice  de    adrenalina  .\n",
    "## da0000  nc0s000  aq0000   vmip000  sp000 da0000  nc0s000  sp000  aq0000 nc0s000 sp000 nc0s000     fp"
   ]
  },
  {
   "cell_type": "code",
   "execution_count": null,
   "metadata": {},
   "outputs": [],
   "source": []
  }
 ],
 "metadata": {
  "kernelspec": {
   "display_name": "Python 3",
   "language": "python",
   "name": "python3"
  },
  "language_info": {
   "codemirror_mode": {
    "name": "ipython",
    "version": 2
   },
   "file_extension": ".py",
   "mimetype": "text/x-python",
   "name": "python",
   "nbconvert_exporter": "python",
   "pygments_lexer": "ipython2",
   "version": "2.7.17"
  }
 },
 "nbformat": 4,
 "nbformat_minor": 2
}
