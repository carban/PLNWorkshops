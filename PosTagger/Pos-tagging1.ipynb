{
 "cells": [
  {
   "cell_type": "code",
   "execution_count": 1,
   "metadata": {},
   "outputs": [],
   "source": [
    "import numpy as np"
   ]
  },
  {
   "cell_type": "code",
   "execution_count": 2,
   "metadata": {},
   "outputs": [],
   "source": [
    "# Custom function for print a sentence\n",
    "def goodPrint(a):\n",
    "    x = \"\"\n",
    "    for i in range(len(a)):\n",
    "        x += a[i]+\" \"\n",
    "    return x"
   ]
  },
  {
   "cell_type": "markdown",
   "metadata": {},
   "source": [
    "## Downloading nltk corpus"
   ]
  },
  {
   "cell_type": "code",
   "execution_count": 3,
   "metadata": {},
   "outputs": [
    {
     "name": "stderr",
     "output_type": "stream",
     "text": [
      "[nltk_data] Downloading package cess_esp to /home/carban/nltk_data...\n",
      "[nltk_data]   Package cess_esp is already up-to-date!\n"
     ]
    },
    {
     "data": {
      "text/plain": [
       "True"
      ]
     },
     "execution_count": 3,
     "metadata": {},
     "output_type": "execute_result"
    }
   ],
   "source": [
    "import nltk\n",
    "nltk.download('cess_esp')"
   ]
  },
  {
   "cell_type": "code",
   "execution_count": 4,
   "metadata": {},
   "outputs": [],
   "source": [
    "from nltk.corpus import cess_esp\n",
    "\n",
    "tagged_sentences = cess_esp.tagged_sents()"
   ]
  },
  {
   "cell_type": "markdown",
   "metadata": {},
   "source": [
    "## We get a corpus with sentences and the tag for each word"
   ]
  },
  {
   "cell_type": "code",
   "execution_count": 5,
   "metadata": {},
   "outputs": [
    {
     "name": "stdout",
     "output_type": "stream",
     "text": [
      "[(u'El', u'da0ms0'), (u'grupo', u'ncms000'), (u'estatal', u'aq0cs0'), (u'Electricit\\xe9_de_France', u'np00000'), (u'-Fpa-', u'Fpa'), (u'EDF', u'np00000'), (u'-Fpt-', u'Fpt'), (u'anunci\\xf3', u'vmis3s0'), (u'hoy', u'rg'), (u',', u'Fc'), (u'jueves', u'W'), (u',', u'Fc'), (u'la', u'da0fs0'), (u'compra', u'ncfs000'), (u'del', u'spcms'), (u'51_por_ciento', u'Zp'), (u'de', u'sps00'), (u'la', u'da0fs0'), (u'empresa', u'ncfs000'), (u'mexicana', u'aq0fs0'), (u'Electricidad_\\xc1guila_de_Altamira', u'np00000'), (u'-Fpa-', u'Fpa'), (u'EAA', u'np00000'), (u'-Fpt-', u'Fpt'), (u',', u'Fc'), (u'creada', u'aq0fsp'), (u'por', u'sps00'), (u'el', u'da0ms0'), (u'japon\\xe9s', u'aq0ms0'), (u'Mitsubishi_Corporation', u'np00000'), (u'para', u'sps00'), (u'poner_en_marcha', u'vmn0000'), (u'una', u'di0fs0'), (u'central', u'ncfs000'), (u'de', u'sps00'), (u'gas', u'ncms000'), (u'de', u'sps00'), (u'495', u'Z'), (u'megavatios', u'ncmp000'), (u'.', u'Fp')]\n",
      "==========================\n",
      "('Tagged sentences: ', 6030)\n",
      "('Tagged words:', 192685)\n"
     ]
    }
   ],
   "source": [
    "print(tagged_sentences[0])\n",
    "print(\"==========================\")\n",
    "print(\"Tagged sentences: \", len(tagged_sentences))\n",
    "print(\"Tagged words:\", len(cess_esp.tagged_words()))"
   ]
  },
  {
   "cell_type": "markdown",
   "metadata": {},
   "source": [
    "## Splitting Sentence and tag inside two different arrays, later write 2 files for the 2 arrays"
   ]
  },
  {
   "cell_type": "code",
   "execution_count": 6,
   "metadata": {},
   "outputs": [],
   "source": [
    "import numpy as np\n",
    "import pickle\n",
    "\n",
    "sentences, tagss = [], []\n",
    "for tagged_sentence in tagged_sentences:\n",
    "    sentence, tags = zip(*tagged_sentence)\n",
    "    sentences.append(np.array(sentence))\n",
    "    tagss.append(np.array(tags))\n",
    "    \n",
    "# with open(\"sentences.txt\", \"wb\") as fp:\n",
    "#     pickle.dump(sentences, fp)\n",
    "    \n",
    "# with open(\"tags.txt\", \"wb\") as fp:\n",
    "#     pickle.dump(tagss, fp)"
   ]
  },
  {
   "cell_type": "markdown",
   "metadata": {},
   "source": [
    "## Printing a sample of the arrays"
   ]
  },
  {
   "cell_type": "code",
   "execution_count": 7,
   "metadata": {},
   "outputs": [
    {
     "name": "stdout",
     "output_type": "stream",
     "text": [
      "6030\n",
      "\n",
      "Words on the first sentence: 40\n",
      "\n",
      "El grupo estatal Electricité_de_France -Fpa- EDF -Fpt- anunció hoy , jueves , la compra del 51_por_ciento de la empresa mexicana Electricidad_Águila_de_Altamira -Fpa- EAA -Fpt- , creada por el japonés Mitsubishi_Corporation para poner_en_marcha una central de gas de 495 megavatios . \n",
      "\n",
      "tags of the first sentence: 40\n",
      "\n",
      "[u'da0ms0' u'ncms000' u'aq0cs0' u'np00000' u'Fpa' u'np00000' u'Fpt'\n",
      " u'vmis3s0' u'rg' u'Fc' u'W' u'Fc' u'da0fs0' u'ncfs000' u'spcms' u'Zp'\n",
      " u'sps00' u'da0fs0' u'ncfs000' u'aq0fs0' u'np00000' u'Fpa' u'np00000'\n",
      " u'Fpt' u'Fc' u'aq0fsp' u'sps00' u'da0ms0' u'aq0ms0' u'np00000' u'sps00'\n",
      " u'vmn0000' u'di0fs0' u'ncfs000' u'sps00' u'ncms000' u'sps00' u'Z'\n",
      " u'ncmp000' u'Fp']\n"
     ]
    }
   ],
   "source": [
    "print(str(len(sentences)) + \"\\n\")\n",
    "print(\"Words on the first sentence: \"+str(len(sentences[0])))+\"\\n\"\n",
    "print(goodPrint(sentences[0])+ \"\\n\")\n",
    "print(\"tags of the first sentence: \"+str(len(tagss[0])))+\"\\n\"\n",
    "print(tagss[0])"
   ]
  },
  {
   "cell_type": "markdown",
   "metadata": {},
   "source": [
    "## Percentages for training and testing"
   ]
  },
  {
   "cell_type": "code",
   "execution_count": 8,
   "metadata": {},
   "outputs": [],
   "source": [
    "from sklearn.model_selection import train_test_split\n",
    " \n",
    "(training_sentences, \n",
    " test_sentences, \n",
    " training_tags, \n",
    " test_tags) = train_test_split(sentences, tagss, test_size=0.2)\n",
    "\n",
    "(train_sentences, \n",
    " eval_sentences, \n",
    " train_tags, \n",
    " eval_tags) = train_test_split(training_sentences, training_tags, test_size=0.25)"
   ]
  },
  {
   "cell_type": "code",
   "execution_count": 9,
   "metadata": {},
   "outputs": [
    {
     "name": "stdout",
     "output_type": "stream",
     "text": [
      "training_sentences:4824\n",
      "train_sentences: 3618\n",
      "test_sentences: 1206\n",
      "eval_sentences: 1206\n",
      "\n",
      "[u'Al_igual_que' u'en' u'las' u'parejas' u'humanas' u',' u'parece' u'ser'\n",
      " u'que' u'a' u'las' u'aves' u'que' u'han' u'logrado' u'una' u'relaci\\xf3n'\n",
      " u'armoniosa' u'gracias_a' u'la' u'experiencia' u'*0*' u'les' u'va'\n",
      " u'mejor' u'en' u'la' u'crianza' u'que' u'a' u'los' u'reci\\xe9n'\n",
      " u'casados' u'.']\n",
      "[u'Baker' u'indic\\xf3' u'que' u'los' u'republicanos' u'no' u'tienen'\n",
      " u'ninguna' u'garant\\xeda' u'de' u'que' u'los' u'votos' u'por' u'correo'\n",
      " u'favorecer\\xe1n' u'a' u'Bush' u'y' u'*0*' u'se\\xf1al\\xf3' u'que' u'los'\n",
      " u'dem\\xf3cratas' u'deben' u'aceptar' u'tambi\\xe9n' u'retirar' u'todas'\n",
      " u'las' u'demandas' u'judiciales' u'.']\n",
      "[u'Arabia_Saud\\xed' u'adelantar\\xe1' u'a' u'los' u'pr\\xf3ximos' u'meses'\n",
      " u'la' u'retirada' u'de' u'sus' u'tropas' u'de' u'la' u'frontera' u'con'\n",
      " u'Yemen' u',' u'en_lugar_de' u'hacerlo' u'en' u'dos' u'a\\xf1os' u','\n",
      " u'como' u'preve\\xeda' u'un' u'tratado' u'firmado' u'en' u'junio'\n",
      " u'pasado' u',' u'informa' u'hoy' u',' u'jueves' u',' u'el' u'diario'\n",
      " u'\\xe1rabe' u'internacional' u',' u'\"' u'Al_Hayat' u'\"' u'.']\n",
      "\n",
      "training_tags:4824\n",
      "train_tags: 3618\n",
      "test_tags: 1206\n",
      "eval_tags: 1206\n",
      "\n",
      "[u'cs' u'sps00' u'da0fp0' u'ncfp000' u'aq0fp0' u'Fc' u'vmip3s0' u'vsn0000'\n",
      " u'cs' u'sps00' u'da0fp0' u'ncfp000' u'pr0cn000' u'vaip3p0' u'vmp00sm'\n",
      " u'di0fs0' u'ncfs000' u'aq0fs0' u'sps00' u'da0fs0' u'ncfs000' u'sn.e-SUJ'\n",
      " u'pp3cpd00' u'vmip3s0' u'rg' u'sps00' u'da0fs0' u'ncfs000' u'cs' u'sps00'\n",
      " u'da0mp0' u'rg' u'ncmp000' u'Fp']\n",
      "[u'np0000p' u'vmis3s0' u'cs' u'da0mp0' u'ncmp000' u'rn' u'vmip3p0'\n",
      " u'di0fs0' u'ncfs000' u'sps00' u'cs' u'da0mp0' u'ncmp000' u'sps00'\n",
      " u'ncms000' u'vmif3p0' u'sps00' u'np0000p' u'cc' u'sn.e-SUJ' u'vmis3s0'\n",
      " u'cs' u'da0mp0' u'nccp000' u'vmip3p0' u'vmn0000' u'rg' u'vmn0000'\n",
      " u'di0fp0' u'da0fp0' u'ncfp000' u'aq0cp0' u'Fp']\n",
      "[u'np0000o' u'vmif3s0' u'sps00' u'da0mp0' u'aq0mp0' u'ncmp000' u'da0fs0'\n",
      " u'ncfs000' u'sps00' u'dp3cp0' u'ncfp000' u'sps00' u'da0fs0' u'ncfs000'\n",
      " u'sps00' u'np0000l' u'Fc' u'sps00' u'vmn0000' u'sps00' u'dn0cp0'\n",
      " u'ncmp000' u'Fc' u'cs' u'vmii3s0' u'di0ms0' u'ncms000' u'aq0msp' u'sps00'\n",
      " u'W' u'aq0msp' u'Fc' u'vmip3s0' u'rg' u'Fc' u'W' u'Fc' u'da0ms0'\n",
      " u'ncms000' u'aq0cs0' u'aq0cs0' u'Fc' u'Fe' u'np0000a' u'Fe' u'Fp']\n",
      "(34, 44, 33)\n"
     ]
    }
   ],
   "source": [
    "print(\"training_sentences:\" + str(len(training_sentences)))\n",
    "print(\"train_sentences: \" + str(len(train_sentences)))\n",
    "print(\"test_sentences: \" + str(len(test_sentences)))\n",
    "print(\"eval_sentences: \" + str(len(eval_sentences)) + \"\\n\")\n",
    "\n",
    "print(train_sentences[0])\n",
    "print(test_sentences[0])\n",
    "print(eval_sentences[0])\n",
    "\n",
    "print(\"\\ntraining_tags:\" + str(len(training_sentences)))\n",
    "print(\"train_tags: \" + str(len(train_tags)))\n",
    "print(\"test_tags: \" + str(len(test_tags)))\n",
    "print(\"eval_tags: \" + str(len(eval_tags)) + \"\\n\")\n",
    "\n",
    "print(train_tags[0])\n",
    "print(test_tags[0])\n",
    "print(eval_tags[0])\n",
    "\n",
    "print(len(train_sentences[0]), len(train_sentences[1]), len(train_sentences[2]))"
   ]
  },
  {
   "cell_type": "markdown",
   "metadata": {},
   "source": [
    "## Building dictionary"
   ]
  },
  {
   "cell_type": "code",
   "execution_count": 10,
   "metadata": {},
   "outputs": [
    {
     "name": "stdout",
     "output_type": "stream",
     "text": [
      "24499\n",
      "291\n"
     ]
    }
   ],
   "source": [
    "words, tagsss = set([]), set([])\n",
    " \n",
    "for s in (train_sentences + eval_sentences + test_sentences):\n",
    "    for w in s:\n",
    "        words.add(w.lower())\n",
    "\n",
    "for ts in (train_tags + eval_tags + test_tags):\n",
    "    for t in ts:\n",
    "        tagsss.add(t)\n",
    "\n",
    "word2index = {w: i + 2 for i, w in enumerate(list(words))}\n",
    "word2index['-PAD-'] = 0  # The special value used for padding\n",
    "word2index['-OOV-'] = 1  # The special value used for OOVs\n",
    " \n",
    "tag2index = {t: i + 2 for i, t in enumerate(list(tagsss))}\n",
    "tag2index['-PAD-'] = 0  # The special value used to padding\n",
    "tag2index['-OOV-'] = 1  # The special value used to padding\n",
    "\n",
    "print (len(word2index))\n",
    "print (len(tag2index))\n",
    "\n",
    "# PRINT THIS FOR CHECKING *************************\n",
    "# print(word2index)\n",
    "# print(tag2index)\n",
    "\n",
    "np.save('word2index.npy', word2index)\n",
    "np.save('tag2index.npy', tag2index)"
   ]
  },
  {
   "cell_type": "markdown",
   "metadata": {},
   "source": [
    "## Parsing Dictionary"
   ]
  },
  {
   "cell_type": "code",
   "execution_count": 11,
   "metadata": {},
   "outputs": [],
   "source": [
    "train_sentences_X, eval_sentences_X, test_sentences_X, train_tags_y, eval_tags_y, test_tags_y = [], [], [], [], [], []\n",
    "\n",
    "for s in train_sentences:\n",
    "    s_int = []\n",
    "    for w in s:\n",
    "        try:\n",
    "            s_int.append(word2index[w.lower()])\n",
    "        except KeyError:\n",
    "            s_int.append(word2index['-OOV-'])\n",
    " \n",
    "    train_sentences_X.append(s_int)\n",
    "\n",
    "for s in eval_sentences:\n",
    "    s_int = []\n",
    "    for w in s:\n",
    "        try:\n",
    "            s_int.append(word2index[w.lower()])\n",
    "        except KeyError:\n",
    "            s_int.append(word2index['-OOV-'])\n",
    " \n",
    "    eval_sentences_X.append(s_int)\n",
    "\n",
    "for s in test_sentences:\n",
    "    s_int = []\n",
    "    for w in s:\n",
    "        try:\n",
    "            s_int.append(word2index[w.lower()])\n",
    "        except KeyError:\n",
    "            s_int.append(word2index['-OOV-'])\n",
    " \n",
    "    test_sentences_X.append(s_int)\n",
    "\n",
    "for s in train_tags:\n",
    "    s_int = []\n",
    "    for w in s:\n",
    "        try:\n",
    "            s_int.append(tag2index[w])\n",
    "        except KeyError:\n",
    "            s_int.append(tag2index['-OOV-'])\n",
    "            \n",
    "    train_tags_y.append(s_int)\n",
    "\n",
    "for s in eval_tags:\n",
    "    s_int = []\n",
    "    for w in s:\n",
    "        try:\n",
    "            s_int.append(tag2index[w])\n",
    "        except KeyError:\n",
    "            s_int.append(tag2index['-OOV-'])\n",
    "            \n",
    "    eval_tags_y.append(s_int)\n",
    "\n",
    "for s in test_tags:\n",
    "    s_int = []\n",
    "    for w in s:\n",
    "        try:\n",
    "            s_int.append(tag2index[w])\n",
    "        except KeyError:\n",
    "            s_int.append(tag2index['-OOV-'])\n",
    "            \n",
    "    test_tags_y.append(s_int)"
   ]
  },
  {
   "cell_type": "code",
   "execution_count": 12,
   "metadata": {},
   "outputs": [
    {
     "name": "stdout",
     "output_type": "stream",
     "text": [
      "Longitudes de las Matrices:\n",
      "3618\n",
      "1206\n",
      "1206\n",
      "3618\n",
      "1206\n",
      "1206\n",
      "\n",
      "Muestra de Datos presentes en las Matrices con las transformaciones:\n",
      "\n"
     ]
    }
   ],
   "source": [
    "\n",
    "\n",
    "print(\"Longitudes de las Matrices:\")\n",
    "print(len(train_sentences_X))\n",
    "print(len(eval_sentences_X))\n",
    "print(len(test_sentences_X))\n",
    "print(len(train_tags_y))\n",
    "print(len(eval_tags_y))\n",
    "print(len(test_tags_y))\n",
    "\n",
    "print(\"\\nMuestra de Datos presentes en las Matrices con las transformaciones:\\n\")\n",
    "\n",
    "# print(train_sentences_X[0])\n",
    "# print(eval_sentences_X[0])\n",
    "# print(test_sentences_X[0])\n",
    "# print(train_tags_y[0])\n",
    "# print(eval_tags_y[0])\n",
    "# print(test_tags_y[0])\n",
    "\n"
   ]
  },
  {
   "cell_type": "markdown",
   "metadata": {},
   "source": [
    "## Checking transformation"
   ]
  },
  {
   "cell_type": "code",
   "execution_count": 13,
   "metadata": {},
   "outputs": [
    {
     "name": "stdout",
     "output_type": "stream",
     "text": [
      "Words on the first sentence: 34\n",
      "\n",
      "Al_igual_que en las parejas humanas , parece ser que a las aves que han logrado una relación armoniosa gracias_a la experiencia *0* les va mejor en la crianza que a los recién casados . \n",
      "\n",
      "Words on the first sentence PARSED: 34\n",
      "\n",
      "[9111, 8168, 20053, 740, 561, 6768, 20969, 7114, 4346, 20787, 20053, 897, 4346, 283, 4800, 15556, 24457, 13570, 4181, 10448, 17518, 3827, 19456, 13665, 21439, 8168, 10448, 8792, 4346, 20787, 14506, 12311, 7500, 240]\n",
      "\n",
      "\n",
      "tags of the first sentence: 34\n",
      "\n",
      "[u'cs' u'sps00' u'da0fp0' u'ncfp000' u'aq0fp0' u'Fc' u'vmip3s0' u'vsn0000'\n",
      " u'cs' u'sps00' u'da0fp0' u'ncfp000' u'pr0cn000' u'vaip3p0' u'vmp00sm'\n",
      " u'di0fs0' u'ncfs000' u'aq0fs0' u'sps00' u'da0fs0' u'ncfs000' u'sn.e-SUJ'\n",
      " u'pp3cpd00' u'vmip3s0' u'rg' u'sps00' u'da0fs0' u'ncfs000' u'cs' u'sps00'\n",
      " u'da0mp0' u'rg' u'ncmp000' u'Fp']\n",
      "\n",
      "\n",
      "tags of the first sentence PARSED: 34\n",
      "\n",
      "[158, 263, 180, 44, 34, 174, 147, 151, 158, 263, 180, 44, 167, 202, 204, 85, 201, 141, 263, 218, 201, 83, 224, 147, 104, 263, 218, 201, 158, 263, 280, 104, 33, 162]\n"
     ]
    }
   ],
   "source": [
    "print(\"Words on the first sentence: \"+str(len(train_sentences[0])))+\"\\n\"\n",
    "print(goodPrint(train_sentences[0])+ \"\\n\")\n",
    "print(\"Words on the first sentence PARSED: \"+str(len(train_sentences_X[0])))+\"\\n\"\n",
    "print(train_sentences_X[0])\n",
    "print(\"\\n\")\n",
    "print(\"tags of the first sentence: \"+str(len(train_tags[0])))+\"\\n\"\n",
    "print(train_tags[0])\n",
    "print(\"\\n\")\n",
    "print(\"tags of the first sentence PARSED: \"+str(len(train_tags_y[0])))+\"\\n\"\n",
    "print(train_tags_y[0])"
   ]
  },
  {
   "cell_type": "markdown",
   "metadata": {},
   "source": [
    "## Sentence with more words"
   ]
  },
  {
   "cell_type": "code",
   "execution_count": 14,
   "metadata": {},
   "outputs": [
    {
     "name": "stdout",
     "output_type": "stream",
     "text": [
      "(149, 128, 104)\n",
      "Max: 149\n"
     ]
    }
   ],
   "source": [
    "MAX_LENGTH1 = len(max(train_sentences_X, key=len))\n",
    "MAX_LENGTH2 = len(max(eval_sentences_X, key=len))\n",
    "MAX_LENGTH3 = len(max(test_sentences_X, key=len))\n",
    "\n",
    "print(MAX_LENGTH1, MAX_LENGTH2, MAX_LENGTH3)\n",
    "\n",
    "l = [MAX_LENGTH1, MAX_LENGTH2, MAX_LENGTH3]\n",
    "MAX_LENGTH = max(l)\n",
    "\n",
    "print(\"Max: \"+str(MAX_LENGTH))"
   ]
  },
  {
   "cell_type": "markdown",
   "metadata": {},
   "source": [
    "### Se procede a Normalizar las matrices para que todas contengan el mismo numero de columans, con la longitud maxima de palabras encontradas anteriormente, esto se logra agregando ceros a la derecha en las posiciones que hacen falta en el vector"
   ]
  },
  {
   "cell_type": "code",
   "execution_count": 15,
   "metadata": {},
   "outputs": [
    {
     "name": "stderr",
     "output_type": "stream",
     "text": [
      "Using TensorFlow backend.\n"
     ]
    },
    {
     "name": "stdout",
     "output_type": "stream",
     "text": [
      "[ 9111  8168 20053   740   561  6768 20969  7114  4346 20787 20053   897\n",
      "  4346   283  4800 15556 24457 13570  4181 10448 17518  3827 19456 13665\n",
      " 21439  8168 10448  8792  4346 20787 14506 12311  7500   240     0     0\n",
      "     0     0     0     0     0     0     0     0     0     0     0     0\n",
      "     0     0     0     0     0     0     0     0     0     0     0     0\n",
      "     0     0     0     0     0     0     0     0     0     0     0     0\n",
      "     0     0     0     0     0     0     0     0     0     0     0     0\n",
      "     0     0     0     0     0     0     0     0     0     0     0     0\n",
      "     0     0     0     0     0     0     0     0     0     0     0     0\n",
      "     0     0     0     0     0     0     0     0     0     0     0     0\n",
      "     0     0     0     0     0     0     0     0     0     0     0     0\n",
      "     0     0     0     0     0     0     0     0     0     0     0     0\n",
      "     0     0     0     0     0]\n",
      "[23372  8452 20787 14506 13885 16116 10448  2206  7856  5373  5630  7856\n",
      " 10448 20930  7895 14614  6768 19764 23218  8168 19588  8140  6768 23600\n",
      "  4983  6749 10869  5958  8168  5744  8553  6768  5874 18535  6768 22257\n",
      "  6768  9233 12392  3397  8246  6768  5467 16970  5467   240     0     0\n",
      "     0     0     0     0     0     0     0     0     0     0     0     0\n",
      "     0     0     0     0     0     0     0     0     0     0     0     0\n",
      "     0     0     0     0     0     0     0     0     0     0     0     0\n",
      "     0     0     0     0     0     0     0     0     0     0     0     0\n",
      "     0     0     0     0     0     0     0     0     0     0     0     0\n",
      "     0     0     0     0     0     0     0     0     0     0     0     0\n",
      "     0     0     0     0     0     0     0     0     0     0     0     0\n",
      "     0     0     0     0     0     0     0     0     0     0     0     0\n",
      "     0     0     0     0     0]\n",
      "[15273  1389  4346 14506  9179 11066  3079  6440  3839  7856  4346 14506\n",
      "   873 17524 20698  2840 20787 18647 10244  3827 22891  4346 14506 23257\n",
      " 16752 13517 19689 19969  5024 20053  5902 16685   240     0     0     0\n",
      "     0     0     0     0     0     0     0     0     0     0     0     0\n",
      "     0     0     0     0     0     0     0     0     0     0     0     0\n",
      "     0     0     0     0     0     0     0     0     0     0     0     0\n",
      "     0     0     0     0     0     0     0     0     0     0     0     0\n",
      "     0     0     0     0     0     0     0     0     0     0     0     0\n",
      "     0     0     0     0     0     0     0     0     0     0     0     0\n",
      "     0     0     0     0     0     0     0     0     0     0     0     0\n",
      "     0     0     0     0     0     0     0     0     0     0     0     0\n",
      "     0     0     0     0     0     0     0     0     0     0     0     0\n",
      "     0     0     0     0     0]\n",
      "[158 263 180  44  34 174 147 151 158 263 180  44 167 202 204  85 201 141\n",
      " 263 218 201  83 224 147 104 263 218 201 158 263 280 104  33 162   0   0\n",
      "   0   0   0   0   0   0   0   0   0   0   0   0   0   0   0   0   0   0\n",
      "   0   0   0   0   0   0   0   0   0   0   0   0   0   0   0   0   0   0\n",
      "   0   0   0   0   0   0   0   0   0   0   0   0   0   0   0   0   0   0\n",
      "   0   0   0   0   0   0   0   0   0   0   0   0   0   0   0   0   0   0\n",
      "   0   0   0   0   0   0   0   0   0   0   0   0   0   0   0   0   0   0\n",
      "   0   0   0   0   0   0   0   0   0   0   0   0   0   0   0   0   0   0\n",
      "   0   0   0   0   0]\n",
      "[ 98  81 263 280 229  33 218 201 263 205  44 263 218 201 263  97 174 263\n",
      "  87 263 134  33 174 158 257 255 253 238 263 123 238 174 147 104 174 123\n",
      " 174  88 253  15  15 174 176  99 176 162   0   0   0   0   0   0   0   0\n",
      "   0   0   0   0   0   0   0   0   0   0   0   0   0   0   0   0   0   0\n",
      "   0   0   0   0   0   0   0   0   0   0   0   0   0   0   0   0   0   0\n",
      "   0   0   0   0   0   0   0   0   0   0   0   0   0   0   0   0   0   0\n",
      "   0   0   0   0   0   0   0   0   0   0   0   0   0   0   0   0   0   0\n",
      "   0   0   0   0   0   0   0   0   0   0   0   0   0   0   0   0   0   0\n",
      "   0   0   0   0   0]\n",
      "[107 288 158 280  33 108 124  85 201 263 158 280  33 263 253 250 263 107\n",
      " 149  83 288 158 280  93 124  87 104  87  53 180  44 125 162   0   0   0\n",
      "   0   0   0   0   0   0   0   0   0   0   0   0   0   0   0   0   0   0\n",
      "   0   0   0   0   0   0   0   0   0   0   0   0   0   0   0   0   0   0\n",
      "   0   0   0   0   0   0   0   0   0   0   0   0   0   0   0   0   0   0\n",
      "   0   0   0   0   0   0   0   0   0   0   0   0   0   0   0   0   0   0\n",
      "   0   0   0   0   0   0   0   0   0   0   0   0   0   0   0   0   0   0\n",
      "   0   0   0   0   0   0   0   0   0   0   0   0   0   0   0   0   0   0\n",
      "   0   0   0   0   0]\n"
     ]
    }
   ],
   "source": [
    "from keras.preprocessing.sequence import pad_sequences\n",
    " \n",
    "train_sentences_X = pad_sequences(train_sentences_X, maxlen=MAX_LENGTH, padding='post')\n",
    "eval_sentences_X = pad_sequences(eval_sentences_X, maxlen=MAX_LENGTH, padding='post')\n",
    "test_sentences_X = pad_sequences(test_sentences_X, maxlen=MAX_LENGTH, padding='post')\n",
    "train_tags_y = pad_sequences(train_tags_y, maxlen=MAX_LENGTH, padding='post')\n",
    "eval_tags_y = pad_sequences(eval_tags_y, maxlen=MAX_LENGTH, padding='post')\n",
    "test_tags_y = pad_sequences(test_tags_y, maxlen=MAX_LENGTH, padding='post')\n",
    " \n",
    "print(train_sentences_X[0])\n",
    "print(eval_sentences_X[0])\n",
    "print(test_sentences_X[0])\n",
    "print(train_tags_y[0])\n",
    "print(eval_tags_y[0])\n",
    "print(test_tags_y[0])"
   ]
  },
  {
   "cell_type": "markdown",
   "metadata": {},
   "source": [
    "## Definimos la funcion con la cual categorizaremos los tags y los covertiremos un vector One-hot"
   ]
  },
  {
   "cell_type": "code",
   "execution_count": 16,
   "metadata": {},
   "outputs": [],
   "source": [
    "def to_categoricals(sequences, categories):\n",
    "    cat_sequences = []\n",
    "    for s in sequences:\n",
    "        cats = []\n",
    "        for item in s:\n",
    "            cats.append(np.zeros(categories))\n",
    "            cats[-1][item] = 1.0\n",
    "        cat_sequences.append(cats)\n",
    "    return np.array(cat_sequences)\n"
   ]
  },
  {
   "cell_type": "code",
   "execution_count": 17,
   "metadata": {},
   "outputs": [
    {
     "name": "stdout",
     "output_type": "stream",
     "text": [
      "[158 263 180  44  34 174 147 151 158 263 180  44 167 202 204  85 201 141\n",
      " 263 218 201  83 224 147 104 263 218 201 158 263 280 104  33 162   0   0\n",
      "   0   0   0   0   0   0   0   0   0   0   0   0   0   0   0   0   0   0\n",
      "   0   0   0   0   0   0   0   0   0   0   0   0   0   0   0   0   0   0\n",
      "   0   0   0   0   0   0   0   0   0   0   0   0   0   0   0   0   0   0\n",
      "   0   0   0   0   0   0   0   0   0   0   0   0   0   0   0   0   0   0\n",
      "   0   0   0   0   0   0   0   0   0   0   0   0   0   0   0   0   0   0\n",
      "   0   0   0   0   0   0   0   0   0   0   0   0   0   0   0   0   0   0\n",
      "   0   0   0   0   0]\n",
      "[[0. 0. 0. ... 0. 0. 0.]\n",
      " [0. 0. 0. ... 0. 0. 0.]\n",
      " [0. 0. 0. ... 0. 0. 0.]\n",
      " ...\n",
      " [1. 0. 0. ... 0. 0. 0.]\n",
      " [1. 0. 0. ... 0. 0. 0.]\n",
      " [1. 0. 0. ... 0. 0. 0.]]\n",
      "[0. 0. 0. 0. 0. 0. 0. 0. 0. 0. 0. 0. 0. 0. 0. 0. 0. 0. 0. 0. 0. 0. 0. 0.\n",
      " 0. 0. 0. 0. 0. 0. 0. 0. 0. 0. 0. 0. 0. 0. 0. 0. 0. 0. 0. 0. 0. 0. 0. 0.\n",
      " 0. 0. 0. 0. 0. 0. 0. 0. 0. 0. 0. 0. 0. 0. 0. 0. 0. 0. 0. 0. 0. 0. 0. 0.\n",
      " 0. 0. 0. 0. 0. 0. 0. 0. 0. 0. 0. 0. 0. 0. 0. 0. 0. 0. 0. 0. 0. 0. 0. 0.\n",
      " 0. 0. 0. 0. 0. 0. 0. 0. 0. 0. 0. 0. 0. 0. 0. 0. 0. 0. 0. 0. 0. 0. 0. 0.\n",
      " 0. 0. 0. 0. 0. 0. 0. 0. 0. 0. 0. 0. 0. 0. 0. 0. 0. 0. 0. 0. 0. 0. 0. 0.\n",
      " 0. 0. 0. 0. 0. 0. 0. 0. 0. 0. 0. 0. 0. 0. 1. 0. 0. 0. 0. 0. 0. 0. 0. 0.\n",
      " 0. 0. 0. 0. 0. 0. 0. 0. 0. 0. 0. 0. 0. 0. 0. 0. 0. 0. 0. 0. 0. 0. 0. 0.\n",
      " 0. 0. 0. 0. 0. 0. 0. 0. 0. 0. 0. 0. 0. 0. 0. 0. 0. 0. 0. 0. 0. 0. 0. 0.\n",
      " 0. 0. 0. 0. 0. 0. 0. 0. 0. 0. 0. 0. 0. 0. 0. 0. 0. 0. 0. 0. 0. 0. 0. 0.\n",
      " 0. 0. 0. 0. 0. 0. 0. 0. 0. 0. 0. 0. 0. 0. 0. 0. 0. 0. 0. 0. 0. 0. 0. 0.\n",
      " 0. 0. 0. 0. 0. 0. 0. 0. 0. 0. 0. 0. 0. 0. 0. 0. 0. 0. 0. 0. 0. 0. 0. 0.\n",
      " 0. 0. 0.]\n"
     ]
    }
   ],
   "source": [
    "cat_train_tags_y = to_categoricals(train_tags_y, len(tag2index))\n",
    "cat_eval_tags_y  = to_categoricals(eval_tags_y, len(tag2index))\n",
    "cat_test_tags_y  = to_categoricals(test_tags_y, len(tag2index))\n",
    "#ddjfkdjfkffffffffffffffffffffffffffffffffffffffffffffffffffffffffffffffff\n",
    "print(train_tags_y[0])\n",
    "print(cat_train_tags_y[0])\n",
    "print(cat_train_tags_y[0][0])\n"
   ]
  },
  {
   "cell_type": "code",
   "execution_count": 18,
   "metadata": {},
   "outputs": [
    {
     "name": "stdout",
     "output_type": "stream",
     "text": [
      "291\n",
      "291\n",
      "1206\n"
     ]
    }
   ],
   "source": [
    "print(len(cat_train_tags_y[0][0]))\n",
    "print(len(tag2index))\n",
    "print(len(cat_test_tags_y))"
   ]
  },
  {
   "cell_type": "markdown",
   "metadata": {},
   "source": [
    "# SBWE"
   ]
  },
  {
   "cell_type": "code",
   "execution_count": 21,
   "metadata": {},
   "outputs": [
    {
     "name": "stdout",
     "output_type": "stream",
     "text": [
      "mb-00.h5\t    Proyecto_de_postagging.pdf\t  word2index.npy\r\n",
      "mb-00.json\t    SBW-vectors-300-min5.txt.bz2  Word2Vec_tuto.ipynb\r\n",
      "Pos-tagging1.ipynb  tag2index.npy\r\n"
     ]
    }
   ],
   "source": [
    "!ls"
   ]
  },
  {
   "cell_type": "code",
   "execution_count": 24,
   "metadata": {},
   "outputs": [
    {
     "name": "stdout",
     "output_type": "stream",
     "text": [
      "Found 1000653 word vectors.\n",
      "<type 'dict'>\n",
      "24499\n"
     ]
    }
   ],
   "source": [
    "embeddings_index = {}\n",
    "f = open('SBW-vectors-300-min5.txt')\n",
    "for a, line in enumerate(f):\n",
    "    if a > 0:\n",
    "        values = line.split()\n",
    "        word = values[0]\n",
    "        coefs = np.asarray(values[1:], dtype='float32')\n",
    "        embeddings_index[word] = coefs\n",
    "f.close()\n",
    "\n",
    "print('Found %s word vectors.' % len(embeddings_index))\n",
    "print(type(embeddings_index))\n",
    "print(len(word2index))"
   ]
  },
  {
   "cell_type": "markdown",
   "metadata": {},
   "source": [
    "En esta parte se hace el emparejamiento de las 24500 palabras únicas de ancora con las  1000653 de palabras  vectorizadas de SBWE para generar la matriz de embedding con las 24500 palabras  de dimensión 300 como fue preentrenado el SBWE con word2vec. "
   ]
  },
  {
   "cell_type": "code",
   "execution_count": 25,
   "metadata": {},
   "outputs": [
    {
     "data": {
      "text/plain": [
       "(24500, 300)"
      ]
     },
     "execution_count": 25,
     "metadata": {},
     "output_type": "execute_result"
    }
   ],
   "source": [
    "embedding_matrix = np.zeros((len(word2index) + 1, 300))\n",
    "for t, (word, i) in enumerate(word2index.items()):\n",
    "    embedding_vector = embeddings_index.get(word)\n",
    "    if embedding_vector is not None:\n",
    "        # las palabras que no se encuentren en el índice de inserción serán todos ceros.\n",
    "        embedding_matrix[t] = embedding_vector\n",
    "\n",
    "embedding_matrix.shape"
   ]
  },
  {
   "cell_type": "markdown",
   "metadata": {},
   "source": [
    "# Part 2 - Entrenamiento"
   ]
  },
  {
   "cell_type": "code",
   "execution_count": 26,
   "metadata": {},
   "outputs": [],
   "source": [
    "## Funcion que permite forzar el uso de GPU cuando estan presentes\n",
    "\n",
    "import tensorflow as tf\n",
    "sess = tf.compat.v1.Session(config=tf.compat.v1.ConfigProto(log_device_placement=True))"
   ]
  },
  {
   "cell_type": "code",
   "execution_count": 28,
   "metadata": {},
   "outputs": [
    {
     "name": "stdout",
     "output_type": "stream",
     "text": [
      "Defaulting to user installation because normal site-packages is not writeable\n",
      "Requirement already satisfied: pydot in /home/carban/.local/lib/python3.6/site-packages (1.4.1)\n",
      "Requirement already satisfied: pyparsing>=2.1.4 in /home/carban/.local/lib/python3.6/site-packages (from pydot) (2.4.7)\n",
      "\u001b[33mWARNING: You are using pip version 20.0.2; however, version 20.1.1 is available.\n",
      "You should consider upgrading via the '/usr/bin/python3 -m pip install --upgrade pip' command.\u001b[0m\n"
     ]
    }
   ],
   "source": [
    "!pip3 install pydot"
   ]
  },
  {
   "cell_type": "code",
   "execution_count": 30,
   "metadata": {},
   "outputs": [
    {
     "name": "stdout",
     "output_type": "stream",
     "text": [
      "Model: \"sequential_3\"\n",
      "_________________________________________________________________\n",
      "Layer (type)                 Output Shape              Param #   \n",
      "=================================================================\n",
      "embedding_3 (Embedding)      (None, 149, 300)          7350000   \n",
      "_________________________________________________________________\n",
      "bidirectional_3 (Bidirection (None, 149, 600)          1442400   \n",
      "_________________________________________________________________\n",
      "time_distributed_3 (TimeDist (None, 149, 291)          174891    \n",
      "_________________________________________________________________\n",
      "dropout_3 (Dropout)          (None, 149, 291)          0         \n",
      "_________________________________________________________________\n",
      "activation_3 (Activation)    (None, 149, 291)          0         \n",
      "=================================================================\n",
      "Total params: 8,967,291\n",
      "Trainable params: 1,617,291\n",
      "Non-trainable params: 7,350,000\n",
      "_________________________________________________________________\n"
     ]
    }
   ],
   "source": [
    "from keras.models import Sequential\n",
    "from keras.layers import Dense, InputLayer, Embedding, Activation, Bidirectional, LSTM, TimeDistributed, Dropout\n",
    "from keras.layers.normalization import BatchNormalization\n",
    "from keras.optimizers import RMSprop, Adam\n",
    "from keras.utils import plot_model\n",
    "\n",
    "lr = 0.001\n",
    "lr_decay = 1e-4\n",
    "\n",
    "embedding_layer = Embedding(len(word2index)+1, 300, weights=[embedding_matrix],  input_length=MAX_LENGTH, trainable=False)\n",
    "#embedding_layer = Embedding(len(embeddings_index)+1, 300, weights=[embedding_matrix],  input_length=MAX_LENGTH, trainable=False)\n",
    "\n",
    "model = Sequential()\n",
    "model.add(InputLayer(input_shape=(MAX_LENGTH, )))\n",
    "model.add(embedding_layer)\n",
    "model.add(Bidirectional(LSTM(300, return_sequences=True)))\n",
    "model.add(TimeDistributed(Dense(len(tag2index))))\n",
    "model.add(Dropout(0.5))\n",
    "model.add(Activation('softmax'))\n",
    "\n",
    "optimizer = Adam(lr=lr, decay=lr_decay)\n",
    "\n",
    "#parallel_model = multi_gpu_model(model, gpus=2)\n",
    "#model.compile(loss='categorical_crossentropy', optimizer=Adam(0.001), metrics=['accuracy'])\n",
    "model.compile(loss='categorical_crossentropy', optimizer=optimizer, metrics=['accuracy'])\n",
    " \n",
    "model.summary()\n",
    "\n",
    "# plot_model(model, to_file='../Plot/model/model-mb09.png', show_shapes=True)"
   ]
  },
  {
   "cell_type": "code",
   "execution_count": 31,
   "metadata": {},
   "outputs": [
    {
     "name": "stdout",
     "output_type": "stream",
     "text": [
      "WARNING:tensorflow:From /usr/local/lib/python2.7/dist-packages/tensorflow/python/ops/math_grad.py:1250: where (from tensorflow.python.ops.array_ops) is deprecated and will be removed in a future version.\n",
      "Instructions for updating:\n",
      "Use tf.where in 2.0, which has the same broadcast rule as np.where\n",
      "Train on 3618 samples, validate on 1206 samples\n",
      "Epoch 1/40\n",
      "3618/3618 [==============================] - 85s 24ms/step - loss: 3.9278 - acc: 0.4073 - val_loss: 1.4996 - val_acc: 0.7938\n",
      "Epoch 2/40\n",
      "3618/3618 [==============================] - 80s 22ms/step - loss: 3.1077 - acc: 0.5255 - val_loss: 1.2853 - val_acc: 0.8140\n",
      "Epoch 3/40\n",
      "3618/3618 [==============================] - 81s 22ms/step - loss: 3.0178 - acc: 0.6184 - val_loss: 1.0939 - val_acc: 0.8255\n",
      "Epoch 4/40\n",
      "3618/3618 [==============================] - 81s 22ms/step - loss: 2.9769 - acc: 0.7572 - val_loss: 0.9631 - val_acc: 0.8303\n",
      "Epoch 5/40\n",
      "3618/3618 [==============================] - 81s 22ms/step - loss: 2.9500 - acc: 0.7761 - val_loss: 0.8879 - val_acc: 0.8390\n",
      "Epoch 6/40\n",
      "3618/3618 [==============================] - 80s 22ms/step - loss: 2.9212 - acc: 0.7891 - val_loss: 0.8446 - val_acc: 0.8446\n",
      "Epoch 7/40\n",
      "3618/3618 [==============================] - 80s 22ms/step - loss: 2.9044 - acc: 0.7965 - val_loss: 0.8264 - val_acc: 0.8488\n",
      "Epoch 8/40\n",
      "3618/3618 [==============================] - 77s 21ms/step - loss: 2.8893 - acc: 0.8006 - val_loss: 0.8147 - val_acc: 0.8506\n",
      "Epoch 9/40\n",
      "3618/3618 [==============================] - 77s 21ms/step - loss: 2.8839 - acc: 0.8043 - val_loss: 0.7910 - val_acc: 0.8534\n",
      "Epoch 10/40\n",
      "3618/3618 [==============================] - 77s 21ms/step - loss: 2.8690 - acc: 0.8071 - val_loss: 0.7698 - val_acc: 0.8565\n",
      "Epoch 11/40\n",
      "3618/3618 [==============================] - 77s 21ms/step - loss: 2.8675 - acc: 0.8091 - val_loss: 0.7671 - val_acc: 0.8593\n",
      "Epoch 12/40\n",
      "3618/3618 [==============================] - 81s 22ms/step - loss: 2.8631 - acc: 0.8046 - val_loss: 0.7628 - val_acc: 0.8593\n",
      "Epoch 13/40\n",
      "3618/3618 [==============================] - 78s 22ms/step - loss: 2.8559 - acc: 0.8088 - val_loss: 0.7356 - val_acc: 0.8618\n",
      "Epoch 14/40\n",
      "3618/3618 [==============================] - 77s 21ms/step - loss: 2.8483 - acc: 0.8115 - val_loss: 0.7308 - val_acc: 0.8646\n",
      "Epoch 15/40\n",
      "3618/3618 [==============================] - 77s 21ms/step - loss: 2.8439 - acc: 0.8138 - val_loss: 0.7186 - val_acc: 0.8661\n",
      "Epoch 16/40\n",
      "3618/3618 [==============================] - 77s 21ms/step - loss: 2.8394 - acc: 0.8145 - val_loss: 0.7058 - val_acc: 0.8673\n",
      "Epoch 17/40\n",
      "3618/3618 [==============================] - 78s 22ms/step - loss: 2.8337 - acc: 0.8152 - val_loss: 0.6936 - val_acc: 0.8686\n",
      "Epoch 18/40\n",
      "3618/3618 [==============================] - 77s 21ms/step - loss: 2.8259 - acc: 0.8163 - val_loss: 0.6888 - val_acc: 0.8701\n",
      "Epoch 19/40\n",
      "3618/3618 [==============================] - 77s 21ms/step - loss: 2.8294 - acc: 0.8157 - val_loss: 0.6844 - val_acc: 0.8705\n",
      "Epoch 20/40\n",
      "3618/3618 [==============================] - 78s 21ms/step - loss: 2.8306 - acc: 0.8167 - val_loss: 0.6741 - val_acc: 0.8725\n",
      "Epoch 21/40\n",
      "3618/3618 [==============================] - 78s 21ms/step - loss: 2.8517 - acc: 0.7808 - val_loss: 0.8664 - val_acc: 0.8623\n",
      "Epoch 22/40\n",
      "3618/3618 [==============================] - 77s 21ms/step - loss: 2.8480 - acc: 0.7978 - val_loss: 0.7068 - val_acc: 0.8704\n",
      "Epoch 23/40\n",
      "3618/3618 [==============================] - 77s 21ms/step - loss: 2.8244 - acc: 0.8179 - val_loss: 0.6822 - val_acc: 0.8726\n",
      "Epoch 24/40\n",
      "3618/3618 [==============================] - 77s 21ms/step - loss: 2.8257 - acc: 0.8197 - val_loss: 0.6670 - val_acc: 0.8735\n",
      "Epoch 25/40\n",
      "3618/3618 [==============================] - 77s 21ms/step - loss: 2.8139 - acc: 0.8213 - val_loss: 0.6607 - val_acc: 0.8743\n",
      "Epoch 26/40\n",
      "3618/3618 [==============================] - 78s 21ms/step - loss: 2.8139 - acc: 0.8220 - val_loss: 0.6574 - val_acc: 0.8756\n",
      "Epoch 27/40\n",
      "3618/3618 [==============================] - 82s 23ms/step - loss: 2.8053 - acc: 0.8232 - val_loss: 0.6577 - val_acc: 0.8768\n",
      "Epoch 28/40\n",
      "3618/3618 [==============================] - 81s 22ms/step - loss: 2.8049 - acc: 0.8222 - val_loss: 0.6436 - val_acc: 0.8774\n",
      "Epoch 29/40\n",
      "3618/3618 [==============================] - 86s 24ms/step - loss: 2.7998 - acc: 0.8241 - val_loss: 0.6317 - val_acc: 0.8773\n",
      "Epoch 30/40\n",
      "3618/3618 [==============================] - 80s 22ms/step - loss: 2.7984 - acc: 0.8242 - val_loss: 0.6496 - val_acc: 0.8784\n",
      "Epoch 31/40\n",
      "3618/3618 [==============================] - 77s 21ms/step - loss: 2.7976 - acc: 0.8239 - val_loss: 0.6367 - val_acc: 0.8794\n",
      "Epoch 32/40\n",
      "3618/3618 [==============================] - 77s 21ms/step - loss: 2.7954 - acc: 0.8243 - val_loss: 0.6363 - val_acc: 0.8801\n",
      "Epoch 33/40\n",
      "3618/3618 [==============================] - 78s 21ms/step - loss: 2.7940 - acc: 0.8258 - val_loss: 0.6293 - val_acc: 0.8798\n",
      "Epoch 34/40\n",
      "3618/3618 [==============================] - 79s 22ms/step - loss: 2.7960 - acc: 0.8249 - val_loss: 0.6228 - val_acc: 0.8807\n",
      "Epoch 35/40\n",
      "3618/3618 [==============================] - 78s 22ms/step - loss: 2.7965 - acc: 0.8260 - val_loss: 0.6250 - val_acc: 0.8812\n",
      "Epoch 36/40\n",
      "3618/3618 [==============================] - 77s 21ms/step - loss: 2.7864 - acc: 0.8246 - val_loss: 0.6159 - val_acc: 0.8813\n",
      "Epoch 37/40\n",
      "3618/3618 [==============================] - 77s 21ms/step - loss: 2.7886 - acc: 0.8252 - val_loss: 0.6110 - val_acc: 0.8819\n",
      "Epoch 38/40\n",
      "3618/3618 [==============================] - 77s 21ms/step - loss: 2.7855 - acc: 0.8245 - val_loss: 0.6069 - val_acc: 0.8828\n",
      "Epoch 39/40\n",
      "3618/3618 [==============================] - 77s 21ms/step - loss: 2.7867 - acc: 0.8244 - val_loss: 0.6118 - val_acc: 0.8834\n",
      "Epoch 40/40\n",
      "3618/3618 [==============================] - 78s 21ms/step - loss: 2.7785 - acc: 0.8255 - val_loss: 0.6058 - val_acc: 0.8834\n",
      "Saved model to disk\n"
     ]
    }
   ],
   "source": [
    "#sudo pip install h5py\n",
    "import os\n",
    "model_hist = model.fit(train_sentences_X, cat_train_tags_y,\n",
    "                       validation_data=(eval_sentences_X, cat_eval_tags_y),\n",
    "                       batch_size=128, \n",
    "                       epochs=40,\n",
    "                       validation_split=0.1, verbose=1)\n",
    "\n",
    "# serialize model to JSON\n",
    "model_json = model.to_json()\n",
    "with open(\"mb-09.json\", \"w\") as json_file:\n",
    "    json_file.write(model_json)\n",
    "\n",
    "# serialize weights to HDF5\n",
    "model.save_weights(\"mb-09.h5\")\n",
    "print(\"Saved model to disk\")"
   ]
  },
  {
   "cell_type": "markdown",
   "metadata": {},
   "source": [
    "# Parte 3"
   ]
  },
  {
   "cell_type": "code",
   "execution_count": 33,
   "metadata": {},
   "outputs": [
    {
     "name": "stdout",
     "output_type": "stream",
     "text": [
      "1206/1206 [==============================] - 9s 8ms/step\n",
      "88.84103018450698\n"
     ]
    }
   ],
   "source": [
    "scores = model.evaluate(test_sentences_X, cat_test_tags_y)\n",
    "print(scores[1] * 100)   # acc: 97.66269326210022"
   ]
  },
  {
   "cell_type": "code",
   "execution_count": 34,
   "metadata": {},
   "outputs": [],
   "source": [
    "import matplotlib.pyplot as plt\n",
    "\n",
    "def plot_model_performance(train_loss, train_acc, train_val_loss, train_val_acc):\n",
    "    \"\"\" Plot model loss and accuracy through epochs. \"\"\"\n",
    "    blue= '#34495E'\n",
    "    green = '#2ECC71'\n",
    "    orange = '#E23B13'\n",
    "    \n",
    "    # plot model loss\n",
    "    fig, (ax1, ax2) = plt.subplots(2, figsize=(10, 8))\n",
    "    ax1.plot(range(1, len(train_loss) + 1), train_loss, blue, linewidth=5, label='training')\n",
    "    ax1.plot(range(1, len(train_val_loss) + 1), train_val_loss, green, linewidth=5, label='validation')\n",
    "    ax1.set_xlabel('# epoch')\n",
    "    ax1.set_ylabel('loss')\n",
    "    ax1.tick_params('y')\n",
    "    ax1.legend(loc='upper right', shadow=False)\n",
    "    ax1.set_title('Model loss through #epochs', color=orange, fontweight='bold')\n",
    "    \n",
    "    # plot model accuracy\n",
    "    ax2.plot(range(1, len(train_acc) + 1), train_acc, blue, linewidth=5, label='training')\n",
    "    ax2.plot(range(1, len(train_val_acc) + 1), train_val_acc, green, linewidth=5, label='validation')\n",
    "    ax2.set_xlabel('# epoch')\n",
    "    ax2.set_ylabel('accuracy')\n",
    "    ax2.tick_params('y')\n",
    "    ax2.legend(loc='lower right', shadow=False)\n",
    "    ax2.set_title('Model accuracy through #epochs', color=orange, fontweight='bold')\n",
    "    \n",
    "#     fig.savefig('Plot/training/training-mb-00.png', bbox_inches='tight')"
   ]
  },
  {
   "cell_type": "code",
   "execution_count": 35,
   "metadata": {},
   "outputs": [
    {
     "data": {
      "image/png": "[encoded data removed]",
      "text/plain": [
       "<Figure size 720x576 with 2 Axes>"
      ]
     },
     "metadata": {
      "needs_background": "light"
     },
     "output_type": "display_data"
    }
   ],
   "source": [
    "plot_model_performance(\n",
    "    train_loss=model_hist.history.get('loss', []),\n",
    "    train_acc=model_hist.history.get('acc', []),\n",
    "    train_val_loss=model_hist.history.get('val_loss', []),\n",
    "    train_val_acc=model_hist.history.get('val_acc', [])\n",
    ")"
   ]
  },
  {
   "cell_type": "markdown",
   "metadata": {},
   "source": [
    "## Función que Permite convertir Indices en Tags"
   ]
  },
  {
   "cell_type": "code",
   "execution_count": 36,
   "metadata": {},
   "outputs": [],
   "source": [
    "#ESTA FUNCION RECIBE EN sequences LA LISTA DE ORACIONES DONDE CADA ELEMENTO DE LA ORACION ES UN ONE HOT VECTOR\n",
    "def logits_to_tokens(sequences, index):\n",
    "    token_sequences = []\n",
    "    for categorical_sequence in sequences:\n",
    "        token_sequence = []\n",
    "        for categorical in categorical_sequence:\n",
    "            token_sequence.append(index[np.argmax(categorical)])\n",
    " \n",
    "        token_sequences.append(token_sequence)\n",
    " \n",
    "    return token_sequences"
   ]
  },
  {
   "cell_type": "markdown",
   "metadata": {},
   "source": [
    "## Hacemos la prediccion sobre el conjunto de pruebas. De la distribución probabilítica a etiquetas."
   ]
  },
  {
   "cell_type": "code",
   "execution_count": 37,
   "metadata": {},
   "outputs": [
    {
     "name": "stdout",
     "output_type": "stream",
     "text": [
      "[u'ncms000', u'Fc', u'sps00', u'da0mp0', u'ncmp000', u'Fc', u'sps00', u'di0fs0', u'ncms000', u'sps00', u'sps00', u'da0mp0', u'ncmp000', u'Fc', u'ncfp000', u'vmn0000', u'sps00', u'ncms000', u'cc', u'Fc', u'vmis3s0', u'sps00', u'da0mp0', u'nccp000', u'ncmp000', u'Fc', u'da0ms0', u'aq0cs0', u'sps00', u'sps00', u'aq0ms0', u'ncmp000', u'Fp', '-PAD-', '-PAD-', '-PAD-', '-PAD-', '-PAD-', '-PAD-', '-PAD-', '-PAD-', '-PAD-', '-PAD-', '-PAD-', '-PAD-', '-PAD-', '-PAD-', '-PAD-', '-PAD-', '-PAD-', '-PAD-', '-PAD-', '-PAD-', '-PAD-', '-PAD-', '-PAD-', '-PAD-', '-PAD-', '-PAD-', '-PAD-', '-PAD-', '-PAD-', '-PAD-', '-PAD-', '-PAD-', '-PAD-', '-PAD-', '-PAD-', '-PAD-', '-PAD-', '-PAD-', '-PAD-', '-PAD-', '-PAD-', '-PAD-', '-PAD-', '-PAD-', '-PAD-', '-PAD-', '-PAD-', '-PAD-', '-PAD-', '-PAD-', '-PAD-', '-PAD-', '-PAD-', '-PAD-', '-PAD-', '-PAD-', '-PAD-', '-PAD-', '-PAD-', '-PAD-', '-PAD-', '-PAD-', '-PAD-', '-PAD-', '-PAD-', '-PAD-', '-PAD-', '-PAD-', '-PAD-', '-PAD-', '-PAD-', '-PAD-', '-PAD-', '-PAD-', '-PAD-', '-PAD-', '-PAD-', '-PAD-', '-PAD-', '-PAD-', '-PAD-', '-PAD-', '-PAD-', '-PAD-', '-PAD-', '-PAD-', '-PAD-', '-PAD-', '-PAD-', '-PAD-', '-PAD-', '-PAD-', '-PAD-', '-PAD-', '-PAD-', '-PAD-', '-PAD-', '-PAD-', '-PAD-', '-PAD-', '-PAD-', '-PAD-', '-PAD-', '-PAD-', '-PAD-', '-PAD-', '-PAD-', '-PAD-', '-PAD-', '-PAD-', '-PAD-', '-PAD-', '-PAD-', '-PAD-', '-PAD-', '-PAD-']\n"
     ]
    }
   ],
   "source": [
    "import pandas as pd\n",
    "\n",
    "prediction = model.predict(test_sentences_X)\n",
    "log_tokens = logits_to_tokens(prediction, {i: t for t, i in tag2index.items()})\n",
    "\n",
    "print(log_tokens[0])"
   ]
  },
  {
   "cell_type": "code",
   "execution_count": 28,
   "metadata": {},
   "outputs": [
    {
     "name": "stdout",
     "output_type": "stream",
     "text": [
      "       Expected Predicted\n",
      "1       ncfp000   ncfp000\n",
      "2        aq0fp0    aq0fp0\n",
      "3        aq0cp0   nccp000\n",
      "4       vmis3p0   vmis3p0\n",
      "5            cs  pr0cn000\n",
      "6       np0000p   np0000p\n",
      "7      p0300000  p0300000\n",
      "8       vmif3s0   np0000p\n",
      "9         sps00     sps00\n",
      "10      np0000p   np0000p\n",
      "11        sps00     sps00\n",
      "12       da0fs0    da0fs0\n",
      "13      ncfs000   ncfs000\n",
      "14     pr0cn000  pr0cn000\n",
      "15      vmip3s0   vmip3s0\n",
      "16        sps00     sps00\n",
      "17       da0fp0    da0fp0\n",
      "18      ncfp000   ncfp000\n",
      "19       da0ms0    da0ms0\n",
      "20      nccs000   nccs000\n",
      "21       aq0ms0   np0000o\n",
      "22           Fc        Fc\n",
      "23      np0000p   np0000p\n",
      "24           Fc        Fc\n",
      "25        sps00     sps00\n",
      "26     pr0cs000  pr0cs000\n",
      "27      np0000o   np0000l\n",
      "28      vmip3s0   ncfs000\n",
      "29        spcms     spcms\n",
      "30      ncms000   ncms000\n",
      "...         ...       ...\n",
      "38614    aq0cp0   ncms000\n",
      "38615     sps00     sps00\n",
      "38616   ncmp000   ncmp000\n",
      "38617        cc        cc\n",
      "38618   ncfp000   ncfp000\n",
      "38619   vsip3s0   vsip3s0\n",
      "38620        rg        rg\n",
      "38621    aq0cs0    aq0cs0\n",
      "38622     sps00     sps00\n",
      "38623    da0fs0    da0fs0\n",
      "38624     sps00     sps00\n",
      "38625    di0fp0    di0fp0\n",
      "38626   ncfp000   ncfp000\n",
      "38627        Fc        Fc\n",
      "38628   vsip3s0   vsip3s0\n",
      "38629    da0fs0    da0fs0\n",
      "38630   ncfs000   ncfs000\n",
      "38631     sps00     sps00\n",
      "38632   ncfp000   ncfp000\n",
      "38633     sps00     sps00\n",
      "38634   ncms000   ncms000\n",
      "38635    aq0ms0    aq0ms0\n",
      "38636        cc        cc\n",
      "38637    aq0ms0    aq0ms0\n",
      "38638     sps00     sps00\n",
      "38639    da0fs0    da0fs0\n",
      "38640   ncfs000   ncfs000\n",
      "38641     sps00     sps00\n",
      "38642   vmn0000   vmn0000\n",
      "38643        Fp        Fp\n",
      "\n",
      "[38643 rows x 2 columns]\n"
     ]
    },
    {
     "name": "stderr",
     "output_type": "stream",
     "text": [
      "/usr/local/lib/python2.7/dist-packages/sklearn/metrics/classification.py:1143: UndefinedMetricWarning: Precision and F-score are ill-defined and being set to 0.0 in labels with no predicted samples.\n",
      "  'precision', 'predicted', average, warn_for)\n",
      "/usr/local/lib/python2.7/dist-packages/sklearn/metrics/classification.py:1145: UndefinedMetricWarning: Recall and F-score are ill-defined and being set to 0.0 in labels with no true samples.\n",
      "  'recall', 'true', average, warn_for)\n"
     ]
    },
    {
     "name": "stdout",
     "output_type": "stream",
     "text": [
      "('\\nclassification_report:\\n', u'              precision    recall  f1-score   support\\n\\n       -PAD-       0.00      0.00      0.00         0\\n         Faa       0.00      0.00      0.00         9\\n         Fat       0.00      0.00      0.00        13\\n          Fc       1.00      1.00      1.00      2254\\n          Fd       1.00      1.00      1.00        81\\n          Fe       1.00      1.00      1.00       552\\n          Fg       1.00      1.00      1.00       257\\n         Fia       1.00      1.00      1.00         7\\n         Fit       1.00      1.00      1.00        22\\n          Fp       1.00      1.00      1.00      1174\\n         Fpa       1.00      1.00      1.00       179\\n         Fpt       1.00      1.00      1.00       180\\n          Fs       1.00      0.80      0.89         5\\n          Fx       1.00      1.00      1.00        43\\n          Fz       0.00      0.00      0.00         4\\n           W       0.96      0.69      0.80       173\\n           X       0.00      0.00      0.00         1\\n           Z       0.94      0.62      0.75       282\\n          Zm       0.92      0.92      0.92        39\\n          Zp       1.00      0.40      0.57        40\\n      ao0fp0       1.00      0.91      0.95        11\\n      ao0fs0       0.98      0.98      0.98        56\\n      ao0mp0       1.00      1.00      1.00        21\\n      ao0ms0       0.92      0.93      0.92        59\\n     aq00000       0.00      0.00      0.00         2\\n      aq0cn0       0.00      0.00      0.00         9\\n      aq0cp0       0.93      0.70      0.80       224\\n      aq0cs0       0.92      0.83      0.87       603\\n      aq0fp0       0.91      0.58      0.71       160\\n      aq0fpp       0.95      0.26      0.41        72\\n      aq0fs0       0.93      0.62      0.75       372\\n      aq0fsp       0.77      0.39      0.52       136\\n      aq0mp0       0.79      0.53      0.63       190\\n      aq0mpp       0.84      0.40      0.54       103\\n      aq0ms0       0.83      0.68      0.75       495\\n      aq0msp       0.64      0.44      0.52       204\\n          cc       0.98      0.99      0.99      1163\\n          cs       0.95      0.43      0.59       921\\n      da0fp0       0.98      1.00      0.99       378\\n      da0fs0       0.99      1.00      0.99      1335\\n      da0mp0       0.98      1.00      0.99       604\\n      da0ms0       1.00      1.00      1.00      1214\\n      da0ns0       0.68      1.00      0.81       104\\n      dd0cp0       0.00      0.00      0.00         1\\n      dd0cs0       0.00      0.00      0.00         4\\n      dd0fp0       1.00      0.94      0.97        16\\n      dd0fs0       0.99      1.00      0.99        79\\n      dd0mp0       0.91      1.00      0.95        30\\n      dd0ms0       0.94      1.00      0.97        89\\n      de0cn0       0.00      0.00      0.00         1\\n      di0cp0       0.00      0.00      0.00         2\\n      di0cs0       1.00      0.90      0.95        30\\n      di0fp0       0.91      1.00      0.95        68\\n      di0fs0       0.93      0.99      0.96       366\\n      di0mp0       0.75      1.00      0.86        91\\n      di0ms0       0.93      0.97      0.95       480\\n      dn0cp0       0.87      0.99      0.93       157\\n      dn0cs0       0.00      0.00      0.00         1\\n      dn0fp0       0.00      0.00      0.00         2\\n      dn0fs0       0.00      0.00      0.00         4\\n      dn0mp0       0.00      0.00      0.00         3\\n      dn0ms0       0.00      0.00      0.00         9\\n      dp1cps       0.00      0.00      0.00         2\\n      dp1css       1.00      1.00      1.00        15\\n      dp1fpp       0.00      0.00      0.00         4\\n      dp1fsp       0.00      0.00      0.00         9\\n      dp1mpp       0.00      0.00      0.00         5\\n      dp1msp       0.00      0.00      0.00        11\\n      dp2cps       0.00      0.00      0.00         2\\n      dp2css       0.00      0.00      0.00         1\\n      dp3cp0       1.00      1.00      1.00       111\\n      dp3cs0       1.00      1.00      1.00       271\\n      dp3ms0       0.00      0.00      0.00         1\\n      dt0cn0       0.00      0.00      0.00         5\\n           i       0.00      0.00      0.00        10\\n     nc00000       1.00      0.11      0.20        18\\n     nccn000       0.00      0.00      0.00         4\\n     nccp000       0.87      0.77      0.82       102\\n     nccs000       0.87      0.77      0.82       147\\n     ncfn000       1.00      0.45      0.62        11\\n     ncfp000       0.84      0.78      0.81       798\\n     ncfs000       0.74      0.88      0.80      2202\\n     ncmn000       1.00      0.22      0.36        18\\n     ncmp000       0.64      0.83      0.72      1166\\n     ncms000       0.69      0.84      0.76      2311\\n     np00000       0.80      0.09      0.15        47\\n     np0000a       0.82      0.33      0.47       168\\n     np0000l       0.73      0.66      0.69       419\\n     np0000o       0.64      0.57      0.60       634\\n     np0000p       0.29      0.64      0.40       649\\n    p0000000       0.00      0.00      0.00       160\\n    p010p000       0.00      0.00      0.00         3\\n    p010s000       0.00      0.00      0.00         3\\n    p0300000       0.58      1.00      0.73       231\\n    pd0cs000       0.00      0.00      0.00         2\\n    pd0fp000       0.00      0.00      0.00         4\\n    pd0fs000       0.00      0.00      0.00         6\\n    pd0mp000       0.00      0.00      0.00         5\\n    pd0ms000       1.00      0.57      0.73         7\\n    pd0ns000       1.00      1.00      1.00        35\\n    pe000000       0.00      0.00      0.00         1\\n    pi0cp000       0.00      0.00      0.00         3\\n    pi0cs000       0.83      0.92      0.87        49\\n    pi0fp000       0.00      0.00      0.00         6\\n    pi0fs000       0.00      0.00      0.00        21\\n    pi0mp000       0.00      0.00      0.00        28\\n    pi0ms000       1.00      0.57      0.73        68\\n    pn0cp000       0.83      0.20      0.32        25\\n    pn0fp000       0.00      0.00      0.00         1\\n    pn0fs000       0.00      0.00      0.00         1\\n    pn0mp000       0.00      0.00      0.00         3\\n    pn0ms000       0.00      0.00      0.00         1\\n    pp1cp000       0.91      1.00      0.96        32\\n    pp1cs000       0.90      1.00      0.95        28\\n    pp1csn00       1.00      1.00      1.00        14\\n    pp1cso00       0.00      0.00      0.00         5\\n    pp1mp000       1.00      1.00      1.00         7\\n    pp2cp00p       0.00      0.00      0.00         1\\n    pp2cs000       0.00      0.00      0.00         1\\n    pp2cs00p       0.00      0.00      0.00         1\\n    pp2csn00       0.00      0.00      0.00         3\\n    pp2cso00       0.00      0.00      0.00         1\\n    pp3cn000       0.00      0.00      0.00         8\\n    pp3cna00       0.00      0.00      0.00         4\\n    pp3cno00       0.00      0.00      0.00         4\\n    pp3cpd00       1.00      1.00      1.00        10\\n    pp3csa00       0.00      0.00      0.00         9\\n    pp3csd00       0.86      1.00      0.93        57\\n    pp3fp000       1.00      1.00      1.00         8\\n    pp3fpa00       0.00      0.00      0.00         7\\n    pp3fs000       1.00      1.00      1.00        12\\n    pp3fsa00       0.00      0.00      0.00        17\\n    pp3mp000       1.00      1.00      1.00        10\\n    pp3mpa00       0.00      0.00      0.00        11\\n    pp3ms000       1.00      1.00      1.00        28\\n    pp3msa00       0.00      0.00      0.00        46\\n    pp3ns000       1.00      1.00      1.00        14\\n    pr000000       0.95      0.80      0.87        25\\n    pr0cn000       0.56      1.00      0.71       623\\n    pr0cp000       1.00      0.57      0.73         7\\n    pr0cs000       0.92      1.00      0.96        34\\n    pr0fp000       0.00      0.00      0.00         1\\n    pr0fs000       1.00      1.00      1.00         3\\n    pr0ms000       0.00      0.00      0.00         4\\n    pt000000       1.00      0.56      0.71         9\\n    pt0cs000       0.70      0.84      0.76        19\\n    pt0mp000       0.00      0.00      0.00         2\\n    px1fs0p0       0.00      0.00      0.00         3\\n    px3mp000       0.00      0.00      0.00         1\\n          rg       0.96      0.86      0.91      1209\\n          rn       0.97      1.00      0.98       273\\n      sn-SUJ       0.00      0.00      0.00         1\\n        sn.e       0.00      0.00      0.00         4\\n    sn.e-SUJ       0.99      1.00      0.99       795\\n sn.e.1n-SUJ       0.00      0.00      0.00         4\\n       spcms       1.00      0.99      0.99       661\\n       sps00       0.99      0.99      0.99      5150\\n     vaic3s0       0.00      0.00      0.00         5\\n     vaif1p0       0.00      0.00      0.00         2\\n     vaif3s0       0.00      0.00      0.00         5\\n     vaii1p0       0.00      0.00      0.00         1\\n     vaii2s0       0.00      0.00      0.00         1\\n     vaii3p0       1.00      1.00      1.00         8\\n     vaii3s0       1.00      1.00      1.00        29\\n     vaip1p0       0.00      0.00      0.00         8\\n     vaip1s0       0.00      0.00      0.00         6\\n     vaip3p0       1.00      1.00      1.00        65\\n     vaip3s0       1.00      1.00      1.00       185\\n     vais3s0       0.00      0.00      0.00         3\\n     vam02s0       0.00      0.00      0.00         2\\n     van0000       0.96      0.92      0.94        25\\n     vap00sm       0.00      0.00      0.00         4\\n     vasi3p0       0.00      0.00      0.00         1\\n     vasi3s0       0.00      0.00      0.00         8\\n     vasp3p0       0.00      0.00      0.00         3\\n     vasp3s0       1.00      1.00      1.00         9\\n     vmg0000       1.00      0.39      0.56       103\\n     vmic1p0       0.00      0.00      0.00         4\\n     vmic1s0       0.00      0.00      0.00         1\\n     vmic3p0       0.00      0.00      0.00        17\\n     vmic3s0       1.00      0.40      0.57        35\\n     vmif1p0       0.00      0.00      0.00         4\\n     vmif1s0       0.00      0.00      0.00         4\\n     vmif3p0       1.00      0.15      0.26        40\\n     vmif3s0       0.98      0.53      0.69       101\\n     vmii1p0       0.00      0.00      0.00         6\\n     vmii1s0       0.00      0.00      0.00         4\\n     vmii3p0       1.00      0.45      0.62        47\\n     vmii3s0       0.94      0.64      0.76       158\\n     vmip1p0       1.00      0.78      0.87        40\\n     vmip1s0       1.00      0.69      0.81        51\\n     vmip2s0       0.00      0.00      0.00         1\\n     vmip3p0       0.98      0.74      0.84       241\\n     vmip3s0       0.96      0.84      0.90       654\\n     vmis1p0       0.00      0.00      0.00         2\\n     vmis1s0       0.00      0.00      0.00        13\\n     vmis2s0       0.00      0.00      0.00         7\\n     vmis3p0       0.93      0.54      0.68       123\\n     vmis3s0       0.99      0.83      0.90       649\\n     vmm01p0       0.00      0.00      0.00         1\\n     vmm02s0       0.00      0.00      0.00         6\\n     vmm03p0       0.00      0.00      0.00         1\\n     vmm03s0       0.00      0.00      0.00         5\\n     vmn0000       0.57      0.76      0.65       829\\n     vmp00pf       0.00      0.00      0.00         3\\n     vmp00pm       0.00      0.00      0.00        17\\n     vmp00sf       0.00      0.00      0.00        23\\n     vmp00sm       0.72      0.58      0.64       299\\n     vmsi1p0       0.00      0.00      0.00         1\\n     vmsi1s0       0.00      0.00      0.00         6\\n     vmsi3p0       0.00      0.00      0.00        13\\n     vmsi3s0       0.00      0.00      0.00        33\\n     vmsp1p0       0.00      0.00      0.00         9\\n     vmsp1s0       0.00      0.00      0.00         7\\n     vmsp2s0       0.00      0.00      0.00         1\\n     vmsp3p0       1.00      0.40      0.57        35\\n     vmsp3s0       0.85      0.55      0.67        51\\n     vsg0000       0.00      0.00      0.00         5\\n     vsic1s0       0.00      0.00      0.00         1\\n     vsic3s0       0.90      1.00      0.95         9\\n     vsif3p0       0.00      0.00      0.00         3\\n     vsif3s0       1.00      1.00      1.00        24\\n     vsii3p0       0.00      0.00      0.00         9\\n     vsii3s0       0.96      1.00      0.98        25\\n     vsip1p0       0.00      0.00      0.00         2\\n     vsip1s0       0.00      0.00      0.00         4\\n     vsip3p0       0.96      1.00      0.98        44\\n     vsip3s0       1.00      1.00      1.00       210\\n     vsis3p0       0.92      1.00      0.96        11\\n     vsis3s0       0.96      1.00      0.98        45\\n     vsn0000       0.91      1.00      0.95        42\\n     vsp00sm       1.00      1.00      1.00        22\\n     vssi3p0       0.00      0.00      0.00         1\\n     vssi3s0       0.00      0.00      0.00         3\\n     vssp1s0       0.00      0.00      0.00         2\\n     vssp3p0       0.00      0.00      0.00         4\\n     vssp3s0       0.80      1.00      0.89         8\\n\\n   micro avg       0.85      0.85      0.85     38643\\n   macro avg       0.48      0.43      0.44     38643\\nweighted avg       0.87      0.85      0.85     38643\\n')\n"
     ]
    }
   ],
   "source": [
    "from sklearn.metrics import classification_report, confusion_matrix\n",
    "\n",
    "results = pd.DataFrame(columns=['Expected', 'Predicted'])\n",
    "k = 0\n",
    "for i, lista_etiquetas_oracion in enumerate(test_tags):\n",
    "    for j, etiquetas in enumerate(lista_etiquetas_oracion):\n",
    "        k = k + 1\n",
    "        results.loc[k, 'Expected'] = etiquetas\n",
    "        results.loc[k, 'Predicted'] = log_tokens[i][j]\n",
    "\n",
    "print(results)\n",
    "\n",
    "\n",
    "print('\\nclassification_report:\\n', classification_report(results['Expected'], results['Predicted']))"
   ]
  },
  {
   "cell_type": "markdown",
   "metadata": {},
   "source": [
    "## PARTE 4 - Testing"
   ]
  },
  {
   "cell_type": "markdown",
   "metadata": {},
   "source": [
    "### Creamos un pequeño Ejemplo"
   ]
  },
  {
   "cell_type": "code",
   "execution_count": 38,
   "metadata": {},
   "outputs": [
    {
     "name": "stdout",
     "output_type": "stream",
     "text": [
      "[['Correr', 'es', 'importante', 'para', 'mi', '.'], ['El', 'hombre', 'bajo', 'corre', 'bajo', 'el', 'puente', 'con', 'bajo', '\\xc3\\xadndice', 'de', 'adrenalina', '.']]\n"
     ]
    }
   ],
   "source": [
    "test_samples = [\n",
    "    \"Correr es importante para mi .\".split(),\n",
    "    \"El hombre bajo corre bajo el puente con bajo índice de adrenalina .\".split()\n",
    "]\n",
    "print(test_samples)"
   ]
  },
  {
   "cell_type": "markdown",
   "metadata": {},
   "source": [
    "### Convertimos el texto en Una entrada para el Modelo y se generan los dos vecores de enteros de las dos oraciones"
   ]
  },
  {
   "cell_type": "code",
   "execution_count": 39,
   "metadata": {},
   "outputs": [
    {
     "name": "stdout",
     "output_type": "stream",
     "text": [
      "[[20697  8176  1235 16265 10785   240     0     0     0     0     0     0\n",
      "      0     0     0     0     0     0     0     0     0     0     0     0\n",
      "      0     0     0     0     0     0     0     0     0     0     0     0\n",
      "      0     0     0     0     0     0     0     0     0     0     0     0\n",
      "      0     0     0     0     0     0     0     0     0     0     0     0\n",
      "      0     0     0     0     0     0     0     0     0     0     0     0\n",
      "      0     0     0     0     0     0     0     0     0     0     0     0\n",
      "      0     0     0     0     0     0     0     0     0     0     0     0\n",
      "      0     0     0     0     0     0     0     0     0     0     0     0\n",
      "      0     0     0     0     0     0     0     0     0     0     0     0\n",
      "      0     0     0     0     0     0     0     0     0     0     0     0\n",
      "      0     0     0     0     0     0     0     0     0     0     0     0\n",
      "      0     0     0     0     0]\n",
      " [ 9233 15787 12421  6748 12421  9233 10461  7895 12421     1  7856     1\n",
      "    240     0     0     0     0     0     0     0     0     0     0     0\n",
      "      0     0     0     0     0     0     0     0     0     0     0     0\n",
      "      0     0     0     0     0     0     0     0     0     0     0     0\n",
      "      0     0     0     0     0     0     0     0     0     0     0     0\n",
      "      0     0     0     0     0     0     0     0     0     0     0     0\n",
      "      0     0     0     0     0     0     0     0     0     0     0     0\n",
      "      0     0     0     0     0     0     0     0     0     0     0     0\n",
      "      0     0     0     0     0     0     0     0     0     0     0     0\n",
      "      0     0     0     0     0     0     0     0     0     0     0     0\n",
      "      0     0     0     0     0     0     0     0     0     0     0     0\n",
      "      0     0     0     0     0     0     0     0     0     0     0     0\n",
      "      0     0     0     0     0]]\n",
      "(2, 149)\n"
     ]
    }
   ],
   "source": [
    "test_samples_X = []\n",
    "for s in test_samples:\n",
    "    s_int = []\n",
    "    for w in s:\n",
    "        try:\n",
    "            s_int.append(word2index[w.lower()])\n",
    "        except KeyError:\n",
    "            s_int.append(word2index['-OOV-'])\n",
    "    test_samples_X.append(s_int)\n",
    "\n",
    "test_samples_X = pad_sequences(test_samples_X, maxlen=MAX_LENGTH, padding='post')\n",
    "print(test_samples_X)\n",
    "print(test_samples_X.shape)"
   ]
  },
  {
   "cell_type": "markdown",
   "metadata": {},
   "source": [
    "### Se Ejecuta la predicion con la Entrada del modelo entrenado y el modelo de la red neuronal predice un matriz de 149 X 291 por cada oración. El shape de a predicción es (2, 149,291)"
   ]
  },
  {
   "cell_type": "code",
   "execution_count": 40,
   "metadata": {},
   "outputs": [
    {
     "name": "stdout",
     "output_type": "stream",
     "text": [
      "(array([[[2.49836339e-05, 3.69732792e-04, 2.50276597e-03, ...,\n",
      "         7.99096283e-03, 1.79780344e-03, 9.11063631e-04],\n",
      "        [8.35073733e-05, 5.23608702e-04, 2.38839202e-04, ...,\n",
      "         1.18928626e-02, 1.21601159e-04, 5.62280475e-04],\n",
      "        [8.49374919e-05, 4.45844751e-04, 1.28008798e-03, ...,\n",
      "         5.04577309e-02, 1.45684252e-03, 3.69022018e-04],\n",
      "        ...,\n",
      "        [9.99666572e-01, 2.60210385e-07, 2.98750649e-07, ...,\n",
      "         3.51039239e-06, 3.37410242e-08, 7.22108723e-07],\n",
      "        [9.99641418e-01, 2.76450635e-07, 3.15397557e-07, ...,\n",
      "         3.74930733e-06, 3.52275258e-08, 7.84080612e-07],\n",
      "        [9.99611318e-01, 2.96480039e-07, 3.39892722e-07, ...,\n",
      "         4.04117691e-06, 3.74753526e-08, 8.59654278e-07]],\n",
      "\n",
      "       [[1.01722166e-04, 5.47187403e-04, 1.80552815e-04, ...,\n",
      "         7.98814744e-03, 1.13487607e-04, 7.89129059e-04],\n",
      "        [4.43608587e-05, 4.37461829e-04, 1.87769753e-03, ...,\n",
      "         4.84026074e-02, 1.84638635e-03, 1.25771179e-03],\n",
      "        [1.48543288e-04, 4.67891427e-04, 1.59992604e-04, ...,\n",
      "         9.40299965e-03, 8.20981950e-05, 5.55772625e-04],\n",
      "        ...,\n",
      "        [9.99666572e-01, 2.60222066e-07, 2.98762615e-07, ...,\n",
      "         3.51053313e-06, 3.37432127e-08, 7.22139077e-07],\n",
      "        [9.99641418e-01, 2.76462515e-07, 3.15409892e-07, ...,\n",
      "         3.74945398e-06, 3.52296787e-08, 7.84111990e-07],\n",
      "        [9.99611199e-01, 2.96492431e-07, 3.39905625e-07, ...,\n",
      "         4.04133061e-06, 3.74776370e-08, 8.59688612e-07]]], dtype=float32), (2, 149, 291))\n"
     ]
    }
   ],
   "source": [
    "predictions = model.predict(test_samples_X)\n",
    "print(predictions, predictions.shape)"
   ]
  },
  {
   "cell_type": "markdown",
   "metadata": {},
   "source": [
    "### Conversion de la Salida del Modelo a un lista de Indices de Tags"
   ]
  },
  {
   "cell_type": "code",
   "execution_count": 41,
   "metadata": {},
   "outputs": [
    {
     "name": "stdout",
     "output_type": "stream",
     "text": [
      "rg\n",
      "[[u'rg', u'da0ms0', u'rg', u'sps00', u'Fp', '-PAD-', '-PAD-', '-PAD-', '-PAD-', '-PAD-', '-PAD-', '-PAD-', '-PAD-', '-PAD-', '-PAD-', '-PAD-', '-PAD-', '-PAD-', '-PAD-', '-PAD-', '-PAD-', '-PAD-', '-PAD-', '-PAD-', '-PAD-', '-PAD-', '-PAD-', '-PAD-', '-PAD-', '-PAD-', '-PAD-', '-PAD-', '-PAD-', '-PAD-', '-PAD-', '-PAD-', '-PAD-', '-PAD-', '-PAD-', '-PAD-', '-PAD-', '-PAD-', '-PAD-', '-PAD-', '-PAD-', '-PAD-', '-PAD-', '-PAD-', '-PAD-', '-PAD-', '-PAD-', '-PAD-', '-PAD-', '-PAD-', '-PAD-', '-PAD-', '-PAD-', '-PAD-', '-PAD-', '-PAD-', '-PAD-', '-PAD-', '-PAD-', '-PAD-', '-PAD-', '-PAD-', '-PAD-', '-PAD-', '-PAD-', '-PAD-', '-PAD-', '-PAD-', '-PAD-', '-PAD-', '-PAD-', '-PAD-', '-PAD-', '-PAD-', '-PAD-', '-PAD-', '-PAD-', '-PAD-', '-PAD-', '-PAD-', '-PAD-', '-PAD-', '-PAD-', '-PAD-', '-PAD-', '-PAD-', '-PAD-', '-PAD-', '-PAD-', '-PAD-', '-PAD-', '-PAD-', '-PAD-', '-PAD-', '-PAD-', '-PAD-', '-PAD-', '-PAD-', '-PAD-', '-PAD-', '-PAD-', '-PAD-', '-PAD-', '-PAD-', '-PAD-', '-PAD-', '-PAD-', '-PAD-', '-PAD-', '-PAD-', '-PAD-', '-PAD-', '-PAD-', '-PAD-', '-PAD-', '-PAD-', '-PAD-', '-PAD-', '-PAD-', '-PAD-', '-PAD-', '-PAD-', '-PAD-', '-PAD-', '-PAD-', '-PAD-', '-PAD-', '-PAD-', '-PAD-', '-PAD-', '-PAD-', '-PAD-', '-PAD-', '-PAD-', '-PAD-', '-PAD-', '-PAD-', '-PAD-', '-PAD-', '-PAD-', '-PAD-', '-PAD-', '-PAD-', '-PAD-', '-PAD-'], [u'da0ms0', u'ncms000', u'da0fp0', u'rg', u'Fc', u'Fc', u'Fc', u'sps00', u'da0ms0', u'ncfs000', u'sps00', u'ncfs000', u'Fp', u'Fp', '-PAD-', '-PAD-', '-PAD-', '-PAD-', '-PAD-', '-PAD-', '-PAD-', '-PAD-', '-PAD-', '-PAD-', '-PAD-', '-PAD-', '-PAD-', '-PAD-', '-PAD-', '-PAD-', '-PAD-', '-PAD-', '-PAD-', '-PAD-', '-PAD-', '-PAD-', '-PAD-', '-PAD-', '-PAD-', '-PAD-', '-PAD-', '-PAD-', '-PAD-', '-PAD-', '-PAD-', '-PAD-', '-PAD-', '-PAD-', '-PAD-', '-PAD-', '-PAD-', '-PAD-', '-PAD-', '-PAD-', '-PAD-', '-PAD-', '-PAD-', '-PAD-', '-PAD-', '-PAD-', '-PAD-', '-PAD-', '-PAD-', '-PAD-', '-PAD-', '-PAD-', '-PAD-', '-PAD-', '-PAD-', '-PAD-', '-PAD-', '-PAD-', '-PAD-', '-PAD-', '-PAD-', '-PAD-', '-PAD-', '-PAD-', '-PAD-', '-PAD-', '-PAD-', '-PAD-', '-PAD-', '-PAD-', '-PAD-', '-PAD-', '-PAD-', '-PAD-', '-PAD-', '-PAD-', '-PAD-', '-PAD-', '-PAD-', '-PAD-', '-PAD-', '-PAD-', '-PAD-', '-PAD-', '-PAD-', '-PAD-', '-PAD-', '-PAD-', '-PAD-', '-PAD-', '-PAD-', '-PAD-', '-PAD-', '-PAD-', '-PAD-', '-PAD-', '-PAD-', '-PAD-', '-PAD-', '-PAD-', '-PAD-', '-PAD-', '-PAD-', '-PAD-', '-PAD-', '-PAD-', '-PAD-', '-PAD-', '-PAD-', '-PAD-', '-PAD-', '-PAD-', '-PAD-', '-PAD-', '-PAD-', '-PAD-', '-PAD-', '-PAD-', '-PAD-', '-PAD-', '-PAD-', '-PAD-', '-PAD-', '-PAD-', '-PAD-', '-PAD-', '-PAD-', '-PAD-', '-PAD-', '-PAD-', '-PAD-', '-PAD-', '-PAD-', '-PAD-', '-PAD-']]\n"
     ]
    }
   ],
   "source": [
    "log_tokens = logits_to_tokens(predictions, {i: t for t, i in tag2index.items()})\n",
    "# JUS FOR CHECKING!!!! - IGNORE IT\n",
    "ll = {i: t for t, i in tag2index.items()}\n",
    "print(ll[np.argmax(predictions[0][0])])\n",
    "####################\n",
    "print(log_tokens)\n"
   ]
  },
  {
   "cell_type": "markdown",
   "metadata": {},
   "source": [
    "### Presentación de los Resultados"
   ]
  },
  {
   "cell_type": "code",
   "execution_count": 42,
   "metadata": {},
   "outputs": [
    {
     "name": "stdout",
     "output_type": "stream",
     "text": [
      "Correr    es      importante    para    mi    .\n",
      "--------  ------  ------------  ------  ----  -----\n",
      "rg        da0ms0  rg            sps00   Fp    -PAD-\n",
      "\n",
      "\n",
      "El hombre bajo corre bajo el puente con bajo índice de adrenalina . \n",
      "[[u'da0ms0', u'ncms000', u'da0fp0', u'rg', u'Fc', u'Fc', u'Fc', u'sps00', u'da0ms0', u'ncfs000', u'sps00', u'ncfs000', u'Fp']]\n"
     ]
    }
   ],
   "source": [
    "#!pip install tabulate\n",
    "from tabulate import tabulate\n",
    "\n",
    "heads1 = test_samples[0]\n",
    "body1 = [log_tokens[0][:len(test_samples[0])]]\n",
    "\n",
    "heads2 = test_samples[1]\n",
    "body2 = [log_tokens[1][:len(test_samples[1])]]\n",
    "\n",
    "print(tabulate(body1, headers=heads1))\n",
    "\n",
    "print (\"\\n\")\n",
    "\n",
    "print(goodPrint(heads2))\n",
    "print(body2)\n",
    "\n",
    "\n",
    "## postagging Freeling 4.1\n",
    "\n",
    "## El      hombre   bajo     corre    bajo  el      puente   con  bajo  índice   de  adrenalina  .\n",
    "## DA0MS0  NCMS000  AQ0MS00  VMIP3S0  SP    DA0MS0  NCMS000  SP   SP    NCMS000  SP  NCFS000     Fp\n",
    "\n",
    "\n",
    "## pos tagger Stanford NLP\n",
    "\n",
    "## El      hombre   bajo     corre    bajo  el      puente   con    bajo   índice  de    adrenalina  .\n",
    "## da0000  nc0s000  aq0000   vmip000  sp000 da0000  nc0s000  sp000  aq0000 nc0s000 sp000 nc0s000     fp"
   ]
  },
  {
   "cell_type": "code",
   "execution_count": null,
   "metadata": {},
   "outputs": [],
   "source": []
  }
 ],
 "metadata": {
  "kernelspec": {
   "display_name": "Python 3",
   "language": "python",
   "name": "python3"
  },
  "language_info": {
   "codemirror_mode": {
    "name": "ipython",
    "version": 2
   },
   "file_extension": ".py",
   "mimetype": "text/x-python",
   "name": "python",
   "nbconvert_exporter": "python",
   "pygments_lexer": "ipython2",
   "version": "2.7.17"
  }
 },
 "nbformat": 4,
 "nbformat_minor": 2
}
