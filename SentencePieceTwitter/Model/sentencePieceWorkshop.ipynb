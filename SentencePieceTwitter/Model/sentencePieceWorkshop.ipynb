{
 "cells": [
  {
   "cell_type": "markdown",
   "metadata": {},
   "source": [
    "# Sentence Tweets"
   ]
  },
  {
   "cell_type": "code",
   "execution_count": 13,
   "metadata": {},
   "outputs": [],
   "source": [
    "import sentencepiece as sp"
   ]
  },
  {
   "cell_type": "markdown",
   "metadata": {},
   "source": [
    "<h3>Word Model</h3>"
   ]
  },
  {
   "cell_type": "code",
   "execution_count": 14,
   "metadata": {},
   "outputs": [
    {
     "data": {
      "text/plain": [
       "True"
      ]
     },
     "execution_count": 14,
     "metadata": {},
     "output_type": "execute_result"
    }
   ],
   "source": [
    "sp.SentencePieceTrainer.train(\"--input=tweets_clean.txt --model_prefix=m_word --model_type=word --vocab_size=2000\")"
   ]
  },
  {
   "cell_type": "markdown",
   "metadata": {},
   "source": [
    "<h3>Sub-words Model</h3>"
   ]
  },
  {
   "cell_type": "code",
   "execution_count": 15,
   "metadata": {},
   "outputs": [
    {
     "data": {
      "text/plain": [
       "True"
      ]
     },
     "execution_count": 15,
     "metadata": {},
     "output_type": "execute_result"
    }
   ],
   "source": [
    "sp.SentencePieceTrainer.train('--input=tweets_clean.txt --model_prefix=m_user --user_defined_symbols=<sep>,<cls> --vocab_size=2000')"
   ]
  },
  {
   "cell_type": "code",
   "execution_count": 16,
   "metadata": {},
   "outputs": [],
   "source": [
    "spp = sp.SentencePieceProcessor()"
   ]
  },
  {
   "cell_type": "markdown",
   "metadata": {},
   "source": [
    "<h3>Specify the trained model</h3>"
   ]
  },
  {
   "cell_type": "code",
   "execution_count": 28,
   "metadata": {},
   "outputs": [
    {
     "data": {
      "text/plain": [
       "True"
      ]
     },
     "execution_count": 28,
     "metadata": {},
     "output_type": "execute_result"
    }
   ],
   "source": [
    "spp.load(\"m_user.model\")"
   ]
  },
  {
   "cell_type": "code",
   "execution_count": 29,
   "metadata": {},
   "outputs": [
    {
     "name": "stdout",
     "output_type": "stream",
     "text": [
      "▁Esto\n",
      "▁es\n",
      "▁una\n",
      "▁\n",
      "<sep>\n",
      "p\n",
      "ru\n",
      "e\n",
      "ba\n",
      "<cls>\n",
      "=== === === === === === ===\n",
      "[1128, 71, 118, 8, 3, 27, 198, 29, 161, 4]\n"
     ]
    }
   ],
   "source": [
    "# msg = \"#RealMadrid El mejor equipo del mundo @Sergio4Ramos g@y\"\n",
    "msg = \"Esto es una <sep>prueba<cls>\"\n",
    "\n",
    "r = spp.encode_as_pieces(msg)\n",
    "\n",
    "for i in range(len(r)):\n",
    "     print(r[i])\n",
    "\n",
    "print(\"=== === === === === === ===\")\n",
    "\n",
    "r_ids = spp.encode_as_ids(msg)\n",
    "print(r_ids)"
   ]
  },
  {
   "cell_type": "code",
   "execution_count": 30,
   "metadata": {},
   "outputs": [
    {
     "name": "stdout",
     "output_type": "stream",
     "text": [
      "Esto es una <sep>prueba<cls>\n",
      "Esto es una <sep>prueba<cls>\n"
     ]
    }
   ],
   "source": [
    "print(spp.decode_pieces(r))\n",
    "print(spp.decode_ids(r_ids))"
   ]
  }
 ],
 "metadata": {
  "kernelspec": {
   "display_name": "Python 3",
   "language": "python",
   "name": "python3"
  },
  "language_info": {
   "codemirror_mode": {
    "name": "ipython",
    "version": 2
   },
   "file_extension": ".py",
   "mimetype": "text/x-python",
   "name": "python",
   "nbconvert_exporter": "python",
   "pygments_lexer": "ipython2",
   "version": "2.7.17"
  }
 },
 "nbformat": 4,
 "nbformat_minor": 2
}
