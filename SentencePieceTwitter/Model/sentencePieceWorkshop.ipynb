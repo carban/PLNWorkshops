{
 "cells": [
  {
   "cell_type": "code",
   "execution_count": 130,
   "metadata": {},
   "outputs": [],
   "source": [
    "import sentencepiece as sp"
   ]
  },
  {
   "cell_type": "code",
   "execution_count": 141,
   "metadata": {},
   "outputs": [
    {
     "data": {
      "text/plain": [
       "True"
      ]
     },
     "execution_count": 141,
     "metadata": {},
     "output_type": "execute_result"
    }
   ],
   "source": [
    "sp.SentencePieceTrainer.train(\"--input=botchan.txt --model_prefix=m_word --model_type=word --vocab_size=2000\")"
   ]
  },
  {
   "cell_type": "code",
   "execution_count": 142,
   "metadata": {},
   "outputs": [],
   "source": [
    "spp = sp.SentencePieceProcessor()"
   ]
  },
  {
   "cell_type": "code",
   "execution_count": 143,
   "metadata": {},
   "outputs": [
    {
     "data": {
      "text/plain": [
       "True"
      ]
     },
     "execution_count": 143,
     "metadata": {},
     "output_type": "execute_result"
    }
   ],
   "source": [
    "spp.load(\"m_word.model\")"
   ]
  },
  {
   "cell_type": "code",
   "execution_count": 144,
   "metadata": {},
   "outputs": [
    {
     "name": "stdout",
     "output_type": "stream",
     "text": [
      "['\\xe2\\x96\\x81This', '\\xe2\\x96\\x81is', '\\xe2\\x96\\x81a', '\\xe2\\x96\\x81test']\n",
      "[106, 17, 8, 0]\n"
     ]
    }
   ],
   "source": [
    "# r = spWord.encode_as_pieces('#RealMadrid The best team with, @Sergio4Ramos, g@y')\n",
    "r = spp.encode_as_pieces('This is a test')\n",
    "print(r)\n",
    "r_ids = spp.encode_as_ids('This is a test')\n",
    "print(r_ids)"
   ]
  },
  {
   "cell_type": "code",
   "execution_count": 145,
   "metadata": {},
   "outputs": [
    {
     "name": "stdout",
     "output_type": "stream",
     "text": [
      "This is a▁test\n",
      "This is a ⁇ \n"
     ]
    }
   ],
   "source": [
    "print(spp.decode_pieces(r))\n",
    "print(spp.decode_ids(r_ids))"
   ]
  },
  {
   "cell_type": "code",
   "execution_count": null,
   "metadata": {},
   "outputs": [],
   "source": []
  }
 ],
 "metadata": {
  "kernelspec": {
   "display_name": "Python 3",
   "language": "python",
   "name": "python3"
  },
  "language_info": {
   "codemirror_mode": {
    "name": "ipython",
    "version": 2
   },
   "file_extension": ".py",
   "mimetype": "text/x-python",
   "name": "python",
   "nbconvert_exporter": "python",
   "pygments_lexer": "ipython2",
   "version": "2.7.17"
  }
 },
 "nbformat": 4,
 "nbformat_minor": 2
}
