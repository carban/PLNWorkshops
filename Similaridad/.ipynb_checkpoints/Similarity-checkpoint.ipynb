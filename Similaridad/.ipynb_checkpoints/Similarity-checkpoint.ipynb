{
 "cells": [
  {
   "cell_type": "markdown",
   "metadata": {},
   "source": [
    "# Similarity"
   ]
  },
  {
   "cell_type": "code",
   "execution_count": 2,
   "metadata": {},
   "outputs": [],
   "source": [
    "import numpy as np\n",
    "import tableprint as tp\n",
    "import matplotlib.pyplot as plt"
   ]
  },
  {
   "cell_type": "markdown",
   "metadata": {},
   "source": [
    "<img src=\"table.png\"></img>"
   ]
  },
  {
   "cell_type": "code",
   "execution_count": 3,
   "metadata": {},
   "outputs": [],
   "source": [
    "q = [13,0,0,22]"
   ]
  },
  {
   "cell_type": "code",
   "execution_count": 4,
   "metadata": {},
   "outputs": [],
   "source": [
    "car =       [27,4,24,q[0]]\n",
    "auto =      [3,33,0, q[1]]\n",
    "insurance = [0,33,29,q[2]]\n",
    "best =      [14,0,17,q[3]]\n",
    "\n",
    "m = np.array([car, auto, insurance, best])"
   ]
  },
  {
   "cell_type": "code",
   "execution_count": 5,
   "metadata": {},
   "outputs": [
    {
     "name": "stdout",
     "output_type": "stream",
     "text": [
      "╭─────────────┬─────────────┬─────────────┬─────────────╮\n",
      "│    doc1     │    doc2     │    doc3     │      Q      │\n",
      "├─────────────┼─────────────┼─────────────┼─────────────┤\n",
      "│          27 │           4 │          24 │          13 │\n",
      "│           3 │          33 │           0 │           0 │\n",
      "│           0 │          33 │          29 │           0 │\n",
      "│          14 │           0 │          17 │          22 │\n",
      "╰─────────────┴─────────────┴─────────────┴─────────────╯\n"
     ]
    }
   ],
   "source": [
    "tp.table(m, [\"doc1\",\"doc2\",\"doc3\",\"Q\"])"
   ]
  },
  {
   "cell_type": "markdown",
   "metadata": {},
   "source": [
    "<img src=\"formula.png\"></img>"
   ]
  },
  {
   "cell_type": "markdown",
   "metadata": {},
   "source": [
    "## Sim function"
   ]
  },
  {
   "cell_type": "code",
   "execution_count": 6,
   "metadata": {},
   "outputs": [],
   "source": [
    "def Sim(q, d):\n",
    "    p = 0; r1 = 0; r2 = 0\n",
    "    n = len(q)\n",
    "    for i in range(n):\n",
    "        p += q[i]*d[i]\n",
    "        r1 += q[i]**2 \n",
    "        r2 += d[i]**2       \n",
    "    return p / (r1**0.5 * r2**0.5)"
   ]
  },
  {
   "cell_type": "markdown",
   "metadata": {},
   "source": [
    "## Examples of Sim function"
   ]
  },
  {
   "cell_type": "code",
   "execution_count": 7,
   "metadata": {},
   "outputs": [
    {
     "data": {
      "image/png": "[encoded data removed]",
      "text/plain": [
       "<Figure size 432x288 with 1 Axes>"
      ]
     },
     "metadata": {
      "needs_background": "light"
     },
     "output_type": "display_data"
    }
   ],
   "source": [
    "tt = np.array([[0,0,1,1,1],     # x values\n",
    "               [1,-1,0,1,0.4]]) # y values\n",
    "\n",
    "origin = [0]\n",
    "\n",
    "plt.quiver(origin, origin, tt[0,:], tt[1,:], angles='xy', scale_units='xy', color=['r','b','g','m','k'], scale=1)\n",
    "plt.xlim(-1, 1)\n",
    "plt.ylim(-1, 1)\n",
    "\n",
    "plt.show()"
   ]
  },
  {
   "cell_type": "code",
   "execution_count": 8,
   "metadata": {},
   "outputs": [
    {
     "name": "stdout",
     "output_type": "stream",
     "text": [
      "Red vs Green: 0.0\n",
      "Red vs Blue: -1.0\n",
      "Magenta vs Green: 0.707106781187\n",
      "Green vs Black: 0.928476690885\n",
      "Green vs Green: 1.0\n"
     ]
    }
   ],
   "source": [
    "print(\"Red vs Green: \"+str(Sim([0,1],[1,0])))\n",
    "print(\"Red vs Blue: \"+str(Sim([1,0],[-1,0])))\n",
    "print(\"Magenta vs Green: \"+str(Sim([1,1],[1,0])))\n",
    "print(\"Green vs Black: \"+str(Sim([1,0],[1,0.4])))\n",
    "print(\"Green vs Green: \"+str(Sim([1,0],[1,0])))"
   ]
  },
  {
   "cell_type": "markdown",
   "metadata": {},
   "source": [
    "## Q vector Comparisions\n",
    "<b>with words: car, auto, insurance, best</b>"
   ]
  },
  {
   "cell_type": "code",
   "execution_count": 9,
   "metadata": {},
   "outputs": [
    {
     "name": "stdout",
     "output_type": "stream",
     "text": [
      "q vs doc1 => 0.8438308246122534\n",
      "q vs doc2 => 0.043443863589962876\n",
      "q vs doc3 => 0.6499471020028795\n"
     ]
    }
   ],
   "source": [
    "for i in range(len(car)-1):\n",
    "    print(\"q vs doc\"+str(i+1)+\" => \"+str(Sim(q, m[:,i])))"
   ]
  },
  {
   "cell_type": "markdown",
   "metadata": {},
   "source": [
    "## Graphically Comparisons"
   ]
  },
  {
   "cell_type": "code",
   "execution_count": 25,
   "metadata": {},
   "outputs": [
    {
     "data": {
      "image/png": "[encoded data removed]",
      "text/plain": [
       "<Figure size 432x288 with 1 Axes>"
      ]
     },
     "metadata": {
      "needs_background": "light"
     },
     "output_type": "display_data"
    },
    {
     "name": "stdout",
     "output_type": "stream",
     "text": [
      "('Doc1 = Red', 'Doc2 = Blue', 'Doc3 = Green', 'Q = Magenta')\n"
     ]
    }
   ],
   "source": [
    "plt.quiver(m[0,:], m[1,:], m[2,:], m[3,:], angles='xy', scale_units='xy', color=['r','b','g','m'], scale=1)\n",
    "plt.xlim(-0.5, 55)\n",
    "plt.ylim(-1, 38)\n",
    "plt.show()\n",
    "print(\"Doc1 = Red\", \"Doc2 = Blue\", \"Doc3 = Green\", \"Q = Magenta\")"
   ]
  },
  {
   "cell_type": "markdown",
   "metadata": {},
   "source": [
    "## Focusing only on \"car\" and \"best\""
   ]
  },
  {
   "cell_type": "code",
   "execution_count": 11,
   "metadata": {},
   "outputs": [],
   "source": [
    "cb_car =  [27,4,24,q[0]]\n",
    "cb_best = [14,0,17,q[3]]\n",
    "\n",
    "q2 = [q[0],q[3]] #[13,22]\n",
    "\n",
    "m2 = np.array([cb_car, cb_best])"
   ]
  },
  {
   "cell_type": "code",
   "execution_count": 12,
   "metadata": {},
   "outputs": [
    {
     "name": "stdout",
     "output_type": "stream",
     "text": [
      "╭─────────────┬─────────────┬─────────────┬─────────────╮\n",
      "│    doc1     │    doc2     │    doc3     │      Q      │\n",
      "├─────────────┼─────────────┼─────────────┼─────────────┤\n",
      "│          27 │           4 │          24 │          13 │\n",
      "│          14 │           0 │          17 │          22 │\n",
      "╰─────────────┴─────────────┴─────────────┴─────────────╯\n"
     ]
    }
   ],
   "source": [
    "tp.table(m2, [\"doc1\",\"doc2\",\"doc3\",\"Q\"])"
   ]
  },
  {
   "cell_type": "code",
   "execution_count": 13,
   "metadata": {},
   "outputs": [
    {
     "name": "stdout",
     "output_type": "stream",
     "text": [
      "q2 vs doc1 => 0.8479260103930238\n",
      "q2 vs doc2 => 0.508729312126641\n",
      "q2 vs doc3 => 0.9127660353950324\n"
     ]
    }
   ],
   "source": [
    "for i in range(len(cb_car)-1):\n",
    "    print(\"q2 vs doc\"+str(i+1)+\" => \"+str(Sim(q2, m2[:,i])))"
   ]
  },
  {
   "cell_type": "code",
   "execution_count": 26,
   "metadata": {},
   "outputs": [
    {
     "data": {
      "image/png": "[encoded data removed]",
      "text/plain": [
       "<Figure size 432x288 with 1 Axes>"
      ]
     },
     "metadata": {
      "needs_background": "light"
     },
     "output_type": "display_data"
    },
    {
     "name": "stdout",
     "output_type": "stream",
     "text": [
      "('Doc1 = Red', 'Doc2 = Blue', 'Doc3 = Green', 'Q = Magenta')\n"
     ]
    }
   ],
   "source": [
    "plt.quiver(origin, origin, m2[0,:], m2[1,:], angles='xy', scale_units='xy', color=['r','b','g','m'], scale=1)\n",
    "plt.xlim(-1, 28)\n",
    "plt.ylim(-1, 23)\n",
    "plt.xlabel('car',fontsize=20)\n",
    "plt.ylabel('best',fontsize=20)\n",
    "\n",
    "plt.show()\n",
    "print(\"Doc1 = Red\", \"Doc2 = Blue\", \"Doc3 = Green\", \"Q = Magenta\")"
   ]
  },
  {
   "cell_type": "code",
   "execution_count": null,
   "metadata": {},
   "outputs": [],
   "source": []
  }
 ],
 "metadata": {
  "kernelspec": {
   "display_name": "Python 3",
   "language": "python",
   "name": "python3"
  },
  "language_info": {
   "codemirror_mode": {
    "name": "ipython",
    "version": 2
   },
   "file_extension": ".py",
   "mimetype": "text/x-python",
   "name": "python",
   "nbconvert_exporter": "python",
   "pygments_lexer": "ipython2",
   "version": "2.7.17"
  }
 },
 "nbformat": 4,
 "nbformat_minor": 2
}
