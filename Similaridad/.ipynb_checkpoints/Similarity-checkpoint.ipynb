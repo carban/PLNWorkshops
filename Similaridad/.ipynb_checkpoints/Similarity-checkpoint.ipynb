{
 "cells": [
  {
   "cell_type": "markdown",
   "metadata": {},
   "source": [
    "# Similarity"
   ]
  },
  {
   "cell_type": "code",
   "execution_count": 3,
   "metadata": {},
   "outputs": [],
   "source": [
    "import numpy as np\n",
    "import matplotlib.pyplot as plt"
   ]
  },
  {
   "cell_type": "markdown",
   "metadata": {},
   "source": [
    "<img src=\"table.png\"></img>"
   ]
  },
  {
   "cell_type": "code",
   "execution_count": 4,
   "metadata": {},
   "outputs": [],
   "source": [
    "car =       [27,4,24]\n",
    "auto =      [3,33,0]\n",
    "insurance = [0,33,29]\n",
    "best =      [14,0,17]\n",
    "\n",
    "m = np.array([car, auto, insurance, best])"
   ]
  },
  {
   "cell_type": "code",
   "execution_count": 5,
   "metadata": {},
   "outputs": [
    {
     "name": "stdout",
     "output_type": "stream",
     "text": [
      "[27  4 24]\n",
      "[27  3  0 14]\n"
     ]
    }
   ],
   "source": [
    "print(m[0,:])\n",
    "print(m[:,0])"
   ]
  },
  {
   "attachments": {},
   "cell_type": "markdown",
   "metadata": {},
   "source": [
    "<img src=\"formula.png\"></img>"
   ]
  },
  {
   "cell_type": "markdown",
   "metadata": {},
   "source": [
    "# Sim function"
   ]
  },
  {
   "cell_type": "code",
   "execution_count": 6,
   "metadata": {},
   "outputs": [],
   "source": [
    "def Sim(q, d):\n",
    "    p = 0; r1 = 0; r2 = 0\n",
    "    n = len(q)\n",
    "    for i in range(n):\n",
    "        p += q[i]*d[i]\n",
    "        r1 += q[i]**2 \n",
    "        r2 += d[i]**2       \n",
    "    return p / (r1**0.5 * r2**0.5)"
   ]
  },
  {
   "cell_type": "markdown",
   "metadata": {},
   "source": [
    "# q vector"
   ]
  },
  {
   "cell_type": "code",
   "execution_count": 7,
   "metadata": {},
   "outputs": [],
   "source": [
    "q = [13,0,0,22]"
   ]
  },
  {
   "cell_type": "code",
   "execution_count": 8,
   "metadata": {},
   "outputs": [
    {
     "name": "stdout",
     "output_type": "stream",
     "text": [
      "q vs doc1 => 0.8438308246122534\n",
      "q vs doc2 => 0.043443863589962876\n",
      "q vs doc3 => 0.6499471020028795\n"
     ]
    }
   ],
   "source": [
    "for i in range(3):\n",
    "    print(\"q vs doc\"+str(i+1)+\" => \"+str(Sim(q, m[:,i])))"
   ]
  },
  {
   "cell_type": "code",
   "execution_count": 9,
   "metadata": {},
   "outputs": [],
   "source": [
    "mm = np.array([[27,4,24,13], [3,33,0,0], [0,33,29,0], [14,0,17,22]])"
   ]
  },
  {
   "cell_type": "code",
   "execution_count": 10,
   "metadata": {},
   "outputs": [
    {
     "data": {
      "image/png": "[encoded data removed]",
      "text/plain": [
       "<Figure size 432x288 with 1 Axes>"
      ]
     },
     "metadata": {
      "needs_background": "light"
     },
     "output_type": "display_data"
    }
   ],
   "source": [
    "plt.quiver(mm[0,:], mm[1,:], mm[2,:], mm[3,:], angles='xy', scale_units='xy', color=['r','b','g','m'], scale=1)\n",
    "plt.xlim(-1, 58)\n",
    "plt.ylim(-1, 58)\n",
    "plt.xlabel('car')\n",
    "plt.ylabel('best')\n",
    "\n",
    "plt.show()"
   ]
  },
  {
   "cell_type": "markdown",
   "metadata": {},
   "source": [
    "## Focusing only on \"car\" and \"best\""
   ]
  },
  {
   "cell_type": "code",
   "execution_count": 11,
   "metadata": {},
   "outputs": [],
   "source": [
    "q2 = [13,22]\n",
    "m2 = np.array([[27,14],\n",
    "                [4,0],\n",
    "                [24,17]])"
   ]
  },
  {
   "cell_type": "code",
   "execution_count": 12,
   "metadata": {},
   "outputs": [
    {
     "name": "stdout",
     "output_type": "stream",
     "text": [
      "q2 vs doc1 => 0.8479260103930238\n",
      "q2 vs doc2 => 0.508729312126641\n",
      "q2 vs doc3 => 0.9127660353950324\n"
     ]
    }
   ],
   "source": [
    "for i in range(3):\n",
    "    print(\"q2 vs doc\"+str(i+1)+\" => \"+str(Sim(q2, m2[i,:])))"
   ]
  },
  {
   "cell_type": "code",
   "execution_count": 13,
   "metadata": {},
   "outputs": [],
   "source": [
    "gm = np.array([[0,0,0,0],     # Origins x\n",
    "               [0,0,0,0],     # Origins y\n",
    "               [27,4,24,13],  # x values\n",
    "               [14,0,17,22]]) # y values"
   ]
  },
  {
   "cell_type": "code",
   "execution_count": 14,
   "metadata": {},
   "outputs": [
    {
     "data": {
      "image/png": "[encoded data removed]",
      "text/plain": [
       "<Figure size 432x288 with 1 Axes>"
      ]
     },
     "metadata": {
      "needs_background": "light"
     },
     "output_type": "display_data"
    }
   ],
   "source": [
    "plt.quiver(gm[0,:], gm[1,:], gm[2,:], gm[3,:], angles='xy', scale_units='xy', color=['r','b','g','m'], scale=1)\n",
    "plt.xlim(-1, 28)\n",
    "plt.ylim(-1, 28)\n",
    "plt.xlabel('car')\n",
    "plt.ylabel('best')\n",
    "\n",
    "plt.show()"
   ]
  }
 ],
 "metadata": {
  "kernelspec": {
   "display_name": "Python 3",
   "language": "python",
   "name": "python3"
  },
  "language_info": {
   "codemirror_mode": {
    "name": "ipython",
    "version": 2
   },
   "file_extension": ".py",
   "mimetype": "text/x-python",
   "name": "python",
   "nbconvert_exporter": "python",
   "pygments_lexer": "ipython2",
   "version": "2.7.17"
  }
 },
 "nbformat": 4,
 "nbformat_minor": 2
}
