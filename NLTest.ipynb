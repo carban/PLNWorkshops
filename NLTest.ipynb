{
 "cells": [
  {
   "cell_type": "markdown",
   "metadata": {},
   "source": [
    "## Tweet Tokenizer"
   ]
  },
  {
   "cell_type": "code",
   "execution_count": 8,
   "metadata": {},
   "outputs": [],
   "source": [
    "from nltk.tokenize import TweetTokenizer"
   ]
  },
  {
   "cell_type": "markdown",
   "metadata": {},
   "source": [
    "## Rest Api"
   ]
  },
  {
   "cell_type": "code",
   "execution_count": 9,
   "metadata": {},
   "outputs": [],
   "source": [
    "import requests, json\n",
    "url = 'http://127.0.0.1:5080/postagging/'"
   ]
  },
  {
   "cell_type": "code",
   "execution_count": 10,
   "metadata": {},
   "outputs": [],
   "source": [
    "tk = TweetTokenizer()"
   ]
  },
  {
   "cell_type": "code",
   "execution_count": 11,
   "metadata": {},
   "outputs": [
    {
     "name": "stdout",
     "output_type": "stream",
     "text": [
      "Ya tenemos al #JugadorCincoEstrellas del @realmadrid en febrero. Y es ¡@viniciusjr! ¡Enhorabuena! :-P ¡Gracias a todos por vuestros votos! :-D\n"
     ]
    }
   ],
   "source": [
    "text = \"Ya tenemos al #JugadorCincoEstrellas del @realmadrid en febrero. Y es ¡@viniciusjr! ¡Enhorabuena! :-P ¡Gracias a todos por vuestros votos! :-D\"\n",
    "# text = \"El hombre bajo toca el bajo bajo la escalera\"\n",
    "print(text)"
   ]
  },
  {
   "cell_type": "code",
   "execution_count": 12,
   "metadata": {},
   "outputs": [
    {
     "name": "stdout",
     "output_type": "stream",
     "text": [
      " --- Total:27 ---\n",
      "Ya\n",
      "tenemos\n",
      "al\n",
      "#JugadorCincoEstrellas\n",
      "del\n",
      "@realmadrid\n",
      "en\n",
      "febrero\n",
      ".\n",
      "Y\n",
      "es\n",
      "¡\n",
      "@viniciusjr\n",
      "!\n",
      "¡\n",
      "Enhorabuena\n",
      "!\n",
      ":-P\n",
      "¡\n",
      "Gracias\n",
      "a\n",
      "todos\n",
      "por\n",
      "vuestros\n",
      "votos\n",
      "!\n",
      ":-D\n"
     ]
    }
   ],
   "source": [
    "splitted = tk.tokenize(text)\n",
    "\n",
    "print(\" --- Total:\" + str(len(splitted)) + \" ---\")\n",
    "\n",
    "for i in splitted:\n",
    "    print(i)"
   ]
  },
  {
   "cell_type": "code",
   "execution_count": 13,
   "metadata": {},
   "outputs": [
    {
     "name": "stdout",
     "output_type": "stream",
     "text": [
      "{\n",
      "   \"texto\": {\n",
      "      \"24\": \"vuestros\", \n",
      "      \"25\": \"votos\", \n",
      "      \"26\": \"!\", \n",
      "      \"27\": \":-D\", \n",
      "      \"20\": \"Gracias\", \n",
      "      \"21\": \"a\", \n",
      "      \"22\": \"todos\", \n",
      "      \"23\": \"por\", \n",
      "      \"1\": \"Ya\", \n",
      "      \"3\": \"al\", \n",
      "      \"2\": \"tenemos\", \n",
      "      \"5\": \"del\", \n",
      "      \"4\": \"#JugadorCincoEstrellas\", \n",
      "      \"7\": \"en\", \n",
      "      \"6\": \"@realmadrid\", \n",
      "      \"9\": \".\", \n",
      "      \"8\": \"febrero\", \n",
      "      \"11\": \"es\", \n",
      "      \"10\": \"Y\", \n",
      "      \"13\": \"@viniciusjr\", \n",
      "      \"12\": \"\\u00a1\", \n",
      "      \"15\": \"\\u00a1\", \n",
      "      \"14\": \"!\", \n",
      "      \"17\": \"!\", \n",
      "      \"16\": \"Enhorabuena\", \n",
      "      \"19\": \"\\u00a1\", \n",
      "      \"18\": \":-P\"\n",
      "   }\n",
      "}\n"
     ]
    }
   ],
   "source": [
    "iteradata = {}\n",
    "for i in range(0, len(splitted)):\n",
    "    iteradata[str(i+1)] = splitted[i]\n",
    "\n",
    "data = {}\n",
    "data['texto'] = iteradata\n",
    "print(json.dumps(data, indent=3))"
   ]
  },
  {
   "cell_type": "code",
   "execution_count": 14,
   "metadata": {},
   "outputs": [
    {
     "name": "stdout",
     "output_type": "stream",
     "text": [
      "{u'texto': u'[{\"palabra\": \"Ya\", \"lemas\": [{\"categoria\": \"RG\", \"lema\": \"ya\"}, {\"categoria\": \"CS\", \"lema\": \"ya\"}]}, {\"palabra\": \"tenemos\", \"lemas\": [{\"categoria\": \"VMIP1P0\", \"lema\": \"tener\"}]}, {\"palabra\": \"a\", \"lemas\": [{\"categoria\": \"SP\", \"lema\": \"a\"}]}, {\"palabra\": \"el\", \"lemas\": [{\"categoria\": \"DA0MS0\", \"lema\": \"el\"}]}, {\"palabra\": \"#JugadorCincoEstrellas\", \"lemas\": [{\"categoria\": \"NCFP000\", \"lema\": \"#jugadorcincoestrellas\"}]}, {\"palabra\": \"de\", \"lemas\": [{\"categoria\": \"SP\", \"lema\": \"de\"}]}, {\"palabra\": \"el\", \"lemas\": [{\"categoria\": \"DA0MS0\", \"lema\": \"el\"}]}, {\"palabra\": \"@realmadrid\", \"lemas\": [{\"categoria\": \"NCMS000\", \"lema\": \"@realmadrid\"}, {\"categoria\": \"VMM02P0\", \"lema\": \"@realmadrid\"}]}, {\"palabra\": \"en\", \"lemas\": [{\"categoria\": \"SP\", \"lema\": \"en\"}]}, {\"palabra\": \"febrero\", \"lemas\": [{\"categoria\": \"W\", \"lema\": \"[??:??/2/??:??.??:??]\"}]}, {\"palabra\": \".\", \"lemas\": [{\"categoria\": \"Fp\", \"lema\": \".\"}]}, {\"palabra\": \"Y\", \"lemas\": [{\"categoria\": \"CC\", \"lema\": \"y\"}, {\"categoria\": \"NCFS000\", \"lema\": \"y\"}]}, {\"palabra\": \"es\", \"lemas\": [{\"categoria\": \"VSIP3S0\", \"lema\": \"ser\"}]}, {\"palabra\": \"\\xa1\", \"lemas\": [{\"categoria\": \"Faa\", \"lema\": \"\\xa1\"}]}, {\"palabra\": \"@viniciusjr\", \"lemas\": [{\"categoria\": \"VMN0000\", \"lema\": \"@viniciusjr\"}, {\"categoria\": \"NCMS000\", \"lema\": \"@viniciusjr\"}, {\"categoria\": \"AQ0CS00\", \"lema\": \"@viniciusjr\"}, {\"categoria\": \"RG\", \"lema\": \"@viniciusjr\"}, {\"categoria\": \"NCCS000\", \"lema\": \"@viniciusjr\"}, {\"categoria\": \"NCFS000\", \"lema\": \"@viniciusjr\"}, {\"categoria\": \"AQ0MS00\", \"lema\": \"@viniciusjr\"}, {\"categoria\": \"VMIP3S0\", \"lema\": \"@viniciusjr\"}, {\"categoria\": \"VMIS3S0\", \"lema\": \"@viniciusjr\"}]}, {\"palabra\": \"!\", \"lemas\": [{\"categoria\": \"Fat\", \"lema\": \"!\"}]}, {\"palabra\": \"\\xa1\", \"lemas\": [{\"categoria\": \"Faa\", \"lema\": \"\\xa1\"}]}, {\"palabra\": \"Enhorabuena\", \"lemas\": [{\"categoria\": \"RG\", \"lema\": \"enhorabuena\"}, {\"categoria\": \"NCFS000\", \"lema\": \"enhorabuena\"}, {\"categoria\": \"NP00000\", \"lema\": \"enhorabuena\"}]}, {\"palabra\": \"!\", \"lemas\": [{\"categoria\": \"Fat\", \"lema\": \"!\"}]}, {\"palabra\": \":-P\", \"lemas\": [{\"categoria\": \"NCMS000\", \"lema\": \":-p\"}, {\"categoria\": \"AQ0CN00\", \"lema\": \":-p\"}, {\"categoria\": \"RG\", \"lema\": \":-p\"}]}, {\"palabra\": \"\\xa1\", \"lemas\": [{\"categoria\": \"Faa\", \"lema\": \"\\xa1\"}]}, {\"palabra\": \"Gracias_a\", \"lemas\": [{\"categoria\": \"SP\", \"lema\": \"gracias_a\"}]}, {\"palabra\": \"todos\", \"lemas\": [{\"categoria\": \"DI0MP0\", \"lema\": \"todo\"}, {\"categoria\": \"PI0MP00\", \"lema\": \"todo\"}, {\"categoria\": \"NCMP000\", \"lema\": \"todo\"}]}, {\"palabra\": \"por\", \"lemas\": [{\"categoria\": \"SP\", \"lema\": \"por\"}]}, {\"palabra\": \"vuestros\", \"lemas\": [{\"categoria\": \"DP2MPP\", \"lema\": \"vuestro\"}, {\"categoria\": \"AP0MP2P\", \"lema\": \"vuestro\"}]}, {\"palabra\": \"votos\", \"lemas\": [{\"categoria\": \"NCMP000\", \"lema\": \"voto\"}]}, {\"palabra\": \"!\", \"lemas\": [{\"categoria\": \"Fat\", \"lema\": \"!\"}]}, {\"palabra\": \":-D\", \"lemas\": [{\"categoria\": \"NCFS000\", \"lema\": \":-d\"}, {\"categoria\": \"NCMS000\", \"lema\": \":-d\"}, {\"categoria\": \"RG\", \"lema\": \":-d\"}, {\"categoria\": \"AQ0CN00\", \"lema\": \":-d\"}]}]'}\n"
     ]
    }
   ],
   "source": [
    "response = requests.post(url, data=json.dumps(data), headers={\"Content-Type\": \"application/json\"})\n",
    "# print(json.dumps(response.json(), indent=3))\n",
    "print(response.json())"
   ]
  },
  {
   "cell_type": "code",
   "execution_count": 15,
   "metadata": {},
   "outputs": [],
   "source": [
    "import sentencepiece as sp"
   ]
  }
 ],
 "metadata": {
  "kernelspec": {
   "display_name": "Python 2",
   "language": "python",
   "name": "python2"
  },
  "language_info": {
   "codemirror_mode": {
    "name": "ipython",
    "version": 2
   },
   "file_extension": ".py",
   "mimetype": "text/x-python",
   "name": "python",
   "nbconvert_exporter": "python",
   "pygments_lexer": "ipython2",
   "version": "2.7.17"
  }
 },
 "nbformat": 4,
 "nbformat_minor": 2
}
