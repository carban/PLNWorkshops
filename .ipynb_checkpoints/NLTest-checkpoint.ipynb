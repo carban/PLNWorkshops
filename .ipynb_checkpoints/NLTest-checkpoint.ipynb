{
 "cells": [
  {
   "cell_type": "markdown",
   "metadata": {},
   "source": [
    "## Tweet Tokenizer"
   ]
  },
  {
   "cell_type": "code",
   "execution_count": 2,
   "metadata": {},
   "outputs": [],
   "source": [
    "from nltk.tokenize import TweetTokenizer"
   ]
  },
  {
   "cell_type": "markdown",
   "metadata": {},
   "source": [
    "## Rest Api"
   ]
  },
  {
   "cell_type": "code",
   "execution_count": 3,
   "metadata": {},
   "outputs": [],
   "source": [
    "import requests, json\n",
    "url = 'http://127.0.0.1:5080/postagging/'"
   ]
  },
  {
   "cell_type": "code",
   "execution_count": 4,
   "metadata": {},
   "outputs": [],
   "source": [
    "tk = TweetTokenizer()"
   ]
  },
  {
   "cell_type": "code",
   "execution_count": 5,
   "metadata": {},
   "outputs": [
    {
     "name": "stdout",
     "output_type": "stream",
     "text": [
      "El hombre bajo toca el bajo bajo la escalera\n"
     ]
    }
   ],
   "source": [
    "# text = \"Ya tenemos al #JugadorCincoEstrellas del @realmadrid en febrero. Y es ¡@viniciusjr! ¡Enhorabuena! :-P ¡Gracias a todos por vuestros votos! :-D\"\n",
    "text = \"El hombre bajo toca el bajo bajo la escalera\"\n",
    "print(text)"
   ]
  },
  {
   "cell_type": "code",
   "execution_count": 6,
   "metadata": {},
   "outputs": [
    {
     "name": "stdout",
     "output_type": "stream",
     "text": [
      " --- Total:9 ---\n",
      "El\n",
      "hombre\n",
      "bajo\n",
      "toca\n",
      "el\n",
      "bajo\n",
      "bajo\n",
      "la\n",
      "escalera\n"
     ]
    }
   ],
   "source": [
    "splitted = tk.tokenize(text)\n",
    "\n",
    "print(\" --- Total:\" + str(len(splitted)) + \" ---\")\n",
    "\n",
    "for i in splitted:\n",
    "    print(i)"
   ]
  },
  {
   "cell_type": "code",
   "execution_count": 7,
   "metadata": {},
   "outputs": [
    {
     "name": "stdout",
     "output_type": "stream",
     "text": [
      "{\n",
      "   \"texto\": {\n",
      "      \"1\": \"El\", \n",
      "      \"3\": \"bajo\", \n",
      "      \"2\": \"hombre\", \n",
      "      \"5\": \"el\", \n",
      "      \"4\": \"toca\", \n",
      "      \"7\": \"bajo\", \n",
      "      \"6\": \"bajo\", \n",
      "      \"9\": \"escalera\", \n",
      "      \"8\": \"la\"\n",
      "   }\n",
      "}\n"
     ]
    }
   ],
   "source": [
    "iteradata = {}\n",
    "for i in range(0, len(splitted)):\n",
    "    iteradata[str(i+1)] = splitted[i]\n",
    "\n",
    "data = {}\n",
    "data['texto'] = iteradata\n",
    "print(json.dumps(data, indent=3))"
   ]
  },
  {
   "cell_type": "code",
   "execution_count": 8,
   "metadata": {},
   "outputs": [
    {
     "name": "stdout",
     "output_type": "stream",
     "text": [
      "{u'texto': u'[{\"palabra\": \"El\", \"lemas\": [{\"categoria\": \"DA0MS0\", \"lema\": \"el\"}]}, {\"palabra\": \"hombre\", \"lemas\": [{\"categoria\": \"NCMS000\", \"lema\": \"hombre\"}, {\"categoria\": \"I\", \"lema\": \"hombre\"}]}, {\"palabra\": \"bajo\", \"lemas\": [{\"categoria\": \"SP\", \"lema\": \"bajo\"}, {\"categoria\": \"AQ0MS00\", \"lema\": \"bajo\"}, {\"categoria\": \"VMIP1S0\", \"lema\": \"bajar\"}, {\"categoria\": \"NCMS000\", \"lema\": \"bajo\"}, {\"categoria\": \"RG\", \"lema\": \"bajo\"}]}, {\"palabra\": \"toca\", \"lemas\": [{\"categoria\": \"VMIP3S0\", \"lema\": \"tocar\"}, {\"categoria\": \"NCFS000\", \"lema\": \"toca\"}, {\"categoria\": \"VMM02S0\", \"lema\": \"tocar\"}]}, {\"palabra\": \"el\", \"lemas\": [{\"categoria\": \"DA0MS0\", \"lema\": \"el\"}]}, {\"palabra\": \"bajo\", \"lemas\": [{\"categoria\": \"SP\", \"lema\": \"bajo\"}, {\"categoria\": \"AQ0MS00\", \"lema\": \"bajo\"}, {\"categoria\": \"VMIP1S0\", \"lema\": \"bajar\"}, {\"categoria\": \"NCMS000\", \"lema\": \"bajo\"}, {\"categoria\": \"RG\", \"lema\": \"bajo\"}]}, {\"palabra\": \"bajo\", \"lemas\": [{\"categoria\": \"SP\", \"lema\": \"bajo\"}, {\"categoria\": \"AQ0MS00\", \"lema\": \"bajo\"}, {\"categoria\": \"VMIP1S0\", \"lema\": \"bajar\"}, {\"categoria\": \"NCMS000\", \"lema\": \"bajo\"}, {\"categoria\": \"RG\", \"lema\": \"bajo\"}]}, {\"palabra\": \"la\", \"lemas\": [{\"categoria\": \"DA0FS0\", \"lema\": \"el\"}, {\"categoria\": \"PP3FSA0\", \"lema\": \"lo\"}, {\"categoria\": \"NCMS000\", \"lema\": \"la\"}]}, {\"palabra\": \"escalera\", \"lemas\": [{\"categoria\": \"NCFS000\", \"lema\": \"escalera\"}]}]'}\n"
     ]
    }
   ],
   "source": [
    "response = requests.post(url, data=json.dumps(data), headers={\"Content-Type\": \"application/json\"})\n",
    "# print(json.dumps(response.json(), indent=3))\n",
    "print(response.json())"
   ]
  },
  {
   "cell_type": "code",
   "execution_count": 1,
   "metadata": {},
   "outputs": [],
   "source": [
    "import sentencepiece as sp"
   ]
  },
  {
   "cell_type": "code",
   "execution_count": null,
   "metadata": {},
   "outputs": [],
   "source": []
  }
 ],
 "metadata": {
  "kernelspec": {
   "display_name": "Python 2",
   "language": "python",
   "name": "python2"
  },
  "language_info": {
   "codemirror_mode": {
    "name": "ipython",
    "version": 2
   },
   "file_extension": ".py",
   "mimetype": "text/x-python",
   "name": "python",
   "nbconvert_exporter": "python",
   "pygments_lexer": "ipython2",
   "version": "2.7.17"
  }
 },
 "nbformat": 4,
 "nbformat_minor": 2
}
